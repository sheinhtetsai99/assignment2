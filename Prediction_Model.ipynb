{
  "cells": [
    {
      "cell_type": "code",
      "execution_count": 1,
      "metadata": {
        "gather": {
          "logged": 1711459595622
        }
      },
      "outputs": [],
      "source": [
        "import azureml.core\n",
        "from azureml.core import Workspace\n",
        "import os\n",
        "from azureml.core import Run\n",
        "import pandas as pd\n",
        "from azureml.core import Dataset\n",
        "from sklearn.model_selection import train_test_split\n",
        "import statistics\n",
        "import numpy as np\n",
        "from sklearn.metrics import mean_squared_error, mean_absolute_error\n",
        "from sklearn.ensemble import RandomForestRegressor"
      ]
    },
    {
      "cell_type": "code",
      "execution_count": 2,
      "metadata": {
        "gather": {
          "logged": 1711459596811
        },
        "jupyter": {
          "outputs_hidden": false,
          "source_hidden": false
        },
        "nteract": {
          "transient": {
            "deleting": false
          }
        }
      },
      "outputs": [],
      "source": [
        "# Import the necessary libraries\n",
        "import numpy as np\n",
        "import pandas as pd\n",
        "import os\n",
        "import time\n",
        "import warnings\n",
        "import gc\n",
        "gc.collect()\n",
        "import os\n",
        "# from six.moves import urllib\n",
        "import matplotlib\n",
        "import matplotlib.pyplot as plt\n",
        "# import seaborn as sns\n",
        "import datetime\n",
        "warnings.filterwarnings('ignore')\n",
        "%matplotlib inline\n",
        "# plt.style.use('seaborn')\n",
        "from scipy.stats import norm, skew\n",
        "from sklearn.preprocessing import StandardScaler"
      ]
    },
    {
      "cell_type": "code",
      "execution_count": 3,
      "metadata": {
        "gather": {
          "logged": 1711459598265
        },
        "jupyter": {
          "outputs_hidden": false,
          "source_hidden": false
        },
        "nteract": {
          "transient": {
            "deleting": false
          }
        }
      },
      "outputs": [],
      "source": [
        "#Add All the Models Libraries\n",
        "\n",
        "# Scalers\n",
        "from sklearn.utils import shuffle\n",
        "from sklearn.pipeline import Pipeline\n",
        "from sklearn.pipeline import FeatureUnion\n",
        "\n",
        "# Models\n",
        "\n",
        "from sklearn.linear_model import Lasso\n",
        "from sklearn.metrics import mean_squared_log_error,mean_squared_error, r2_score,mean_absolute_error\n",
        "\n",
        "from sklearn.model_selection import train_test_split #training and testing data split\n",
        "from sklearn import metrics #accuracy measure\n",
        "from sklearn.metrics import confusion_matrix #for confusion matrix\n",
        "from scipy.stats import reciprocal, uniform\n",
        "\n",
        "from sklearn.model_selection import StratifiedKFold, RepeatedKFold\n",
        "\n",
        "# Cross-validation\n",
        "from sklearn.model_selection import KFold #for K-fold cross validation\n",
        "from sklearn.model_selection import cross_val_score #score evaluation\n",
        "from sklearn.model_selection import cross_val_predict #prediction\n",
        "from sklearn.model_selection import cross_validate\n",
        "\n",
        "# GridSearchCV\n",
        "from sklearn.model_selection import GridSearchCV\n",
        "from sklearn.model_selection import RandomizedSearchCV\n",
        "\n",
        "#Common data processors\n",
        "from sklearn.preprocessing import OneHotEncoder, LabelEncoder\n",
        "from sklearn import feature_selection\n",
        "from sklearn import model_selection\n",
        "from sklearn import metrics\n",
        "from sklearn.base import BaseEstimator, TransformerMixin\n",
        "from sklearn.utils import check_array\n",
        "from scipy import sparse"
      ]
    },
    {
      "cell_type": "code",
      "execution_count": 4,
      "metadata": {
        "gather": {
          "logged": 1711459599181
        },
        "jupyter": {
          "outputs_hidden": false,
          "source_hidden": false
        },
        "nteract": {
          "transient": {
            "deleting": false
          }
        }
      },
      "outputs": [],
      "source": [
        "ws = Workspace.from_config()"
      ]
    },
    {
      "cell_type": "code",
      "execution_count": 5,
      "metadata": {
        "gather": {
          "logged": 1711459600528
        },
        "jupyter": {
          "outputs_hidden": false,
          "source_hidden": false
        },
        "nteract": {
          "transient": {
            "deleting": false
          }
        }
      },
      "outputs": [],
      "source": [
        "run = Run.get_context()"
      ]
    },
    {
      "cell_type": "code",
      "execution_count": 6,
      "metadata": {
        "gather": {
          "logged": 1711443666179
        },
        "jupyter": {
          "outputs_hidden": false,
          "source_hidden": false
        },
        "nteract": {
          "transient": {
            "deleting": false
          }
        }
      },
      "outputs": [],
      "source": [
        "# to make this notebook's output stable across runs\n",
        "np.random.seed(123)\n",
        "gc.collect()\n",
        "# To plot pretty figures\n",
        "%matplotlib inline\n",
        "plt.rcParams['axes.labelsize'] = 14\n",
        "plt.rcParams['xtick.labelsize'] = 12\n",
        "plt.rcParams['ytick.labelsize'] = 12"
      ]
    },
    {
      "cell_type": "code",
      "execution_count": 11,
      "metadata": {
        "gather": {
          "logged": 1711336586725
        },
        "jupyter": {
          "outputs_hidden": false,
          "source_hidden": false
        },
        "nteract": {
          "transient": {
            "deleting": false
          }
        }
      },
      "outputs": [],
      "source": [
        "#Reduce the memory usage - Inspired by Panchajanya Banerjee\n",
        "def reduce_mem_usage(df, verbose=True):\n",
        "    numerics = ['int16', 'int32', 'int64', 'float16', 'float32', 'float64']\n",
        "    start_mem = df.memory_usage().sum() / 1024**2    \n",
        "    for col in df.columns:\n",
        "        col_type = df[col].dtypes\n",
        "        if col_type in numerics:\n",
        "            c_min = df[col].min()\n",
        "            c_max = df[col].max()\n",
        "            if str(col_type)[:3] == 'int':\n",
        "                if c_min > np.iinfo(np.int8).min and c_max < np.iinfo(np.int8).max:\n",
        "                    df[col] = df[col].astype(np.int8)\n",
        "                elif c_min > np.iinfo(np.int16).min and c_max < np.iinfo(np.int16).max:\n",
        "                    df[col] = df[col].astype(np.int16)\n",
        "                elif c_min > np.iinfo(np.int32).min and c_max < np.iinfo(np.int32).max:\n",
        "                    df[col] = df[col].astype(np.int32)\n",
        "                elif c_min > np.iinfo(np.int64).min and c_max < np.iinfo(np.int64).max:\n",
        "                    df[col] = df[col].astype(np.int64)  \n",
        "            else:\n",
        "                if c_min > np.finfo(np.float16).min and c_max < np.finfo(np.float16).max:\n",
        "                    df[col] = df[col].astype(np.float16)\n",
        "                elif c_min > np.finfo(np.float32).min and c_max < np.finfo(np.float32).max:\n",
        "                    df[col] = df[col].astype(np.float32)\n",
        "                else:\n",
        "                    df[col] = df[col].astype(np.float64)    \n",
        "    end_mem = df.memory_usage().sum() / 1024**2\n",
        "    if verbose: print('Mem. usage decreased to {:5.2f} Mb ({:.1f}% reduction)'.format(end_mem, 100 * (start_mem - end_mem) / start_mem))\n",
        "    return df"
      ]
    },
    {
      "cell_type": "code",
      "execution_count": 12,
      "metadata": {
        "gather": {
          "logged": 1711336593468
        },
        "jupyter": {
          "outputs_hidden": false,
          "source_hidden": false
        },
        "nteract": {
          "transient": {
            "deleting": false
          }
        }
      },
      "outputs": [],
      "source": [
        "def one_hot_encoder(df, nan_as_category=True):\n",
        "    original_columns = df.columns.tolist()\n",
        "\n",
        "    categorical_columns = list(filter(lambda c: c in ['object'], df.dtypes))\n",
        "    df = pd.get_dummies(df, columns=categorical_columns, dummy_na=nan_as_category)\n",
        "\n",
        "    new_columns = list(filter(lambda c: c not in original_columns, df.columns))\n",
        "    return df, new_columns"
      ]
    },
    {
      "cell_type": "code",
      "execution_count": 13,
      "metadata": {
        "gather": {
          "logged": 1711336686582
        },
        "jupyter": {
          "outputs_hidden": false,
          "source_hidden": false
        },
        "nteract": {
          "transient": {
            "deleting": false
          }
        }
      },
      "outputs": [
        {
          "name": "stdout",
          "output_type": "stream",
          "text": [
            "Mem. usage decreased to  4.04 Mb (56.2% reduction)\n",
            "Mem. usage decreased to  2.24 Mb (52.5% reduction)\n"
          ]
        }
      ],
      "source": [
        "train = reduce_mem_usage(pd.read_csv('azureml://subscriptions/a15355bc-32e5-4151-bb4c-a2ecff532aa1/resourcegroups/ml/workspaces/MLL/datastores/workspaceblobstore/paths/UI/2024-03-24_084703_UTC/train.csv',parse_dates=[\"first_active_month\"]))\n",
        "test = reduce_mem_usage(pd.read_csv('azureml://subscriptions/a15355bc-32e5-4151-bb4c-a2ecff532aa1/resourcegroups/ML/workspaces/MLL/datastores/workspaceblobstore/paths/UI/2024-03-20_141609_UTC/test.csv', parse_dates=[\"first_active_month\"]))"
      ]
    },
    {
      "cell_type": "code",
      "execution_count": 15,
      "metadata": {
        "gather": {
          "logged": 1711336698731
        },
        "jupyter": {
          "outputs_hidden": false,
          "source_hidden": false
        },
        "nteract": {
          "transient": {
            "deleting": false
          }
        }
      },
      "outputs": [
        {
          "data": {
            "text/html": [
              "<div>\n",
              "<style scoped>\n",
              "    .dataframe tbody tr th:only-of-type {\n",
              "        vertical-align: middle;\n",
              "    }\n",
              "\n",
              "    .dataframe tbody tr th {\n",
              "        vertical-align: top;\n",
              "    }\n",
              "\n",
              "    .dataframe thead th {\n",
              "        text-align: right;\n",
              "    }\n",
              "</style>\n",
              "<table border=\"1\" class=\"dataframe\">\n",
              "  <thead>\n",
              "    <tr style=\"text-align: right;\">\n",
              "      <th></th>\n",
              "      <th>first_active_month</th>\n",
              "      <th>card_id</th>\n",
              "      <th>feature_1</th>\n",
              "      <th>feature_2</th>\n",
              "      <th>feature_3</th>\n",
              "      <th>target</th>\n",
              "    </tr>\n",
              "  </thead>\n",
              "  <tbody>\n",
              "    <tr>\n",
              "      <th>0</th>\n",
              "      <td>2017-06-01</td>\n",
              "      <td>C_ID_92a2005557</td>\n",
              "      <td>5</td>\n",
              "      <td>2</td>\n",
              "      <td>1</td>\n",
              "      <td>-0.820312</td>\n",
              "    </tr>\n",
              "    <tr>\n",
              "      <th>1</th>\n",
              "      <td>2017-01-01</td>\n",
              "      <td>C_ID_3d0044924f</td>\n",
              "      <td>4</td>\n",
              "      <td>1</td>\n",
              "      <td>0</td>\n",
              "      <td>0.392822</td>\n",
              "    </tr>\n",
              "    <tr>\n",
              "      <th>2</th>\n",
              "      <td>2016-08-01</td>\n",
              "      <td>C_ID_d639edf6cd</td>\n",
              "      <td>2</td>\n",
              "      <td>2</td>\n",
              "      <td>0</td>\n",
              "      <td>0.687988</td>\n",
              "    </tr>\n",
              "    <tr>\n",
              "      <th>3</th>\n",
              "      <td>2017-09-01</td>\n",
              "      <td>C_ID_186d6a6901</td>\n",
              "      <td>4</td>\n",
              "      <td>3</td>\n",
              "      <td>0</td>\n",
              "      <td>0.142456</td>\n",
              "    </tr>\n",
              "    <tr>\n",
              "      <th>4</th>\n",
              "      <td>2017-11-01</td>\n",
              "      <td>C_ID_cdbd2c0db2</td>\n",
              "      <td>1</td>\n",
              "      <td>3</td>\n",
              "      <td>0</td>\n",
              "      <td>-0.159790</td>\n",
              "    </tr>\n",
              "    <tr>\n",
              "      <th>...</th>\n",
              "      <td>...</td>\n",
              "      <td>...</td>\n",
              "      <td>...</td>\n",
              "      <td>...</td>\n",
              "      <td>...</td>\n",
              "      <td>...</td>\n",
              "    </tr>\n",
              "    <tr>\n",
              "      <th>201912</th>\n",
              "      <td>2017-09-01</td>\n",
              "      <td>C_ID_963962de2c</td>\n",
              "      <td>3</td>\n",
              "      <td>2</td>\n",
              "      <td>1</td>\n",
              "      <td>-2.740234</td>\n",
              "    </tr>\n",
              "    <tr>\n",
              "      <th>201913</th>\n",
              "      <td>2015-10-01</td>\n",
              "      <td>C_ID_1314773c0b</td>\n",
              "      <td>3</td>\n",
              "      <td>1</td>\n",
              "      <td>1</td>\n",
              "      <td>0.312988</td>\n",
              "    </tr>\n",
              "    <tr>\n",
              "      <th>201914</th>\n",
              "      <td>2017-08-01</td>\n",
              "      <td>C_ID_7666735b3d</td>\n",
              "      <td>4</td>\n",
              "      <td>3</td>\n",
              "      <td>0</td>\n",
              "      <td>0.093506</td>\n",
              "    </tr>\n",
              "    <tr>\n",
              "      <th>201915</th>\n",
              "      <td>2016-07-01</td>\n",
              "      <td>C_ID_73f5a0efd0</td>\n",
              "      <td>3</td>\n",
              "      <td>2</td>\n",
              "      <td>1</td>\n",
              "      <td>-4.675781</td>\n",
              "    </tr>\n",
              "    <tr>\n",
              "      <th>201916</th>\n",
              "      <td>2017-07-01</td>\n",
              "      <td>C_ID_92c9984c58</td>\n",
              "      <td>3</td>\n",
              "      <td>1</td>\n",
              "      <td>1</td>\n",
              "      <td>-1.859375</td>\n",
              "    </tr>\n",
              "  </tbody>\n",
              "</table>\n",
              "<p>201917 rows × 6 columns</p>\n",
              "</div>"
            ],
            "text/plain": [
              "       first_active_month          card_id  feature_1  feature_2  feature_3  \\\n",
              "0              2017-06-01  C_ID_92a2005557          5          2          1   \n",
              "1              2017-01-01  C_ID_3d0044924f          4          1          0   \n",
              "2              2016-08-01  C_ID_d639edf6cd          2          2          0   \n",
              "3              2017-09-01  C_ID_186d6a6901          4          3          0   \n",
              "4              2017-11-01  C_ID_cdbd2c0db2          1          3          0   \n",
              "...                   ...              ...        ...        ...        ...   \n",
              "201912         2017-09-01  C_ID_963962de2c          3          2          1   \n",
              "201913         2015-10-01  C_ID_1314773c0b          3          1          1   \n",
              "201914         2017-08-01  C_ID_7666735b3d          4          3          0   \n",
              "201915         2016-07-01  C_ID_73f5a0efd0          3          2          1   \n",
              "201916         2017-07-01  C_ID_92c9984c58          3          1          1   \n",
              "\n",
              "          target  \n",
              "0      -0.820312  \n",
              "1       0.392822  \n",
              "2       0.687988  \n",
              "3       0.142456  \n",
              "4      -0.159790  \n",
              "...          ...  \n",
              "201912 -2.740234  \n",
              "201913  0.312988  \n",
              "201914  0.093506  \n",
              "201915 -4.675781  \n",
              "201916 -1.859375  \n",
              "\n",
              "[201917 rows x 6 columns]"
            ]
          },
          "execution_count": 15,
          "metadata": {},
          "output_type": "execute_result"
        }
      ],
      "source": [
        "train.shape\n",
        "train"
      ]
    },
    {
      "cell_type": "code",
      "execution_count": 19,
      "metadata": {
        "gather": {
          "logged": 1711336787963
        },
        "jupyter": {
          "outputs_hidden": false,
          "source_hidden": false
        },
        "nteract": {
          "transient": {
            "deleting": false
          }
        }
      },
      "outputs": [
        {
          "name": "stdout",
          "output_type": "stream",
          "text": [
            "<class 'pandas.core.frame.DataFrame'>\n",
            "RangeIndex: 201917 entries, 0 to 201916\n",
            "Data columns (total 7 columns):\n",
            " #   Column              Non-Null Count   Dtype         \n",
            "---  ------              --------------   -----         \n",
            " 0   first_active_month  201917 non-null  datetime64[ns]\n",
            " 1   card_id             201917 non-null  object        \n",
            " 2   feature_1           201917 non-null  float64       \n",
            " 3   feature_2           201917 non-null  float64       \n",
            " 4   feature_3           201917 non-null  float64       \n",
            " 5   target              201917 non-null  float16       \n",
            " 6   outliers            201917 non-null  int64         \n",
            "dtypes: datetime64[ns](1), float16(1), float64(3), int64(1), object(1)\n",
            "memory usage: 9.6+ MB\n"
          ]
        }
      ],
      "source": [
        "train.info()"
      ]
    },
    {
      "cell_type": "code",
      "execution_count": 17,
      "metadata": {
        "gather": {
          "logged": 1711336748121
        },
        "jupyter": {
          "outputs_hidden": false,
          "source_hidden": false
        },
        "nteract": {
          "transient": {
            "deleting": false
          }
        }
      },
      "outputs": [],
      "source": [
        "# Remove the Outliers if any \n",
        "train['outliers'] = 0\n",
        "train.loc[train['target'] < -30, 'outliers'] = 1\n",
        "train['outliers'].value_counts()\n",
        "\n",
        "for features in ['feature_1','feature_2','feature_3']:\n",
        "    order_label = train.groupby([features])['outliers'].mean()\n",
        "    train[features] = train[features].map(order_label)\n",
        "    test[features] =  test[features].map(order_label)"
      ]
    },
    {
      "cell_type": "code",
      "execution_count": 53,
      "metadata": {
        "gather": {
          "logged": 1711338607258
        },
        "jupyter": {
          "outputs_hidden": false,
          "source_hidden": false
        },
        "nteract": {
          "transient": {
            "deleting": false
          }
        }
      },
      "outputs": [
        {
          "data": {
            "text/plain": [
              "21"
            ]
          },
          "execution_count": 53,
          "metadata": {},
          "output_type": "execute_result"
        }
      ],
      "source": [
        "# Now extract the days and Qtr\n",
        "\n",
        "train['days'] = (datetime.datetime(2018,2,1) - (train['first_active_month'].dt.date).apply(pd.Timestamp)).dt.days\n",
        "train['quarter'] = train['first_active_month'].dt.quarter\n",
        "\n",
        "feature_cols = ['feature_1', 'feature_2', 'feature_3']\n",
        "for f in feature_cols:\n",
        "    train['days_' + f] = train['days'] * train[f]\n",
        "    train['days_' + f + '_ratio'] = train[f] / train['days']\n",
        "\n",
        "test['days'] = (datetime.datetime(2018,2,1) - (test['first_active_month'].dt.date).apply(pd.Timestamp)).dt.days\n",
        "test['quarter'] = test['first_active_month'].dt.quarter\n",
        "\n",
        "feature_cols = ['feature_1', 'feature_2', 'feature_3']\n",
        "for f in feature_cols:\n",
        "    test['days_' + f] = test['days'] * test[f]\n",
        "    test['days_' + f + '_ratio'] = test[f] / test['days']\n",
        "\n",
        "gc.collect()"
      ]
    },
    {
      "cell_type": "code",
      "execution_count": 55,
      "metadata": {
        "gather": {
          "logged": 1711338725363
        },
        "jupyter": {
          "outputs_hidden": false,
          "source_hidden": false
        },
        "nteract": {
          "transient": {
            "deleting": false
          }
        }
      },
      "outputs": [],
      "source": [
        "def aggregate_transaction_hist(trans, prefix):  \n",
        "        \n",
        "    agg_func = {\n",
        "        'purchase_amount' : ['sum','max','min','mean','var','skew'],\n",
        "        'installments' : ['sum','max','mean','var','skew'],\n",
        "        'purchase_date' : ['max','min'],\n",
        "        'month_lag' : ['max','min','mean','var','skew'],\n",
        "        'month_diff' : ['max','min','mean','var','skew'],\n",
        "        'weekend' : ['sum', 'mean'],\n",
        "        'weekday' : ['sum', 'mean'],\n",
        "        'authorized_flag': ['sum', 'mean'],\n",
        "        'category_1': ['sum','mean', 'max','min'],\n",
        "        'card_id' : ['size','count'],\n",
        "        'month': ['nunique', 'mean', 'min', 'max'],\n",
        "        'hour': ['nunique', 'mean', 'min', 'max'],\n",
        "        'weekofyear': ['nunique', 'mean', 'min', 'max'],\n",
        "        'day': ['nunique', 'mean', 'min', 'max'],\n",
        "        'subsector_id': ['nunique'],\n",
        "        'merchant_category_id' : ['nunique'],\n",
        "        'price' :['sum','mean','max','min','var'],\n",
        "        'duration' : ['mean','min','max','var','skew'],\n",
        "        'amount_month_ratio':['mean','min','max','var','skew']\n",
        "        \n",
        "    }\n",
        "    \n",
        "    agg_trans = trans.groupby(['card_id']).agg(agg_func)\n",
        "    agg_trans.columns = [prefix + '_'.join(col).strip() \n",
        "                           for col in agg_trans.columns.values]\n",
        "    agg_trans.reset_index(inplace=True)\n",
        "    \n",
        "    df = (trans.groupby('card_id')\n",
        "          .size()\n",
        "          .reset_index(name='{}transactions_count'.format(prefix)))\n",
        "    \n",
        "    agg_trans = pd.merge(df, agg_trans, on='card_id', how='left')\n",
        "    \n",
        "    return agg_trans"
      ]
    },
    {
      "cell_type": "code",
      "execution_count": 56,
      "metadata": {
        "gather": {
          "logged": 1711338809709
        },
        "jupyter": {
          "outputs_hidden": false,
          "source_hidden": false
        },
        "nteract": {
          "transient": {
            "deleting": false
          }
        }
      },
      "outputs": [
        {
          "name": "stdout",
          "output_type": "stream",
          "text": [
            "Mem. usage decreased to 1749.11 Mb (43.7% reduction)\n"
          ]
        },
        {
          "data": {
            "text/plain": [
              "1645"
            ]
          },
          "execution_count": 56,
          "metadata": {},
          "output_type": "execute_result"
        }
      ],
      "source": [
        "transactions = reduce_mem_usage(pd.read_csv('azureml://subscriptions/a15355bc-32e5-4151-bb4c-a2ecff532aa1/resourcegroups/ML/workspaces/MLL/datastores/workspaceblobstore/paths/UI/2024-03-24_085850_UTC/historical_transactions.csv'))\n",
        "gc.collect()"
      ]
    },
    {
      "cell_type": "code",
      "execution_count": 60,
      "metadata": {
        "gather": {
          "logged": 1711339108073
        },
        "jupyter": {
          "outputs_hidden": false,
          "source_hidden": false
        },
        "nteract": {
          "transient": {
            "deleting": false
          }
        }
      },
      "outputs": [
        {
          "data": {
            "text/plain": [
              "38770"
            ]
          },
          "execution_count": 60,
          "metadata": {},
          "output_type": "execute_result"
        }
      ],
      "source": [
        "#impute missing values - This is now excluded.\n",
        "transactions['category_2'] = transactions['category_2'].fillna(1.0,inplace=True)\n",
        "transactions['category_3'] = transactions['category_3'].fillna('A',inplace=True)\n",
        "transactions['merchant_id'] = transactions['merchant_id'].fillna('M_ID_00a6ca8a8a',inplace=True)\n",
        "transactions['installments'].replace(-1, np.nan,inplace=True)\n",
        "transactions['installments'].replace(999, np.nan,inplace=True)\n",
        "transactions['purchase_amount'] = transactions['purchase_amount'].apply(lambda x: min(x, 0.8))\n",
        "\n",
        "#Feature Engineering - Adding new features inspired by Chau's first kernel\n",
        "transactions['authorized_flag'] = transactions['authorized_flag'].map({'Y': 1, 'N': 0})\n",
        "transactions['category_1'] = transactions['category_1'].map({'Y': 1, 'N': 0})\n",
        "transactions['category_3'] = transactions['category_3'].map({'A':0, 'B':1, 'C':2})\n",
        "\n",
        "transactions['purchase_date'] = pd.to_datetime(transactions['purchase_date'])\n",
        "transactions['weekofyear'] = transactions['purchase_date'].dt.isocalendar().week\n",
        "transactions['month'] = transactions['purchase_date'].dt.month\n",
        "transactions['day'] = transactions['purchase_date'].dt.day\n",
        "transactions['weekday'] = transactions.purchase_date.dt.weekday\n",
        "transactions['weekend'] = (transactions.purchase_date.dt.weekday >=5).astype(int)\n",
        "transactions['hour'] = transactions['purchase_date'].dt.hour \n",
        "transactions['month_diff'] = ((datetime.datetime.today() - transactions['purchase_date']).dt.days)//30\n",
        "transactions['month_diff'] += transactions['month_lag']\n",
        "\n",
        "# additional features\n",
        "transactions['duration'] = transactions['purchase_amount']*transactions['month_diff']\n",
        "transactions['amount_month_ratio'] = transactions['purchase_amount']/transactions['month_diff']\n",
        "transactions['price'] = transactions['purchase_amount'] / transactions['installments']\n",
        "\n",
        "gc.collect()"
      ]
    },
    {
      "cell_type": "code",
      "execution_count": 61,
      "metadata": {
        "gather": {
          "logged": 1711339141062
        },
        "jupyter": {
          "outputs_hidden": false,
          "source_hidden": false
        },
        "nteract": {
          "transient": {
            "deleting": false
          }
        }
      },
      "outputs": [
        {
          "data": {
            "text/plain": [
              "0"
            ]
          },
          "execution_count": 61,
          "metadata": {},
          "output_type": "execute_result"
        }
      ],
      "source": [
        "agg_func = {\n",
        "        'mean': ['mean'],\n",
        "    }\n",
        "for col in ['category_2','category_3']:\n",
        "    transactions[col+'_mean'] = transactions['purchase_amount'].groupby(transactions[col]).agg('mean')\n",
        "    transactions[col+'_max'] = transactions['purchase_amount'].groupby(transactions[col]).agg('max')\n",
        "    transactions[col+'_min'] = transactions['purchase_amount'].groupby(transactions[col]).agg('min')\n",
        "    transactions[col+'_sum'] = transactions['purchase_amount'].groupby(transactions[col]).agg('sum')\n",
        "    agg_func[col+'_mean'] = ['mean']\n",
        "    \n",
        "gc.collect()"
      ]
    },
    {
      "cell_type": "code",
      "execution_count": 62,
      "metadata": {
        "gather": {
          "logged": 1711339376365
        },
        "jupyter": {
          "outputs_hidden": false,
          "source_hidden": false
        },
        "nteract": {
          "transient": {
            "deleting": false
          }
        }
      },
      "outputs": [
        {
          "data": {
            "text/plain": [
              "32"
            ]
          },
          "execution_count": 62,
          "metadata": {},
          "output_type": "execute_result"
        }
      ],
      "source": [
        "merge_trans = aggregate_transaction_hist(transactions, prefix='hist_')\n",
        "del transactions\n",
        "gc.collect()\n",
        "train = pd.merge(train, merge_trans, on='card_id',how='left')\n",
        "test = pd.merge(test, merge_trans, on='card_id',how='left')\n",
        "del merge_trans\n",
        "gc.collect()"
      ]
    },
    {
      "cell_type": "code",
      "execution_count": 64,
      "metadata": {
        "gather": {
          "logged": 1711339447049
        },
        "jupyter": {
          "outputs_hidden": false,
          "source_hidden": false
        },
        "nteract": {
          "transient": {
            "deleting": false
          }
        }
      },
      "outputs": [
        {
          "data": {
            "text/plain": [
              "547"
            ]
          },
          "execution_count": 64,
          "metadata": {},
          "output_type": "execute_result"
        }
      ],
      "source": [
        "#Feature Engineering - Adding new features inspired by Chau's first kernel\n",
        "train['hist_purchase_date_max'] = pd.to_datetime(train['hist_purchase_date_max'])\n",
        "train['hist_purchase_date_min'] = pd.to_datetime(train['hist_purchase_date_min'])\n",
        "train['hist_purchase_date_diff'] = (train['hist_purchase_date_max'] - train['hist_purchase_date_min']).dt.days\n",
        "train['hist_purchase_date_average'] = train['hist_purchase_date_diff']/train['hist_card_id_size']\n",
        "train['hist_purchase_date_uptonow'] = (datetime.datetime.today() - train['hist_purchase_date_max']).dt.days\n",
        "train['hist_purchase_date_uptomin'] = (datetime.datetime.today() - train['hist_purchase_date_min']).dt.days\n",
        "train['hist_first_buy'] = (train['hist_purchase_date_min'] - train['first_active_month']).dt.days\n",
        "train['hist_last_buy'] = (train['hist_purchase_date_max'] - train['first_active_month']).dt.days\n",
        "\n",
        "for feature in ['hist_purchase_date_max','hist_purchase_date_min']:\n",
        "    train[feature] = train[feature].astype(np.int64) * 1e-9\n",
        "gc.collect()"
      ]
    },
    {
      "cell_type": "code",
      "execution_count": 65,
      "metadata": {
        "gather": {
          "logged": 1711339456402
        },
        "jupyter": {
          "outputs_hidden": false,
          "source_hidden": false
        },
        "nteract": {
          "transient": {
            "deleting": false
          }
        }
      },
      "outputs": [
        {
          "data": {
            "text/plain": [
              "105"
            ]
          },
          "execution_count": 65,
          "metadata": {},
          "output_type": "execute_result"
        }
      ],
      "source": [
        "#Feature Engineering - Adding new features inspired by Chau's first kernel\n",
        "test['hist_purchase_date_max'] = pd.to_datetime(test['hist_purchase_date_max'])\n",
        "test['hist_purchase_date_min'] = pd.to_datetime(test['hist_purchase_date_min'])\n",
        "test['hist_purchase_date_diff'] = (test['hist_purchase_date_max'] - test['hist_purchase_date_min']).dt.days\n",
        "test['hist_purchase_date_average'] = test['hist_purchase_date_diff']/test['hist_card_id_size']\n",
        "test['hist_purchase_date_uptonow'] = (datetime.datetime.today() - test['hist_purchase_date_max']).dt.days\n",
        "test['hist_purchase_date_uptomin'] = (datetime.datetime.today() - test['hist_purchase_date_min']).dt.days\n",
        "\n",
        "test['hist_first_buy'] = (test['hist_purchase_date_min'] - test['first_active_month']).dt.days\n",
        "test['hist_last_buy'] = (test['hist_purchase_date_max'] - test['first_active_month']).dt.days\n",
        "\n",
        "for feature in ['hist_purchase_date_max','hist_purchase_date_min']:\n",
        "    test[feature] = test[feature].astype(np.int64) * 1e-9\n",
        "\n",
        "gc.collect()"
      ]
    },
    {
      "cell_type": "code",
      "execution_count": 66,
      "metadata": {
        "gather": {
          "logged": 1711339464270
        },
        "jupyter": {
          "outputs_hidden": false,
          "source_hidden": false
        },
        "nteract": {
          "transient": {
            "deleting": false
          }
        }
      },
      "outputs": [
        {
          "data": {
            "text/html": [
              "<div>\n",
              "<style scoped>\n",
              "    .dataframe tbody tr th:only-of-type {\n",
              "        vertical-align: middle;\n",
              "    }\n",
              "\n",
              "    .dataframe tbody tr th {\n",
              "        vertical-align: top;\n",
              "    }\n",
              "\n",
              "    .dataframe thead th {\n",
              "        text-align: right;\n",
              "    }\n",
              "</style>\n",
              "<table border=\"1\" class=\"dataframe\">\n",
              "  <thead>\n",
              "    <tr style=\"text-align: right;\">\n",
              "      <th></th>\n",
              "      <th>first_active_month</th>\n",
              "      <th>card_id</th>\n",
              "      <th>feature_1</th>\n",
              "      <th>feature_2</th>\n",
              "      <th>feature_3</th>\n",
              "      <th>target</th>\n",
              "      <th>outliers</th>\n",
              "      <th>days</th>\n",
              "      <th>quarter</th>\n",
              "      <th>days_feature_1</th>\n",
              "      <th>...</th>\n",
              "      <th>hist_amount_month_ratio_min</th>\n",
              "      <th>hist_amount_month_ratio_max</th>\n",
              "      <th>hist_amount_month_ratio_var</th>\n",
              "      <th>hist_amount_month_ratio_skew</th>\n",
              "      <th>hist_purchase_date_diff</th>\n",
              "      <th>hist_purchase_date_average</th>\n",
              "      <th>hist_purchase_date_uptonow</th>\n",
              "      <th>hist_purchase_date_uptomin</th>\n",
              "      <th>hist_first_buy</th>\n",
              "      <th>hist_last_buy</th>\n",
              "    </tr>\n",
              "  </thead>\n",
              "  <tbody>\n",
              "    <tr>\n",
              "      <th>0</th>\n",
              "      <td>2017-06-01</td>\n",
              "      <td>C_ID_92a2005557</td>\n",
              "      <td>0.013145</td>\n",
              "      <td>0.008752</td>\n",
              "      <td>0.011428</td>\n",
              "      <td>-0.820312</td>\n",
              "      <td>0</td>\n",
              "      <td>245</td>\n",
              "      <td>2</td>\n",
              "      <td>3.220431</td>\n",
              "      <td>...</td>\n",
              "      <td>-0.010108</td>\n",
              "      <td>0.010811</td>\n",
              "      <td>0.000004</td>\n",
              "      <td>5.125630</td>\n",
              "      <td>242</td>\n",
              "      <td>0.930769</td>\n",
              "      <td>2219</td>\n",
              "      <td>2462</td>\n",
              "      <td>26</td>\n",
              "      <td>269</td>\n",
              "    </tr>\n",
              "    <tr>\n",
              "      <th>1</th>\n",
              "      <td>2017-01-01</td>\n",
              "      <td>C_ID_3d0044924f</td>\n",
              "      <td>0.010712</td>\n",
              "      <td>0.011385</td>\n",
              "      <td>0.010283</td>\n",
              "      <td>0.392822</td>\n",
              "      <td>0</td>\n",
              "      <td>396</td>\n",
              "      <td>1</td>\n",
              "      <td>4.241790</td>\n",
              "      <td>...</td>\n",
              "      <td>-0.010012</td>\n",
              "      <td>0.010667</td>\n",
              "      <td>0.000010</td>\n",
              "      <td>3.740298</td>\n",
              "      <td>390</td>\n",
              "      <td>1.114286</td>\n",
              "      <td>2244</td>\n",
              "      <td>2634</td>\n",
              "      <td>5</td>\n",
              "      <td>395</td>\n",
              "    </tr>\n",
              "    <tr>\n",
              "      <th>2</th>\n",
              "      <td>2016-08-01</td>\n",
              "      <td>C_ID_d639edf6cd</td>\n",
              "      <td>0.010610</td>\n",
              "      <td>0.008752</td>\n",
              "      <td>0.010283</td>\n",
              "      <td>0.687988</td>\n",
              "      <td>0</td>\n",
              "      <td>549</td>\n",
              "      <td>3</td>\n",
              "      <td>5.824829</td>\n",
              "      <td>...</td>\n",
              "      <td>-0.009867</td>\n",
              "      <td>-0.001998</td>\n",
              "      <td>0.000001</td>\n",
              "      <td>5.659705</td>\n",
              "      <td>412</td>\n",
              "      <td>9.581395</td>\n",
              "      <td>2217</td>\n",
              "      <td>2629</td>\n",
              "      <td>163</td>\n",
              "      <td>575</td>\n",
              "    </tr>\n",
              "    <tr>\n",
              "      <th>3</th>\n",
              "      <td>2017-09-01</td>\n",
              "      <td>C_ID_186d6a6901</td>\n",
              "      <td>0.010712</td>\n",
              "      <td>0.014166</td>\n",
              "      <td>0.010283</td>\n",
              "      <td>0.142456</td>\n",
              "      <td>0</td>\n",
              "      <td>153</td>\n",
              "      <td>3</td>\n",
              "      <td>1.638874</td>\n",
              "      <td>...</td>\n",
              "      <td>-0.010108</td>\n",
              "      <td>0.010811</td>\n",
              "      <td>0.000007</td>\n",
              "      <td>5.736835</td>\n",
              "      <td>154</td>\n",
              "      <td>2.000000</td>\n",
              "      <td>2216</td>\n",
              "      <td>2371</td>\n",
              "      <td>25</td>\n",
              "      <td>180</td>\n",
              "    </tr>\n",
              "    <tr>\n",
              "      <th>4</th>\n",
              "      <td>2017-11-01</td>\n",
              "      <td>C_ID_cdbd2c0db2</td>\n",
              "      <td>0.008058</td>\n",
              "      <td>0.014166</td>\n",
              "      <td>0.010283</td>\n",
              "      <td>-0.159790</td>\n",
              "      <td>0</td>\n",
              "      <td>92</td>\n",
              "      <td>4</td>\n",
              "      <td>0.741381</td>\n",
              "      <td>...</td>\n",
              "      <td>-0.010088</td>\n",
              "      <td>0.010959</td>\n",
              "      <td>0.000019</td>\n",
              "      <td>3.272112</td>\n",
              "      <td>108</td>\n",
              "      <td>0.812030</td>\n",
              "      <td>2216</td>\n",
              "      <td>2325</td>\n",
              "      <td>11</td>\n",
              "      <td>119</td>\n",
              "    </tr>\n",
              "  </tbody>\n",
              "</table>\n",
              "<p>5 rows × 90 columns</p>\n",
              "</div>"
            ],
            "text/plain": [
              "  first_active_month          card_id  feature_1  feature_2  feature_3  \\\n",
              "0         2017-06-01  C_ID_92a2005557   0.013145   0.008752   0.011428   \n",
              "1         2017-01-01  C_ID_3d0044924f   0.010712   0.011385   0.010283   \n",
              "2         2016-08-01  C_ID_d639edf6cd   0.010610   0.008752   0.010283   \n",
              "3         2017-09-01  C_ID_186d6a6901   0.010712   0.014166   0.010283   \n",
              "4         2017-11-01  C_ID_cdbd2c0db2   0.008058   0.014166   0.010283   \n",
              "\n",
              "     target  outliers  days  quarter  days_feature_1  ...  \\\n",
              "0 -0.820312         0   245        2        3.220431  ...   \n",
              "1  0.392822         0   396        1        4.241790  ...   \n",
              "2  0.687988         0   549        3        5.824829  ...   \n",
              "3  0.142456         0   153        3        1.638874  ...   \n",
              "4 -0.159790         0    92        4        0.741381  ...   \n",
              "\n",
              "   hist_amount_month_ratio_min  hist_amount_month_ratio_max  \\\n",
              "0                    -0.010108                     0.010811   \n",
              "1                    -0.010012                     0.010667   \n",
              "2                    -0.009867                    -0.001998   \n",
              "3                    -0.010108                     0.010811   \n",
              "4                    -0.010088                     0.010959   \n",
              "\n",
              "   hist_amount_month_ratio_var  hist_amount_month_ratio_skew  \\\n",
              "0                     0.000004                      5.125630   \n",
              "1                     0.000010                      3.740298   \n",
              "2                     0.000001                      5.659705   \n",
              "3                     0.000007                      5.736835   \n",
              "4                     0.000019                      3.272112   \n",
              "\n",
              "   hist_purchase_date_diff  hist_purchase_date_average  \\\n",
              "0                      242                    0.930769   \n",
              "1                      390                    1.114286   \n",
              "2                      412                    9.581395   \n",
              "3                      154                    2.000000   \n",
              "4                      108                    0.812030   \n",
              "\n",
              "   hist_purchase_date_uptonow  hist_purchase_date_uptomin  hist_first_buy  \\\n",
              "0                        2219                        2462              26   \n",
              "1                        2244                        2634               5   \n",
              "2                        2217                        2629             163   \n",
              "3                        2216                        2371              25   \n",
              "4                        2216                        2325              11   \n",
              "\n",
              "   hist_last_buy  \n",
              "0            269  \n",
              "1            395  \n",
              "2            575  \n",
              "3            180  \n",
              "4            119  \n",
              "\n",
              "[5 rows x 90 columns]"
            ]
          },
          "execution_count": 66,
          "metadata": {},
          "output_type": "execute_result"
        }
      ],
      "source": [
        "train.head()"
      ]
    },
    {
      "cell_type": "code",
      "execution_count": 67,
      "metadata": {
        "gather": {
          "logged": 1711339538287
        },
        "jupyter": {
          "outputs_hidden": false,
          "source_hidden": false
        },
        "nteract": {
          "transient": {
            "deleting": false
          }
        }
      },
      "outputs": [],
      "source": [
        "train.to_csv('mod_train.csv')"
      ]
    },
    {
      "cell_type": "code",
      "execution_count": 70,
      "metadata": {
        "gather": {
          "logged": 1711340047156
        },
        "jupyter": {
          "outputs_hidden": false,
          "source_hidden": false
        },
        "nteract": {
          "transient": {
            "deleting": false
          }
        }
      },
      "outputs": [],
      "source": [
        "# Taking Reference from Other Kernels\n",
        "def aggregate_transaction_new(trans, prefix):  \n",
        "        \n",
        "    agg_func = {\n",
        "        'purchase_amount' : ['sum','max','min','mean','var','skew'],\n",
        "        'installments' : ['sum','max','mean','var','skew'],\n",
        "        'purchase_date' : ['max','min'],\n",
        "        'month_lag' : ['max','min','mean','var','skew'],\n",
        "        'month_diff' : ['max','min','mean','var','skew'],\n",
        "        'weekend' : ['sum', 'mean'],\n",
        "        'weekday' : ['sum', 'mean'],\n",
        "        'authorized_flag': ['sum', 'mean'],\n",
        "        'category_1': ['sum','mean', 'max','min'],\n",
        "        'card_id' : ['size','count'],\n",
        "        'month': ['nunique', 'mean', 'min', 'max'],\n",
        "        'hour': ['nunique', 'mean', 'min', 'max'],\n",
        "        'weekofyear': ['nunique', 'mean', 'min', 'max'],\n",
        "        'day': ['nunique', 'mean', 'min', 'max'],\n",
        "        'subsector_id': ['nunique'],\n",
        "        'merchant_category_id' : ['nunique'],\n",
        "        'price' :['sum','mean','max','min','var'],\n",
        "        'duration' : ['mean','min','max','var','skew'],\n",
        "        'amount_month_ratio':['mean','min','max','var','skew']\n",
        "    }\n",
        "    \n",
        "    agg_trans = trans.groupby(['card_id']).agg(agg_func)\n",
        "    agg_trans.columns = [prefix + '_'.join(col).strip() \n",
        "                           for col in agg_trans.columns.values]\n",
        "    agg_trans.reset_index(inplace=True)\n",
        "    \n",
        "    df = (trans.groupby('card_id')\n",
        "          .size()\n",
        "          .reset_index(name='{}transactions_count'.format(prefix)))\n",
        "    \n",
        "    agg_trans = pd.merge(df, agg_trans, on='card_id', how='left')\n",
        "    \n",
        "    return agg_trans"
      ]
    },
    {
      "cell_type": "code",
      "execution_count": 71,
      "metadata": {
        "gather": {
          "logged": 1711340080468
        },
        "jupyter": {
          "outputs_hidden": false,
          "source_hidden": false
        },
        "nteract": {
          "transient": {
            "deleting": false
          }
        }
      },
      "outputs": [
        {
          "name": "stdout",
          "output_type": "stream",
          "text": [
            "Mem. usage decreased to 114.20 Mb (45.5% reduction)\n"
          ]
        }
      ],
      "source": [
        "# Now extract the data from the new transactions\n",
        "new_transactions = reduce_mem_usage(pd.read_csv('azureml://subscriptions/a15355bc-32e5-4151-bb4c-a2ecff532aa1/resourcegroups/ML/workspaces/MLL/datastores/workspaceblobstore/paths/UI/2024-03-25_041009_UTC/new_merchant_transactions.csv'))"
      ]
    },
    {
      "cell_type": "code",
      "execution_count": 73,
      "metadata": {
        "gather": {
          "logged": 1711340117647
        },
        "jupyter": {
          "outputs_hidden": false,
          "source_hidden": false
        },
        "nteract": {
          "transient": {
            "deleting": false
          }
        }
      },
      "outputs": [
        {
          "data": {
            "text/plain": [
              "0"
            ]
          },
          "execution_count": 73,
          "metadata": {},
          "output_type": "execute_result"
        }
      ],
      "source": [
        "#impute missing values\n",
        "new_transactions['category_2'] = new_transactions['category_2'].fillna(1.0,inplace=True)\n",
        "new_transactions['category_3'] = new_transactions['category_3'].fillna('A',inplace=True)\n",
        "new_transactions['merchant_id'] = new_transactions['merchant_id'].fillna('M_ID_00a6ca8a8a',inplace=True)\n",
        "new_transactions['installments'].replace(-1, np.nan,inplace=True)\n",
        "new_transactions['installments'].replace(999, np.nan,inplace=True)\n",
        "new_transactions['purchase_amount'] = new_transactions['purchase_amount'].apply(lambda x: min(x, 0.8))\n",
        "\n",
        "#Feature Engineering - Adding new features inspired by Chau's first kernel\n",
        "new_transactions['authorized_flag'] = new_transactions['authorized_flag'].map({'Y': 1, 'N': 0})\n",
        "new_transactions['category_1'] = new_transactions['category_1'].map({'Y': 1, 'N': 0})\n",
        "new_transactions['category_3'] = new_transactions['category_3'].map({'A':0, 'B':1, 'C':2}) \n",
        "\n",
        "new_transactions['purchase_date'] = pd.to_datetime(new_transactions['purchase_date'])\n",
        "new_transactions['month'] = new_transactions['purchase_date'].dt.month\n",
        "new_transactions['weekofyear'] = new_transactions['purchase_date'].dt.isocalendar().week\n",
        "new_transactions['day'] = new_transactions['purchase_date'].dt.day\n",
        "new_transactions['weekday'] = new_transactions.purchase_date.dt.weekday\n",
        "new_transactions['weekend'] = (new_transactions.purchase_date.dt.weekday >=5).astype(int)\n",
        "new_transactions['hour'] = new_transactions['purchase_date'].dt.hour \n",
        "new_transactions['month_diff'] = ((datetime.datetime.today() - new_transactions['purchase_date']).dt.days)//30\n",
        "new_transactions['month_diff'] += new_transactions['month_lag']\n",
        "\n",
        "gc.collect()\n",
        "\n",
        "# additional features\n",
        "new_transactions['duration'] = new_transactions['purchase_amount']*new_transactions['month_diff']\n",
        "new_transactions['amount_month_ratio'] = new_transactions['purchase_amount']/new_transactions['month_diff']\n",
        "new_transactions['price'] = new_transactions['purchase_amount'] / new_transactions['installments']\n",
        "\n",
        "aggs = {\n",
        "        'mean': ['mean'],\n",
        "    }\n",
        "\n",
        "for col in ['category_2','category_3']:\n",
        "    new_transactions[col+'_mean'] = new_transactions['purchase_amount'].groupby(new_transactions[col]).agg('mean')\n",
        "    new_transactions[col+'_max'] = new_transactions['purchase_amount'].groupby(new_transactions[col]).agg('max')\n",
        "    new_transactions[col+'_min'] = new_transactions['purchase_amount'].groupby(new_transactions[col]).agg('min')\n",
        "    new_transactions[col+'_var'] = new_transactions['purchase_amount'].groupby(new_transactions[col]).agg('var')\n",
        "    aggs[col+'_mean'] = ['mean']\n",
        "\n",
        "gc.collect()"
      ]
    },
    {
      "cell_type": "code",
      "execution_count": 74,
      "metadata": {
        "gather": {
          "logged": 1711340279476
        },
        "jupyter": {
          "outputs_hidden": false,
          "source_hidden": false
        },
        "nteract": {
          "transient": {
            "deleting": false
          }
        }
      },
      "outputs": [
        {
          "name": "stderr",
          "output_type": "stream",
          "text": [
            "[Handler.handle()] Failed to read or parse request from socket: Expecting value: line 1 column 1 (char 0)\n",
            "[Handler.handle()] Failed to handle request due to exception class=JSONDecodeError, message=Expecting value: line 1 column 1 (char 0)\n",
            "[Handler.handle()] Failed to read or parse request from socket: 'utf-8' codec can't decode byte 0xe4 in position 4: invalid continuation byte\n",
            "[Handler.handle()] Failed to handle request due to exception class=UnicodeDecodeError, message='utf-8' codec can't decode byte 0xe4 in position 4: invalid continuation byte\n",
            "[Handler.handle()] Failed to read or parse request from socket: 'utf-8' codec can't decode byte 0xe4 in position 4: invalid continuation byte\n",
            "[Handler.handle()] Failed to handle request due to exception class=UnicodeDecodeError, message='utf-8' codec can't decode byte 0xe4 in position 4: invalid continuation byte\n",
            "[Handler.handle()] Failed to read or parse request from socket: 'utf-8' codec can't decode byte 0x86 in position 16: invalid start byte\n",
            "[Handler.handle()] Failed to handle request due to exception class=UnicodeDecodeError, message='utf-8' codec can't decode byte 0x86 in position 16: invalid start byte\n",
            "[Handler.handle()] Failed to read or parse request from socket: 'utf-8' codec can't decode byte 0xf5 in position 14: invalid start byte\n",
            "[Handler.handle()] Failed to handle request due to exception class=UnicodeDecodeError, message='utf-8' codec can't decode byte 0xf5 in position 14: invalid start byte\n",
            "[Handler.handle()] Failed to read or parse request from socket: 'utf-8' codec can't decode byte 0xaf in position 4: invalid start byte\n",
            "[Handler.handle()] Failed to handle request due to exception class=UnicodeDecodeError, message='utf-8' codec can't decode byte 0xaf in position 4: invalid start byte\n",
            "[Handler.handle()] Failed to read or parse request from socket: 'utf-8' codec can't decode byte 0xa5 in position 11: invalid start byte\n",
            "[Handler.handle()] Failed to handle request due to exception class=UnicodeDecodeError, message='utf-8' codec can't decode byte 0xa5 in position 11: invalid start byte\n",
            "[Handler.handle()] Failed to read or parse request from socket: 'utf-8' codec can't decode byte 0xaf in position 4: invalid start byte\n",
            "[Handler.handle()] Failed to handle request due to exception class=UnicodeDecodeError, message='utf-8' codec can't decode byte 0xaf in position 4: invalid start byte\n",
            "[Handler.handle()] Failed to read or parse request from socket: 'utf-8' codec can't decode byte 0x92 in position 11: invalid start byte\n",
            "[Handler.handle()] Failed to handle request due to exception class=UnicodeDecodeError, message='utf-8' codec can't decode byte 0x92 in position 11: invalid start byte\n",
            "[Handler.handle()] Failed to read or parse request from socket: 'utf-8' codec can't decode byte 0xea in position 11: invalid continuation byte\n",
            "[Handler.handle()] Failed to handle request due to exception class=UnicodeDecodeError, message='utf-8' codec can't decode byte 0xea in position 11: invalid continuation byte\n",
            "[Handler.handle()] Failed to read or parse request from socket: 'utf-8' codec can't decode byte 0xce in position 4: invalid continuation byte\n",
            "[Handler.handle()] Failed to handle request due to exception class=UnicodeDecodeError, message='utf-8' codec can't decode byte 0xce in position 4: invalid continuation byte\n",
            "[Handler.handle()] Failed to read or parse request from socket: 'utf-8' codec can't decode byte 0xe3 in position 11: invalid continuation byte\n",
            "[Handler.handle()] Failed to handle request due to exception class=UnicodeDecodeError, message='utf-8' codec can't decode byte 0xe3 in position 11: invalid continuation byte\n",
            "[Handler.handle()] Failed to read or parse request from socket: 'utf-8' codec can't decode byte 0x89 in position 4: invalid start byte\n",
            "[Handler.handle()] Failed to handle request due to exception class=UnicodeDecodeError, message='utf-8' codec can't decode byte 0x89 in position 4: invalid start byte\n"
          ]
        },
        {
          "data": {
            "text/plain": [
              "0"
            ]
          },
          "execution_count": 74,
          "metadata": {},
          "output_type": "execute_result"
        }
      ],
      "source": [
        "merge_new = aggregate_transaction_new(new_transactions, prefix='new_')\n",
        "del new_transactions\n",
        "gc.collect()\n",
        "\n",
        "train = pd.merge(train, merge_new, on='card_id',how='left')\n",
        "test = pd.merge(test, merge_new, on='card_id',how='left')\n",
        "del merge_new\n",
        "\n",
        "gc.collect()"
      ]
    },
    {
      "cell_type": "code",
      "execution_count": 75,
      "metadata": {
        "gather": {
          "logged": 1711340286778
        },
        "jupyter": {
          "outputs_hidden": false,
          "source_hidden": false
        },
        "nteract": {
          "transient": {
            "deleting": false
          }
        }
      },
      "outputs": [
        {
          "data": {
            "text/html": [
              "<div>\n",
              "<style scoped>\n",
              "    .dataframe tbody tr th:only-of-type {\n",
              "        vertical-align: middle;\n",
              "    }\n",
              "\n",
              "    .dataframe tbody tr th {\n",
              "        vertical-align: top;\n",
              "    }\n",
              "\n",
              "    .dataframe thead th {\n",
              "        text-align: right;\n",
              "    }\n",
              "</style>\n",
              "<table border=\"1\" class=\"dataframe\">\n",
              "  <thead>\n",
              "    <tr style=\"text-align: right;\">\n",
              "      <th></th>\n",
              "      <th>first_active_month</th>\n",
              "      <th>card_id</th>\n",
              "      <th>feature_1</th>\n",
              "      <th>feature_2</th>\n",
              "      <th>feature_3</th>\n",
              "      <th>target</th>\n",
              "      <th>outliers</th>\n",
              "      <th>days</th>\n",
              "      <th>quarter</th>\n",
              "      <th>days_feature_1</th>\n",
              "      <th>...</th>\n",
              "      <th>new_duration_mean</th>\n",
              "      <th>new_duration_min</th>\n",
              "      <th>new_duration_max</th>\n",
              "      <th>new_duration_var</th>\n",
              "      <th>new_duration_skew</th>\n",
              "      <th>new_amount_month_ratio_mean</th>\n",
              "      <th>new_amount_month_ratio_min</th>\n",
              "      <th>new_amount_month_ratio_max</th>\n",
              "      <th>new_amount_month_ratio_var</th>\n",
              "      <th>new_amount_month_ratio_skew</th>\n",
              "    </tr>\n",
              "  </thead>\n",
              "  <tbody>\n",
              "    <tr>\n",
              "      <th>0</th>\n",
              "      <td>2017-06-01</td>\n",
              "      <td>C_ID_92a2005557</td>\n",
              "      <td>0.013145</td>\n",
              "      <td>0.008752</td>\n",
              "      <td>0.011428</td>\n",
              "      <td>-0.820312</td>\n",
              "      <td>0</td>\n",
              "      <td>245</td>\n",
              "      <td>2</td>\n",
              "      <td>3.220431</td>\n",
              "      <td>...</td>\n",
              "      <td>-42.437298</td>\n",
              "      <td>-53.259766</td>\n",
              "      <td>-21.618408</td>\n",
              "      <td>100.250722</td>\n",
              "      <td>0.903063</td>\n",
              "      <td>-0.007813</td>\n",
              "      <td>-0.009926</td>\n",
              "      <td>-0.004002</td>\n",
              "      <td>3.396540e-06</td>\n",
              "      <td>0.891605</td>\n",
              "    </tr>\n",
              "    <tr>\n",
              "      <th>1</th>\n",
              "      <td>2017-01-01</td>\n",
              "      <td>C_ID_3d0044924f</td>\n",
              "      <td>0.010712</td>\n",
              "      <td>0.011385</td>\n",
              "      <td>0.010283</td>\n",
              "      <td>0.392822</td>\n",
              "      <td>0</td>\n",
              "      <td>396</td>\n",
              "      <td>1</td>\n",
              "      <td>4.241790</td>\n",
              "      <td>...</td>\n",
              "      <td>-54.326416</td>\n",
              "      <td>-55.444336</td>\n",
              "      <td>-51.922852</td>\n",
              "      <td>1.755903</td>\n",
              "      <td>1.539016</td>\n",
              "      <td>-0.009700</td>\n",
              "      <td>-0.009857</td>\n",
              "      <td>-0.009482</td>\n",
              "      <td>2.308004e-08</td>\n",
              "      <td>0.808045</td>\n",
              "    </tr>\n",
              "    <tr>\n",
              "      <th>2</th>\n",
              "      <td>2016-08-01</td>\n",
              "      <td>C_ID_d639edf6cd</td>\n",
              "      <td>0.010610</td>\n",
              "      <td>0.008752</td>\n",
              "      <td>0.010283</td>\n",
              "      <td>0.687988</td>\n",
              "      <td>0</td>\n",
              "      <td>549</td>\n",
              "      <td>3</td>\n",
              "      <td>5.824829</td>\n",
              "      <td>...</td>\n",
              "      <td>-51.114258</td>\n",
              "      <td>-51.114258</td>\n",
              "      <td>-51.114258</td>\n",
              "      <td>NaN</td>\n",
              "      <td>NaN</td>\n",
              "      <td>-0.009592</td>\n",
              "      <td>-0.009592</td>\n",
              "      <td>-0.009592</td>\n",
              "      <td>NaN</td>\n",
              "      <td>NaN</td>\n",
              "    </tr>\n",
              "    <tr>\n",
              "      <th>3</th>\n",
              "      <td>2017-09-01</td>\n",
              "      <td>C_ID_186d6a6901</td>\n",
              "      <td>0.010712</td>\n",
              "      <td>0.014166</td>\n",
              "      <td>0.010283</td>\n",
              "      <td>0.142456</td>\n",
              "      <td>0</td>\n",
              "      <td>153</td>\n",
              "      <td>3</td>\n",
              "      <td>1.638874</td>\n",
              "      <td>...</td>\n",
              "      <td>-49.207729</td>\n",
              "      <td>-54.343750</td>\n",
              "      <td>-41.950195</td>\n",
              "      <td>23.783940</td>\n",
              "      <td>0.804093</td>\n",
              "      <td>-0.008986</td>\n",
              "      <td>-0.009924</td>\n",
              "      <td>-0.007661</td>\n",
              "      <td>7.931529e-07</td>\n",
              "      <td>0.804093</td>\n",
              "    </tr>\n",
              "    <tr>\n",
              "      <th>4</th>\n",
              "      <td>2017-11-01</td>\n",
              "      <td>C_ID_cdbd2c0db2</td>\n",
              "      <td>0.008058</td>\n",
              "      <td>0.014166</td>\n",
              "      <td>0.010283</td>\n",
              "      <td>-0.159790</td>\n",
              "      <td>0</td>\n",
              "      <td>92</td>\n",
              "      <td>4</td>\n",
              "      <td>0.741381</td>\n",
              "      <td>...</td>\n",
              "      <td>-40.852722</td>\n",
              "      <td>-54.705078</td>\n",
              "      <td>33.368652</td>\n",
              "      <td>272.900488</td>\n",
              "      <td>2.895793</td>\n",
              "      <td>-0.007500</td>\n",
              "      <td>-0.009990</td>\n",
              "      <td>0.006094</td>\n",
              "      <td>9.201419e-06</td>\n",
              "      <td>2.878926</td>\n",
              "    </tr>\n",
              "    <tr>\n",
              "      <th>...</th>\n",
              "      <td>...</td>\n",
              "      <td>...</td>\n",
              "      <td>...</td>\n",
              "      <td>...</td>\n",
              "      <td>...</td>\n",
              "      <td>...</td>\n",
              "      <td>...</td>\n",
              "      <td>...</td>\n",
              "      <td>...</td>\n",
              "      <td>...</td>\n",
              "      <td>...</td>\n",
              "      <td>...</td>\n",
              "      <td>...</td>\n",
              "      <td>...</td>\n",
              "      <td>...</td>\n",
              "      <td>...</td>\n",
              "      <td>...</td>\n",
              "      <td>...</td>\n",
              "      <td>...</td>\n",
              "      <td>...</td>\n",
              "      <td>...</td>\n",
              "    </tr>\n",
              "    <tr>\n",
              "      <th>201912</th>\n",
              "      <td>2017-09-01</td>\n",
              "      <td>C_ID_963962de2c</td>\n",
              "      <td>0.010479</td>\n",
              "      <td>0.008752</td>\n",
              "      <td>0.011428</td>\n",
              "      <td>-2.740234</td>\n",
              "      <td>0</td>\n",
              "      <td>153</td>\n",
              "      <td>3</td>\n",
              "      <td>1.603346</td>\n",
              "      <td>...</td>\n",
              "      <td>-51.308594</td>\n",
              "      <td>-51.308594</td>\n",
              "      <td>-51.308594</td>\n",
              "      <td>NaN</td>\n",
              "      <td>NaN</td>\n",
              "      <td>-0.009370</td>\n",
              "      <td>-0.009370</td>\n",
              "      <td>-0.009370</td>\n",
              "      <td>NaN</td>\n",
              "      <td>NaN</td>\n",
              "    </tr>\n",
              "    <tr>\n",
              "      <th>201913</th>\n",
              "      <td>2015-10-01</td>\n",
              "      <td>C_ID_1314773c0b</td>\n",
              "      <td>0.010479</td>\n",
              "      <td>0.011385</td>\n",
              "      <td>0.011428</td>\n",
              "      <td>0.312988</td>\n",
              "      <td>0</td>\n",
              "      <td>854</td>\n",
              "      <td>4</td>\n",
              "      <td>8.949397</td>\n",
              "      <td>...</td>\n",
              "      <td>-55.066406</td>\n",
              "      <td>-55.066406</td>\n",
              "      <td>-55.066406</td>\n",
              "      <td>NaN</td>\n",
              "      <td>NaN</td>\n",
              "      <td>-0.010056</td>\n",
              "      <td>-0.010056</td>\n",
              "      <td>-0.010056</td>\n",
              "      <td>NaN</td>\n",
              "      <td>NaN</td>\n",
              "    </tr>\n",
              "    <tr>\n",
              "      <th>201914</th>\n",
              "      <td>2017-08-01</td>\n",
              "      <td>C_ID_7666735b3d</td>\n",
              "      <td>0.010712</td>\n",
              "      <td>0.014166</td>\n",
              "      <td>0.010283</td>\n",
              "      <td>0.093506</td>\n",
              "      <td>0</td>\n",
              "      <td>184</td>\n",
              "      <td>3</td>\n",
              "      <td>1.970933</td>\n",
              "      <td>...</td>\n",
              "      <td>-17.894267</td>\n",
              "      <td>-49.104492</td>\n",
              "      <td>8.131409</td>\n",
              "      <td>839.146756</td>\n",
              "      <td>-0.779589</td>\n",
              "      <td>-0.003254</td>\n",
              "      <td>-0.008967</td>\n",
              "      <td>0.001526</td>\n",
              "      <td>2.817932e-05</td>\n",
              "      <td>-0.766576</td>\n",
              "    </tr>\n",
              "    <tr>\n",
              "      <th>201915</th>\n",
              "      <td>2016-07-01</td>\n",
              "      <td>C_ID_73f5a0efd0</td>\n",
              "      <td>0.010479</td>\n",
              "      <td>0.008752</td>\n",
              "      <td>0.011428</td>\n",
              "      <td>-4.675781</td>\n",
              "      <td>0</td>\n",
              "      <td>580</td>\n",
              "      <td>3</td>\n",
              "      <td>6.078045</td>\n",
              "      <td>...</td>\n",
              "      <td>-8.215098</td>\n",
              "      <td>-56.291016</td>\n",
              "      <td>62.400000</td>\n",
              "      <td>4155.786372</td>\n",
              "      <td>0.608166</td>\n",
              "      <td>-0.001397</td>\n",
              "      <td>-0.009252</td>\n",
              "      <td>0.010256</td>\n",
              "      <td>1.131874e-04</td>\n",
              "      <td>0.608140</td>\n",
              "    </tr>\n",
              "    <tr>\n",
              "      <th>201916</th>\n",
              "      <td>2017-07-01</td>\n",
              "      <td>C_ID_92c9984c58</td>\n",
              "      <td>0.010479</td>\n",
              "      <td>0.011385</td>\n",
              "      <td>0.011428</td>\n",
              "      <td>-1.859375</td>\n",
              "      <td>0</td>\n",
              "      <td>215</td>\n",
              "      <td>3</td>\n",
              "      <td>2.253068</td>\n",
              "      <td>...</td>\n",
              "      <td>-32.912170</td>\n",
              "      <td>-54.379883</td>\n",
              "      <td>12.005127</td>\n",
              "      <td>767.683916</td>\n",
              "      <td>1.043709</td>\n",
              "      <td>-0.006086</td>\n",
              "      <td>-0.009931</td>\n",
              "      <td>0.002192</td>\n",
              "      <td>2.595435e-05</td>\n",
              "      <td>1.062235</td>\n",
              "    </tr>\n",
              "  </tbody>\n",
              "</table>\n",
              "<p>201917 rows × 159 columns</p>\n",
              "</div>"
            ],
            "text/plain": [
              "       first_active_month          card_id  feature_1  feature_2  feature_3  \\\n",
              "0              2017-06-01  C_ID_92a2005557   0.013145   0.008752   0.011428   \n",
              "1              2017-01-01  C_ID_3d0044924f   0.010712   0.011385   0.010283   \n",
              "2              2016-08-01  C_ID_d639edf6cd   0.010610   0.008752   0.010283   \n",
              "3              2017-09-01  C_ID_186d6a6901   0.010712   0.014166   0.010283   \n",
              "4              2017-11-01  C_ID_cdbd2c0db2   0.008058   0.014166   0.010283   \n",
              "...                   ...              ...        ...        ...        ...   \n",
              "201912         2017-09-01  C_ID_963962de2c   0.010479   0.008752   0.011428   \n",
              "201913         2015-10-01  C_ID_1314773c0b   0.010479   0.011385   0.011428   \n",
              "201914         2017-08-01  C_ID_7666735b3d   0.010712   0.014166   0.010283   \n",
              "201915         2016-07-01  C_ID_73f5a0efd0   0.010479   0.008752   0.011428   \n",
              "201916         2017-07-01  C_ID_92c9984c58   0.010479   0.011385   0.011428   \n",
              "\n",
              "          target  outliers  days  quarter  days_feature_1  ...  \\\n",
              "0      -0.820312         0   245        2        3.220431  ...   \n",
              "1       0.392822         0   396        1        4.241790  ...   \n",
              "2       0.687988         0   549        3        5.824829  ...   \n",
              "3       0.142456         0   153        3        1.638874  ...   \n",
              "4      -0.159790         0    92        4        0.741381  ...   \n",
              "...          ...       ...   ...      ...             ...  ...   \n",
              "201912 -2.740234         0   153        3        1.603346  ...   \n",
              "201913  0.312988         0   854        4        8.949397  ...   \n",
              "201914  0.093506         0   184        3        1.970933  ...   \n",
              "201915 -4.675781         0   580        3        6.078045  ...   \n",
              "201916 -1.859375         0   215        3        2.253068  ...   \n",
              "\n",
              "        new_duration_mean  new_duration_min  new_duration_max  \\\n",
              "0              -42.437298        -53.259766        -21.618408   \n",
              "1              -54.326416        -55.444336        -51.922852   \n",
              "2              -51.114258        -51.114258        -51.114258   \n",
              "3              -49.207729        -54.343750        -41.950195   \n",
              "4              -40.852722        -54.705078         33.368652   \n",
              "...                   ...               ...               ...   \n",
              "201912         -51.308594        -51.308594        -51.308594   \n",
              "201913         -55.066406        -55.066406        -55.066406   \n",
              "201914         -17.894267        -49.104492          8.131409   \n",
              "201915          -8.215098        -56.291016         62.400000   \n",
              "201916         -32.912170        -54.379883         12.005127   \n",
              "\n",
              "        new_duration_var  new_duration_skew  new_amount_month_ratio_mean  \\\n",
              "0             100.250722           0.903063                    -0.007813   \n",
              "1               1.755903           1.539016                    -0.009700   \n",
              "2                    NaN                NaN                    -0.009592   \n",
              "3              23.783940           0.804093                    -0.008986   \n",
              "4             272.900488           2.895793                    -0.007500   \n",
              "...                  ...                ...                          ...   \n",
              "201912               NaN                NaN                    -0.009370   \n",
              "201913               NaN                NaN                    -0.010056   \n",
              "201914        839.146756          -0.779589                    -0.003254   \n",
              "201915       4155.786372           0.608166                    -0.001397   \n",
              "201916        767.683916           1.043709                    -0.006086   \n",
              "\n",
              "        new_amount_month_ratio_min  new_amount_month_ratio_max  \\\n",
              "0                        -0.009926                   -0.004002   \n",
              "1                        -0.009857                   -0.009482   \n",
              "2                        -0.009592                   -0.009592   \n",
              "3                        -0.009924                   -0.007661   \n",
              "4                        -0.009990                    0.006094   \n",
              "...                            ...                         ...   \n",
              "201912                   -0.009370                   -0.009370   \n",
              "201913                   -0.010056                   -0.010056   \n",
              "201914                   -0.008967                    0.001526   \n",
              "201915                   -0.009252                    0.010256   \n",
              "201916                   -0.009931                    0.002192   \n",
              "\n",
              "        new_amount_month_ratio_var  new_amount_month_ratio_skew  \n",
              "0                     3.396540e-06                     0.891605  \n",
              "1                     2.308004e-08                     0.808045  \n",
              "2                              NaN                          NaN  \n",
              "3                     7.931529e-07                     0.804093  \n",
              "4                     9.201419e-06                     2.878926  \n",
              "...                            ...                          ...  \n",
              "201912                         NaN                          NaN  \n",
              "201913                         NaN                          NaN  \n",
              "201914                2.817932e-05                    -0.766576  \n",
              "201915                1.131874e-04                     0.608140  \n",
              "201916                2.595435e-05                     1.062235  \n",
              "\n",
              "[201917 rows x 159 columns]"
            ]
          },
          "execution_count": 75,
          "metadata": {},
          "output_type": "execute_result"
        },
        {
          "name": "stderr",
          "output_type": "stream",
          "text": [
            "Bad pipe message: %s [b\"\\x8d}K\\xeat7\\xbc.\\xdbxy\\xa2\\xf6$t\\x05\\x8a\\xfb g\\x11\\xcb(\\tT\\xee\\xa5`\\xf0NfJk\\x0bW\\x86\\x18\\xe1\\xd7\\x07=\\xb3\\xf8\\x91\\xe3\\x86=u6\\x08'\\x00\\x08\\x13\\x02\\x13\\x03\\x13\\x01\\x00\\xff\\x01\\x00\\x00\\x8f\\x00\\x00\\x00\\x0e\\x00\\x0c\\x00\\x00\\t12\", b'0.0.1\\x00\\x0b\\x00\\x04\\x03\\x00\\x01\\x02\\x00\\n\\x00\\x0c\\x00\\n\\x00\\x1d\\x00\\x17\\x00\\x1e\\x00\\x19\\x00\\x18\\x00#\\x00\\x00\\x00\\x16\\x00\\x00\\x00\\x17\\x00\\x00\\x00\\r\\x00\\x1e\\x00\\x1c\\x04\\x03\\x05\\x03\\x06\\x03\\x08']\n",
            "Bad pipe message: %s [b'\\x08\\x08\\t\\x08\\n\\x08']\n",
            "Bad pipe message: %s [b'\\x04\\x08\\x05\\x08\\x06\\x04\\x01\\x05\\x01\\x06']\n",
            "Bad pipe message: %s [b'']\n",
            "Bad pipe message: %s [b'\\x03\\x02\\x03\\x04\\x00-\\x00\\x02\\x01\\x01\\x003\\x00&\\x00$\\x00\\x1d\\x00 u\\xe8\\xfbh\\x1a\\xa8N`\\xaa:\\x16Z\\x00l\\xbad9\\xf3\\x18\\x91`-']\n",
            "Bad pipe message: %s [b'\\xa83\\x91U\\x9a\\x94\\xcc\\xc2\\x8a\\xfc\\x16\\xae\\x97\\xe7\\xebf\\xb2\\xa3\\x00\\x00>\\xc0\\x14\\xc0\\n\\x009\\x008\\x007\\x006\\xc0\\x0f\\xc0\\x05\\x005\\xc0\\x13\\xc0\\t\\x003\\x002\\x001\\x000\\xc0\\x0e\\xc0\\x04\\x00/\\x00\\x9a\\x00\\x99\\x00\\x98\\x00\\x97\\x00\\x96\\x00\\x07\\xc0\\x11\\xc0\\x07\\xc0\\x0c\\xc0\\x02\\x00\\x05\\x00']\n",
            "Bad pipe message: %s [b'\\xff\\x02\\x01']\n",
            "Bad pipe message: %s [b'\\xe4\\xa4\\xb3\\xa5\\xdb\\xa3G@1\\x80dC\"\\xc0El\\xb2\\xec\\x00\\x00\\xa2\\xc0\\x14\\xc0\\n\\x009\\x008\\x007\\x006\\x00\\x88']\n",
            "Bad pipe message: %s [b'\\xab\\xb1!p5-\\xa5\\x92d\\xa4\\xf6\\x9a\\xb35\\xee\\xd9@\\xa9\\x00\\x00\\xa2\\xc0\\x14\\xc0\\n\\x009\\x008\\x007\\x006\\x00\\x88\\x00\\x87\\x00\\x86\\x00\\x85\\xc0\\x19\\x00:\\x00\\x89\\xc0\\x0f\\xc0\\x05\\x005\\x00\\x84']\n",
            "Bad pipe message: %s [b'7\\x89\\xb2i']\n",
            "Bad pipe message: %s [b\"#\\x0e4h\\xc755\\x9dC\\x13B4\\x00\\x00\\xf4\\xc00\\xc0,\\xc0(\\xc0$\\xc0\\x14\\xc0\\n\\x00\\xa5\\x00\\xa3\\x00\\xa1\\x00\\x9f\\x00k\\x00j\\x00i\\x00h\\x009\\x008\\x007\\x006\\x00\\x88\\x00\\x87\\x00\\x86\\x00\\x85\\xc0\\x19\\x00\\xa7\\x00m\\x00:\\x00\\x89\\xc02\\xc0.\\xc0*\\xc0&\\xc0\\x0f\\xc0\\x05\\x00\\x9d\\x00=\\x005\\x00\\x84\\xc0/\\xc0+\\xc0'\\xc0#\\xc0\\x13\\xc0\\t\\x00\\xa4\\x00\\xa2\\x00\\xa0\\x00\\x9e\\x00g\\x00@\\x00?\\x00>\\x003\\x002\\x001\\x000\\x00\\x9a\\x00\\x99\\x00\\x98\\x00\\x97\\x00E\\x00D\\x00C\\x00B\\xc0\\x18\\x00\\xa6\\x00l\\x004\\x00\\x9b\\x00F\\xc01\\xc0-\\xc0)\\xc0%\\xc0\\x0e\\xc0\\x04\\x00\\x9c\\x00\"]\n",
            "Bad pipe message: %s [b'/\\x00\\x96\\x00A\\x00\\x07\\xc0\\x11\\xc0\\x07\\xc0\\x16\\x00\\x18\\xc0\\x0c\\xc0\\x02\\x00\\x05\\x00\\x04\\xc0\\x12\\xc0\\x08\\x00\\x16\\x00\\x13\\x00\\x10\\x00\\r\\xc0\\x17\\x00\\x1b\\xc0\\r\\xc0\\x03\\x00\\n\\x00\\x15\\x00\\x12\\x00\\x0f\\x00\\x0c\\x00\\x1a\\x00\\t\\x00\\x14']\n"
          ]
        }
      ],
      "source": [
        "train"
      ]
    },
    {
      "cell_type": "code",
      "execution_count": 76,
      "metadata": {
        "gather": {
          "logged": 1711340320029
        },
        "jupyter": {
          "outputs_hidden": false,
          "source_hidden": false
        },
        "nteract": {
          "transient": {
            "deleting": false
          }
        }
      },
      "outputs": [
        {
          "data": {
            "text/plain": [
              "105"
            ]
          },
          "execution_count": 76,
          "metadata": {},
          "output_type": "execute_result"
        }
      ],
      "source": [
        "#Feature Engineering - Adding new features inspired by Chau's first kernel\n",
        "train['new_purchase_date_max'] = pd.to_datetime(train['new_purchase_date_max'])\n",
        "train['new_purchase_date_min'] = pd.to_datetime(train['new_purchase_date_min'])\n",
        "train['new_purchase_date_diff'] = (train['new_purchase_date_max'] - train['new_purchase_date_min']).dt.days\n",
        "train['new_purchase_date_average'] = train['new_purchase_date_diff']/train['new_card_id_size']\n",
        "train['new_purchase_date_uptonow'] = (datetime.datetime.today() - train['new_purchase_date_max']).dt.days\n",
        "train['new_purchase_date_uptomin'] = (datetime.datetime.today() - train['new_purchase_date_min']).dt.days\n",
        "train['new_first_buy'] = (train['new_purchase_date_min'] - train['first_active_month']).dt.days\n",
        "train['new_last_buy'] = (train['new_purchase_date_max'] - train['first_active_month']).dt.days\n",
        "for feature in ['new_purchase_date_max','new_purchase_date_min']:\n",
        "    train[feature] = train[feature].astype(np.int64) * 1e-9\n",
        "\n",
        "#Feature Engineering - Adding new features inspired by Chau's first kernel\n",
        "test['new_purchase_date_max'] = pd.to_datetime(test['new_purchase_date_max'])\n",
        "test['new_purchase_date_min'] = pd.to_datetime(test['new_purchase_date_min'])\n",
        "test['new_purchase_date_diff'] = (test['new_purchase_date_max'] - test['new_purchase_date_min']).dt.days\n",
        "test['new_purchase_date_average'] = test['new_purchase_date_diff']/test['new_card_id_size']\n",
        "test['new_purchase_date_uptonow'] = (datetime.datetime.today() - test['new_purchase_date_max']).dt.days\n",
        "test['new_purchase_date_uptomin'] = (datetime.datetime.today() - test['new_purchase_date_min']).dt.days\n",
        "test['new_first_buy'] = (test['new_purchase_date_min'] - test['first_active_month']).dt.days\n",
        "test['new_last_buy'] = (test['new_purchase_date_max'] - test['first_active_month']).dt.days\n",
        "\n",
        "for feature in ['new_purchase_date_max','new_purchase_date_min']:\n",
        "    test[feature] = test[feature].astype(np.int64) * 1e-9\n",
        "    \n",
        "gc.collect()"
      ]
    },
    {
      "cell_type": "code",
      "execution_count": 77,
      "metadata": {
        "gather": {
          "logged": 1711340326508
        },
        "jupyter": {
          "outputs_hidden": false,
          "source_hidden": false
        },
        "nteract": {
          "transient": {
            "deleting": false
          }
        }
      },
      "outputs": [
        {
          "data": {
            "text/html": [
              "<div>\n",
              "<style scoped>\n",
              "    .dataframe tbody tr th:only-of-type {\n",
              "        vertical-align: middle;\n",
              "    }\n",
              "\n",
              "    .dataframe tbody tr th {\n",
              "        vertical-align: top;\n",
              "    }\n",
              "\n",
              "    .dataframe thead th {\n",
              "        text-align: right;\n",
              "    }\n",
              "</style>\n",
              "<table border=\"1\" class=\"dataframe\">\n",
              "  <thead>\n",
              "    <tr style=\"text-align: right;\">\n",
              "      <th></th>\n",
              "      <th>first_active_month</th>\n",
              "      <th>card_id</th>\n",
              "      <th>feature_1</th>\n",
              "      <th>feature_2</th>\n",
              "      <th>feature_3</th>\n",
              "      <th>target</th>\n",
              "      <th>outliers</th>\n",
              "      <th>days</th>\n",
              "      <th>quarter</th>\n",
              "      <th>days_feature_1</th>\n",
              "      <th>...</th>\n",
              "      <th>new_amount_month_ratio_min</th>\n",
              "      <th>new_amount_month_ratio_max</th>\n",
              "      <th>new_amount_month_ratio_var</th>\n",
              "      <th>new_amount_month_ratio_skew</th>\n",
              "      <th>new_purchase_date_diff</th>\n",
              "      <th>new_purchase_date_average</th>\n",
              "      <th>new_purchase_date_uptonow</th>\n",
              "      <th>new_purchase_date_uptomin</th>\n",
              "      <th>new_first_buy</th>\n",
              "      <th>new_last_buy</th>\n",
              "    </tr>\n",
              "  </thead>\n",
              "  <tbody>\n",
              "    <tr>\n",
              "      <th>0</th>\n",
              "      <td>2017-06-01</td>\n",
              "      <td>C_ID_92a2005557</td>\n",
              "      <td>0.013145</td>\n",
              "      <td>0.008752</td>\n",
              "      <td>0.011428</td>\n",
              "      <td>-0.820312</td>\n",
              "      <td>0</td>\n",
              "      <td>245</td>\n",
              "      <td>2</td>\n",
              "      <td>3.220431</td>\n",
              "      <td>...</td>\n",
              "      <td>-0.009926</td>\n",
              "      <td>-0.004002</td>\n",
              "      <td>3.396540e-06</td>\n",
              "      <td>0.891605</td>\n",
              "      <td>54.0</td>\n",
              "      <td>2.347826</td>\n",
              "      <td>2156.0</td>\n",
              "      <td>2211.0</td>\n",
              "      <td>277.0</td>\n",
              "      <td>332.0</td>\n",
              "    </tr>\n",
              "    <tr>\n",
              "      <th>1</th>\n",
              "      <td>2017-01-01</td>\n",
              "      <td>C_ID_3d0044924f</td>\n",
              "      <td>0.010712</td>\n",
              "      <td>0.011385</td>\n",
              "      <td>0.010283</td>\n",
              "      <td>0.392822</td>\n",
              "      <td>0</td>\n",
              "      <td>396</td>\n",
              "      <td>1</td>\n",
              "      <td>4.241790</td>\n",
              "      <td>...</td>\n",
              "      <td>-0.009857</td>\n",
              "      <td>-0.009482</td>\n",
              "      <td>2.308004e-08</td>\n",
              "      <td>0.808045</td>\n",
              "      <td>56.0</td>\n",
              "      <td>9.333333</td>\n",
              "      <td>2186.0</td>\n",
              "      <td>2243.0</td>\n",
              "      <td>396.0</td>\n",
              "      <td>453.0</td>\n",
              "    </tr>\n",
              "    <tr>\n",
              "      <th>2</th>\n",
              "      <td>2016-08-01</td>\n",
              "      <td>C_ID_d639edf6cd</td>\n",
              "      <td>0.010610</td>\n",
              "      <td>0.008752</td>\n",
              "      <td>0.010283</td>\n",
              "      <td>0.687988</td>\n",
              "      <td>0</td>\n",
              "      <td>549</td>\n",
              "      <td>3</td>\n",
              "      <td>5.824829</td>\n",
              "      <td>...</td>\n",
              "      <td>-0.009592</td>\n",
              "      <td>-0.009592</td>\n",
              "      <td>NaN</td>\n",
              "      <td>NaN</td>\n",
              "      <td>0.0</td>\n",
              "      <td>0.000000</td>\n",
              "      <td>2157.0</td>\n",
              "      <td>2157.0</td>\n",
              "      <td>635.0</td>\n",
              "      <td>635.0</td>\n",
              "    </tr>\n",
              "    <tr>\n",
              "      <th>3</th>\n",
              "      <td>2017-09-01</td>\n",
              "      <td>C_ID_186d6a6901</td>\n",
              "      <td>0.010712</td>\n",
              "      <td>0.014166</td>\n",
              "      <td>0.010283</td>\n",
              "      <td>0.142456</td>\n",
              "      <td>0</td>\n",
              "      <td>153</td>\n",
              "      <td>3</td>\n",
              "      <td>1.638874</td>\n",
              "      <td>...</td>\n",
              "      <td>-0.009924</td>\n",
              "      <td>-0.007661</td>\n",
              "      <td>7.931529e-07</td>\n",
              "      <td>0.804093</td>\n",
              "      <td>41.0</td>\n",
              "      <td>5.857143</td>\n",
              "      <td>2167.0</td>\n",
              "      <td>2209.0</td>\n",
              "      <td>187.0</td>\n",
              "      <td>229.0</td>\n",
              "    </tr>\n",
              "    <tr>\n",
              "      <th>4</th>\n",
              "      <td>2017-11-01</td>\n",
              "      <td>C_ID_cdbd2c0db2</td>\n",
              "      <td>0.008058</td>\n",
              "      <td>0.014166</td>\n",
              "      <td>0.010283</td>\n",
              "      <td>-0.159790</td>\n",
              "      <td>0</td>\n",
              "      <td>92</td>\n",
              "      <td>4</td>\n",
              "      <td>0.741381</td>\n",
              "      <td>...</td>\n",
              "      <td>-0.009990</td>\n",
              "      <td>0.006094</td>\n",
              "      <td>9.201419e-06</td>\n",
              "      <td>2.878926</td>\n",
              "      <td>57.0</td>\n",
              "      <td>1.583333</td>\n",
              "      <td>2157.0</td>\n",
              "      <td>2214.0</td>\n",
              "      <td>121.0</td>\n",
              "      <td>178.0</td>\n",
              "    </tr>\n",
              "    <tr>\n",
              "      <th>...</th>\n",
              "      <td>...</td>\n",
              "      <td>...</td>\n",
              "      <td>...</td>\n",
              "      <td>...</td>\n",
              "      <td>...</td>\n",
              "      <td>...</td>\n",
              "      <td>...</td>\n",
              "      <td>...</td>\n",
              "      <td>...</td>\n",
              "      <td>...</td>\n",
              "      <td>...</td>\n",
              "      <td>...</td>\n",
              "      <td>...</td>\n",
              "      <td>...</td>\n",
              "      <td>...</td>\n",
              "      <td>...</td>\n",
              "      <td>...</td>\n",
              "      <td>...</td>\n",
              "      <td>...</td>\n",
              "      <td>...</td>\n",
              "      <td>...</td>\n",
              "    </tr>\n",
              "    <tr>\n",
              "      <th>201912</th>\n",
              "      <td>2017-09-01</td>\n",
              "      <td>C_ID_963962de2c</td>\n",
              "      <td>0.010479</td>\n",
              "      <td>0.008752</td>\n",
              "      <td>0.011428</td>\n",
              "      <td>-2.740234</td>\n",
              "      <td>0</td>\n",
              "      <td>153</td>\n",
              "      <td>3</td>\n",
              "      <td>1.603346</td>\n",
              "      <td>...</td>\n",
              "      <td>-0.009370</td>\n",
              "      <td>-0.009370</td>\n",
              "      <td>NaN</td>\n",
              "      <td>NaN</td>\n",
              "      <td>0.0</td>\n",
              "      <td>0.000000</td>\n",
              "      <td>2205.0</td>\n",
              "      <td>2205.0</td>\n",
              "      <td>191.0</td>\n",
              "      <td>191.0</td>\n",
              "    </tr>\n",
              "    <tr>\n",
              "      <th>201913</th>\n",
              "      <td>2015-10-01</td>\n",
              "      <td>C_ID_1314773c0b</td>\n",
              "      <td>0.010479</td>\n",
              "      <td>0.011385</td>\n",
              "      <td>0.011428</td>\n",
              "      <td>0.312988</td>\n",
              "      <td>0</td>\n",
              "      <td>854</td>\n",
              "      <td>4</td>\n",
              "      <td>8.949397</td>\n",
              "      <td>...</td>\n",
              "      <td>-0.010056</td>\n",
              "      <td>-0.010056</td>\n",
              "      <td>NaN</td>\n",
              "      <td>NaN</td>\n",
              "      <td>0.0</td>\n",
              "      <td>0.000000</td>\n",
              "      <td>2196.0</td>\n",
              "      <td>2196.0</td>\n",
              "      <td>901.0</td>\n",
              "      <td>901.0</td>\n",
              "    </tr>\n",
              "    <tr>\n",
              "      <th>201914</th>\n",
              "      <td>2017-08-01</td>\n",
              "      <td>C_ID_7666735b3d</td>\n",
              "      <td>0.010712</td>\n",
              "      <td>0.014166</td>\n",
              "      <td>0.010283</td>\n",
              "      <td>0.093506</td>\n",
              "      <td>0</td>\n",
              "      <td>184</td>\n",
              "      <td>3</td>\n",
              "      <td>1.970933</td>\n",
              "      <td>...</td>\n",
              "      <td>-0.008967</td>\n",
              "      <td>0.001526</td>\n",
              "      <td>2.817932e-05</td>\n",
              "      <td>-0.766576</td>\n",
              "      <td>5.0</td>\n",
              "      <td>1.666667</td>\n",
              "      <td>2188.0</td>\n",
              "      <td>2194.0</td>\n",
              "      <td>233.0</td>\n",
              "      <td>239.0</td>\n",
              "    </tr>\n",
              "    <tr>\n",
              "      <th>201915</th>\n",
              "      <td>2016-07-01</td>\n",
              "      <td>C_ID_73f5a0efd0</td>\n",
              "      <td>0.010479</td>\n",
              "      <td>0.008752</td>\n",
              "      <td>0.011428</td>\n",
              "      <td>-4.675781</td>\n",
              "      <td>0</td>\n",
              "      <td>580</td>\n",
              "      <td>3</td>\n",
              "      <td>6.078045</td>\n",
              "      <td>...</td>\n",
              "      <td>-0.009252</td>\n",
              "      <td>0.010256</td>\n",
              "      <td>1.131874e-04</td>\n",
              "      <td>0.608140</td>\n",
              "      <td>49.0</td>\n",
              "      <td>9.800000</td>\n",
              "      <td>2279.0</td>\n",
              "      <td>2329.0</td>\n",
              "      <td>494.0</td>\n",
              "      <td>544.0</td>\n",
              "    </tr>\n",
              "    <tr>\n",
              "      <th>201916</th>\n",
              "      <td>2017-07-01</td>\n",
              "      <td>C_ID_92c9984c58</td>\n",
              "      <td>0.010479</td>\n",
              "      <td>0.011385</td>\n",
              "      <td>0.011428</td>\n",
              "      <td>-1.859375</td>\n",
              "      <td>0</td>\n",
              "      <td>215</td>\n",
              "      <td>3</td>\n",
              "      <td>2.253068</td>\n",
              "      <td>...</td>\n",
              "      <td>-0.009931</td>\n",
              "      <td>0.002192</td>\n",
              "      <td>2.595435e-05</td>\n",
              "      <td>1.062235</td>\n",
              "      <td>38.0</td>\n",
              "      <td>4.750000</td>\n",
              "      <td>2155.0</td>\n",
              "      <td>2194.0</td>\n",
              "      <td>264.0</td>\n",
              "      <td>303.0</td>\n",
              "    </tr>\n",
              "  </tbody>\n",
              "</table>\n",
              "<p>201917 rows × 165 columns</p>\n",
              "</div>"
            ],
            "text/plain": [
              "       first_active_month          card_id  feature_1  feature_2  feature_3  \\\n",
              "0              2017-06-01  C_ID_92a2005557   0.013145   0.008752   0.011428   \n",
              "1              2017-01-01  C_ID_3d0044924f   0.010712   0.011385   0.010283   \n",
              "2              2016-08-01  C_ID_d639edf6cd   0.010610   0.008752   0.010283   \n",
              "3              2017-09-01  C_ID_186d6a6901   0.010712   0.014166   0.010283   \n",
              "4              2017-11-01  C_ID_cdbd2c0db2   0.008058   0.014166   0.010283   \n",
              "...                   ...              ...        ...        ...        ...   \n",
              "201912         2017-09-01  C_ID_963962de2c   0.010479   0.008752   0.011428   \n",
              "201913         2015-10-01  C_ID_1314773c0b   0.010479   0.011385   0.011428   \n",
              "201914         2017-08-01  C_ID_7666735b3d   0.010712   0.014166   0.010283   \n",
              "201915         2016-07-01  C_ID_73f5a0efd0   0.010479   0.008752   0.011428   \n",
              "201916         2017-07-01  C_ID_92c9984c58   0.010479   0.011385   0.011428   \n",
              "\n",
              "          target  outliers  days  quarter  days_feature_1  ...  \\\n",
              "0      -0.820312         0   245        2        3.220431  ...   \n",
              "1       0.392822         0   396        1        4.241790  ...   \n",
              "2       0.687988         0   549        3        5.824829  ...   \n",
              "3       0.142456         0   153        3        1.638874  ...   \n",
              "4      -0.159790         0    92        4        0.741381  ...   \n",
              "...          ...       ...   ...      ...             ...  ...   \n",
              "201912 -2.740234         0   153        3        1.603346  ...   \n",
              "201913  0.312988         0   854        4        8.949397  ...   \n",
              "201914  0.093506         0   184        3        1.970933  ...   \n",
              "201915 -4.675781         0   580        3        6.078045  ...   \n",
              "201916 -1.859375         0   215        3        2.253068  ...   \n",
              "\n",
              "        new_amount_month_ratio_min  new_amount_month_ratio_max  \\\n",
              "0                        -0.009926                   -0.004002   \n",
              "1                        -0.009857                   -0.009482   \n",
              "2                        -0.009592                   -0.009592   \n",
              "3                        -0.009924                   -0.007661   \n",
              "4                        -0.009990                    0.006094   \n",
              "...                            ...                         ...   \n",
              "201912                   -0.009370                   -0.009370   \n",
              "201913                   -0.010056                   -0.010056   \n",
              "201914                   -0.008967                    0.001526   \n",
              "201915                   -0.009252                    0.010256   \n",
              "201916                   -0.009931                    0.002192   \n",
              "\n",
              "        new_amount_month_ratio_var  new_amount_month_ratio_skew  \\\n",
              "0                     3.396540e-06                     0.891605   \n",
              "1                     2.308004e-08                     0.808045   \n",
              "2                              NaN                          NaN   \n",
              "3                     7.931529e-07                     0.804093   \n",
              "4                     9.201419e-06                     2.878926   \n",
              "...                            ...                          ...   \n",
              "201912                         NaN                          NaN   \n",
              "201913                         NaN                          NaN   \n",
              "201914                2.817932e-05                    -0.766576   \n",
              "201915                1.131874e-04                     0.608140   \n",
              "201916                2.595435e-05                     1.062235   \n",
              "\n",
              "        new_purchase_date_diff  new_purchase_date_average  \\\n",
              "0                         54.0                   2.347826   \n",
              "1                         56.0                   9.333333   \n",
              "2                          0.0                   0.000000   \n",
              "3                         41.0                   5.857143   \n",
              "4                         57.0                   1.583333   \n",
              "...                        ...                        ...   \n",
              "201912                     0.0                   0.000000   \n",
              "201913                     0.0                   0.000000   \n",
              "201914                     5.0                   1.666667   \n",
              "201915                    49.0                   9.800000   \n",
              "201916                    38.0                   4.750000   \n",
              "\n",
              "        new_purchase_date_uptonow  new_purchase_date_uptomin  new_first_buy  \\\n",
              "0                          2156.0                     2211.0          277.0   \n",
              "1                          2186.0                     2243.0          396.0   \n",
              "2                          2157.0                     2157.0          635.0   \n",
              "3                          2167.0                     2209.0          187.0   \n",
              "4                          2157.0                     2214.0          121.0   \n",
              "...                           ...                        ...            ...   \n",
              "201912                     2205.0                     2205.0          191.0   \n",
              "201913                     2196.0                     2196.0          901.0   \n",
              "201914                     2188.0                     2194.0          233.0   \n",
              "201915                     2279.0                     2329.0          494.0   \n",
              "201916                     2155.0                     2194.0          264.0   \n",
              "\n",
              "        new_last_buy  \n",
              "0              332.0  \n",
              "1              453.0  \n",
              "2              635.0  \n",
              "3              229.0  \n",
              "4              178.0  \n",
              "...              ...  \n",
              "201912         191.0  \n",
              "201913         901.0  \n",
              "201914         239.0  \n",
              "201915         544.0  \n",
              "201916         303.0  \n",
              "\n",
              "[201917 rows x 165 columns]"
            ]
          },
          "execution_count": 77,
          "metadata": {},
          "output_type": "execute_result"
        }
      ],
      "source": [
        "train"
      ]
    },
    {
      "cell_type": "code",
      "execution_count": 78,
      "metadata": {
        "gather": {
          "logged": 1711340353322
        },
        "jupyter": {
          "outputs_hidden": false,
          "source_hidden": false
        },
        "nteract": {
          "transient": {
            "deleting": false
          }
        }
      },
      "outputs": [],
      "source": [
        "#NEW Features referred from https://www.kaggle.com/mfjwr1/simple-lightgbm-without-blending\n",
        "train['card_id_total'] = train['new_card_id_size']+train['hist_card_id_size']\n",
        "train['card_id_cnt_total'] = train['new_card_id_count']+train['hist_card_id_count']\n",
        "train['card_id_cnt_ratio'] = train['new_card_id_count']/train['hist_card_id_count']\n",
        "train['purchase_amount_total'] = train['new_purchase_amount_sum']+train['hist_purchase_amount_sum']\n",
        "train['purchase_amount_mean'] = train['new_purchase_amount_mean']+train['hist_purchase_amount_mean']\n",
        "train['purchase_amount_max'] = train['new_purchase_amount_max']+train['hist_purchase_amount_max']\n",
        "train['purchase_amount_min'] = train['new_purchase_amount_min']+train['hist_purchase_amount_min']\n",
        "train['purchase_amount_ratio'] = train['new_purchase_amount_sum']/train['hist_purchase_amount_sum']\n",
        "train['month_diff_mean'] = train['new_month_diff_mean']+train['hist_month_diff_mean']\n",
        "train['month_diff_ratio'] = train['new_month_diff_mean']/train['hist_month_diff_mean']\n",
        "train['month_lag_mean'] = train['new_month_lag_mean']+train['hist_month_lag_mean']\n",
        "train['month_lag_max'] = train['new_month_lag_max']+train['hist_month_lag_max']\n",
        "train['month_lag_min'] = train['new_month_lag_min']+train['hist_month_lag_min']\n",
        "train['category_1_mean'] = train['new_category_1_mean']+train['hist_category_1_mean']\n",
        "train['installments_total'] = train['new_installments_sum']+train['hist_installments_sum']\n",
        "train['installments_mean'] = train['new_installments_mean']+train['hist_installments_mean']\n",
        "train['installments_max'] = train['new_installments_max']+train['hist_installments_max']\n",
        "train['installments_ratio'] = train['new_installments_sum']/train['hist_installments_sum']\n",
        "train['price_total'] = train['purchase_amount_total'] / train['installments_total']\n",
        "train['price_mean'] = train['purchase_amount_mean'] / train['installments_mean']\n",
        "train['price_max'] = train['purchase_amount_max'] / train['installments_max']\n",
        "train['duration_mean'] = train['new_duration_mean']+train['hist_duration_mean']\n",
        "train['duration_min'] = train['new_duration_min']+train['hist_duration_min']\n",
        "train['duration_max'] = train['new_duration_max']+train['hist_duration_max']\n",
        "train['amount_month_ratio_mean']=train['new_amount_month_ratio_mean']+train['hist_amount_month_ratio_mean']\n",
        "train['amount_month_ratio_min']=train['new_amount_month_ratio_min']+train['hist_amount_month_ratio_min']\n",
        "train['amount_month_ratio_max']=train['new_amount_month_ratio_max']+train['hist_amount_month_ratio_max']\n",
        "train['new_CLV'] = train['new_card_id_count'] * train['new_purchase_amount_sum'] / train['new_month_diff_mean']\n",
        "train['hist_CLV'] = train['hist_card_id_count'] * train['hist_purchase_amount_sum'] / train['hist_month_diff_mean']\n",
        "train['CLV_ratio'] = train['new_CLV'] / train['hist_CLV']\n",
        "\n",
        "test['card_id_total'] = test['new_card_id_size']+test['hist_card_id_size']\n",
        "test['card_id_cnt_total'] = test['new_card_id_count']+test['hist_card_id_count']\n",
        "test['card_id_cnt_ratio'] = test['new_card_id_count']/test['hist_card_id_count']\n",
        "test['purchase_amount_total'] = test['new_purchase_amount_sum']+test['hist_purchase_amount_sum']\n",
        "test['purchase_amount_mean'] = test['new_purchase_amount_mean']+test['hist_purchase_amount_mean']\n",
        "test['purchase_amount_max'] = test['new_purchase_amount_max']+test['hist_purchase_amount_max']\n",
        "test['purchase_amount_min'] = test['new_purchase_amount_min']+test['hist_purchase_amount_min']\n",
        "test['purchase_amount_ratio'] = test['new_purchase_amount_sum']/test['hist_purchase_amount_sum']\n",
        "test['month_diff_mean'] = test['new_month_diff_mean']+test['hist_month_diff_mean']\n",
        "test['month_diff_ratio'] = test['new_month_diff_mean']/test['hist_month_diff_mean']\n",
        "test['month_lag_mean'] = test['new_month_lag_mean']+test['hist_month_lag_mean']\n",
        "test['month_lag_max'] = test['new_month_lag_max']+test['hist_month_lag_max']\n",
        "test['month_lag_min'] = test['new_month_lag_min']+test['hist_month_lag_min']\n",
        "test['category_1_mean'] = test['new_category_1_mean']+test['hist_category_1_mean']\n",
        "test['installments_total'] = test['new_installments_sum']+test['hist_installments_sum']\n",
        "test['installments_mean'] = test['new_installments_mean']+test['hist_installments_mean']\n",
        "test['installments_max'] = test['new_installments_max']+test['hist_installments_max']\n",
        "test['installments_ratio'] = test['new_installments_sum']/test['hist_installments_sum']\n",
        "test['price_total'] = test['purchase_amount_total'] / test['installments_total']\n",
        "test['price_mean'] = test['purchase_amount_mean'] / test['installments_mean']\n",
        "test['price_max'] = test['purchase_amount_max'] / test['installments_max']\n",
        "test['duration_mean'] = test['new_duration_mean']+test['hist_duration_mean']\n",
        "test['duration_min'] = test['new_duration_min']+test['hist_duration_min']\n",
        "test['duration_max'] = test['new_duration_max']+test['hist_duration_max']\n",
        "test['amount_month_ratio_mean']=test['new_amount_month_ratio_mean']+test['hist_amount_month_ratio_mean']\n",
        "test['amount_month_ratio_min']=test['new_amount_month_ratio_min']+test['hist_amount_month_ratio_min']\n",
        "test['amount_month_ratio_max']=test['new_amount_month_ratio_max']+test['hist_amount_month_ratio_max']\n",
        "test['new_CLV'] = test['new_card_id_count'] * test['new_purchase_amount_sum'] / test['new_month_diff_mean']\n",
        "test['hist_CLV'] = test['hist_card_id_count'] * test['hist_purchase_amount_sum'] / test['hist_month_diff_mean']\n",
        "test['CLV_ratio'] = test['new_CLV'] / test['hist_CLV']"
      ]
    },
    {
      "cell_type": "code",
      "execution_count": 79,
      "metadata": {
        "gather": {
          "logged": 1711340358624
        },
        "jupyter": {
          "outputs_hidden": false,
          "source_hidden": false
        },
        "nteract": {
          "transient": {
            "deleting": false
          }
        }
      },
      "outputs": [
        {
          "data": {
            "text/html": [
              "<div>\n",
              "<style scoped>\n",
              "    .dataframe tbody tr th:only-of-type {\n",
              "        vertical-align: middle;\n",
              "    }\n",
              "\n",
              "    .dataframe tbody tr th {\n",
              "        vertical-align: top;\n",
              "    }\n",
              "\n",
              "    .dataframe thead th {\n",
              "        text-align: right;\n",
              "    }\n",
              "</style>\n",
              "<table border=\"1\" class=\"dataframe\">\n",
              "  <thead>\n",
              "    <tr style=\"text-align: right;\">\n",
              "      <th></th>\n",
              "      <th>first_active_month</th>\n",
              "      <th>card_id</th>\n",
              "      <th>feature_1</th>\n",
              "      <th>feature_2</th>\n",
              "      <th>feature_3</th>\n",
              "      <th>target</th>\n",
              "      <th>outliers</th>\n",
              "      <th>days</th>\n",
              "      <th>quarter</th>\n",
              "      <th>days_feature_1</th>\n",
              "      <th>...</th>\n",
              "      <th>price_max</th>\n",
              "      <th>duration_mean</th>\n",
              "      <th>duration_min</th>\n",
              "      <th>duration_max</th>\n",
              "      <th>amount_month_ratio_mean</th>\n",
              "      <th>amount_month_ratio_min</th>\n",
              "      <th>amount_month_ratio_max</th>\n",
              "      <th>new_CLV</th>\n",
              "      <th>hist_CLV</th>\n",
              "      <th>CLV_ratio</th>\n",
              "    </tr>\n",
              "  </thead>\n",
              "  <tbody>\n",
              "    <tr>\n",
              "      <th>0</th>\n",
              "      <td>2017-06-01</td>\n",
              "      <td>C_ID_92a2005557</td>\n",
              "      <td>0.013145</td>\n",
              "      <td>0.008752</td>\n",
              "      <td>0.011428</td>\n",
              "      <td>-0.820312</td>\n",
              "      <td>0</td>\n",
              "      <td>245</td>\n",
              "      <td>2</td>\n",
              "      <td>3.220431</td>\n",
              "      <td>...</td>\n",
              "      <td>0.503857</td>\n",
              "      <td>-89.998522</td>\n",
              "      <td>-107.974962</td>\n",
              "      <td>37.581592</td>\n",
              "      <td>-0.016532</td>\n",
              "      <td>-0.020034</td>\n",
              "      <td>0.006809</td>\n",
              "      <td>-4.133346</td>\n",
              "      <td>-589.360250</td>\n",
              "      <td>0.007013</td>\n",
              "    </tr>\n",
              "    <tr>\n",
              "      <th>1</th>\n",
              "      <td>2017-01-01</td>\n",
              "      <td>C_ID_3d0044924f</td>\n",
              "      <td>0.010712</td>\n",
              "      <td>0.011385</td>\n",
              "      <td>0.010283</td>\n",
              "      <td>0.392822</td>\n",
              "      <td>0</td>\n",
              "      <td>396</td>\n",
              "      <td>1</td>\n",
              "      <td>4.241790</td>\n",
              "      <td>...</td>\n",
              "      <td>0.008940</td>\n",
              "      <td>-100.408192</td>\n",
              "      <td>-111.124322</td>\n",
              "      <td>8.077148</td>\n",
              "      <td>-0.017919</td>\n",
              "      <td>-0.019869</td>\n",
              "      <td>0.001185</td>\n",
              "      <td>-0.349214</td>\n",
              "      <td>-1006.710678</td>\n",
              "      <td>0.000347</td>\n",
              "    </tr>\n",
              "    <tr>\n",
              "      <th>2</th>\n",
              "      <td>2016-08-01</td>\n",
              "      <td>C_ID_d639edf6cd</td>\n",
              "      <td>0.010610</td>\n",
              "      <td>0.008752</td>\n",
              "      <td>0.010283</td>\n",
              "      <td>0.687988</td>\n",
              "      <td>0</td>\n",
              "      <td>549</td>\n",
              "      <td>3</td>\n",
              "      <td>5.824829</td>\n",
              "      <td>...</td>\n",
              "      <td>-inf</td>\n",
              "      <td>-101.243774</td>\n",
              "      <td>-105.144483</td>\n",
              "      <td>-61.761112</td>\n",
              "      <td>-0.018770</td>\n",
              "      <td>-0.019458</td>\n",
              "      <td>-0.011590</td>\n",
              "      <td>-0.009592</td>\n",
              "      <td>-16.975293</td>\n",
              "      <td>0.000565</td>\n",
              "    </tr>\n",
              "    <tr>\n",
              "      <th>3</th>\n",
              "      <td>2017-09-01</td>\n",
              "      <td>C_ID_186d6a6901</td>\n",
              "      <td>0.010712</td>\n",
              "      <td>0.014166</td>\n",
              "      <td>0.010283</td>\n",
              "      <td>0.142456</td>\n",
              "      <td>0</td>\n",
              "      <td>153</td>\n",
              "      <td>3</td>\n",
              "      <td>1.638874</td>\n",
              "      <td>...</td>\n",
              "      <td>0.058276</td>\n",
              "      <td>-97.272510</td>\n",
              "      <td>-109.170141</td>\n",
              "      <td>17.249805</td>\n",
              "      <td>-0.017807</td>\n",
              "      <td>-0.020032</td>\n",
              "      <td>0.003150</td>\n",
              "      <td>-0.440318</td>\n",
              "      <td>-52.288836</td>\n",
              "      <td>0.008421</td>\n",
              "    </tr>\n",
              "    <tr>\n",
              "      <th>4</th>\n",
              "      <td>2017-11-01</td>\n",
              "      <td>C_ID_cdbd2c0db2</td>\n",
              "      <td>0.008058</td>\n",
              "      <td>0.014166</td>\n",
              "      <td>0.010283</td>\n",
              "      <td>-0.159790</td>\n",
              "      <td>0</td>\n",
              "      <td>92</td>\n",
              "      <td>4</td>\n",
              "      <td>0.741381</td>\n",
              "      <td>...</td>\n",
              "      <td>0.089352</td>\n",
              "      <td>-82.625484</td>\n",
              "      <td>-109.920656</td>\n",
              "      <td>92.568652</td>\n",
              "      <td>-0.015162</td>\n",
              "      <td>-0.020077</td>\n",
              "      <td>0.017053</td>\n",
              "      <td>-9.715684</td>\n",
              "      <td>-135.611337</td>\n",
              "      <td>0.071644</td>\n",
              "    </tr>\n",
              "    <tr>\n",
              "      <th>...</th>\n",
              "      <td>...</td>\n",
              "      <td>...</td>\n",
              "      <td>...</td>\n",
              "      <td>...</td>\n",
              "      <td>...</td>\n",
              "      <td>...</td>\n",
              "      <td>...</td>\n",
              "      <td>...</td>\n",
              "      <td>...</td>\n",
              "      <td>...</td>\n",
              "      <td>...</td>\n",
              "      <td>...</td>\n",
              "      <td>...</td>\n",
              "      <td>...</td>\n",
              "      <td>...</td>\n",
              "      <td>...</td>\n",
              "      <td>...</td>\n",
              "      <td>...</td>\n",
              "      <td>...</td>\n",
              "      <td>...</td>\n",
              "      <td>...</td>\n",
              "    </tr>\n",
              "    <tr>\n",
              "      <th>201912</th>\n",
              "      <td>2017-09-01</td>\n",
              "      <td>C_ID_963962de2c</td>\n",
              "      <td>0.010479</td>\n",
              "      <td>0.008752</td>\n",
              "      <td>0.011428</td>\n",
              "      <td>-2.740234</td>\n",
              "      <td>0</td>\n",
              "      <td>153</td>\n",
              "      <td>3</td>\n",
              "      <td>1.603346</td>\n",
              "      <td>...</td>\n",
              "      <td>-1.265268</td>\n",
              "      <td>-103.744816</td>\n",
              "      <td>-106.246180</td>\n",
              "      <td>-93.629861</td>\n",
              "      <td>-0.018963</td>\n",
              "      <td>-0.019535</td>\n",
              "      <td>-0.017098</td>\n",
              "      <td>-0.009370</td>\n",
              "      <td>-20.298448</td>\n",
              "      <td>0.000462</td>\n",
              "    </tr>\n",
              "    <tr>\n",
              "      <th>201913</th>\n",
              "      <td>2015-10-01</td>\n",
              "      <td>C_ID_1314773c0b</td>\n",
              "      <td>0.010479</td>\n",
              "      <td>0.011385</td>\n",
              "      <td>0.011428</td>\n",
              "      <td>0.312988</td>\n",
              "      <td>0</td>\n",
              "      <td>854</td>\n",
              "      <td>4</td>\n",
              "      <td>8.949397</td>\n",
              "      <td>...</td>\n",
              "      <td>-1.318394</td>\n",
              "      <td>-107.705475</td>\n",
              "      <td>-110.116303</td>\n",
              "      <td>-97.561139</td>\n",
              "      <td>-0.019669</td>\n",
              "      <td>-0.020109</td>\n",
              "      <td>-0.017816</td>\n",
              "      <td>-0.010056</td>\n",
              "      <td>-21.234423</td>\n",
              "      <td>0.000474</td>\n",
              "    </tr>\n",
              "    <tr>\n",
              "      <th>201914</th>\n",
              "      <td>2017-08-01</td>\n",
              "      <td>C_ID_7666735b3d</td>\n",
              "      <td>0.010712</td>\n",
              "      <td>0.014166</td>\n",
              "      <td>0.010283</td>\n",
              "      <td>0.093506</td>\n",
              "      <td>0</td>\n",
              "      <td>184</td>\n",
              "      <td>3</td>\n",
              "      <td>1.970933</td>\n",
              "      <td>...</td>\n",
              "      <td>0.075949</td>\n",
              "      <td>-52.785647</td>\n",
              "      <td>-103.710717</td>\n",
              "      <td>67.331409</td>\n",
              "      <td>-0.009640</td>\n",
              "      <td>-0.018939</td>\n",
              "      <td>0.012485</td>\n",
              "      <td>-0.029482</td>\n",
              "      <td>-48.371005</td>\n",
              "      <td>0.000609</td>\n",
              "    </tr>\n",
              "    <tr>\n",
              "      <th>201915</th>\n",
              "      <td>2016-07-01</td>\n",
              "      <td>C_ID_73f5a0efd0</td>\n",
              "      <td>0.010479</td>\n",
              "      <td>0.008752</td>\n",
              "      <td>0.011428</td>\n",
              "      <td>-4.675781</td>\n",
              "      <td>0</td>\n",
              "      <td>580</td>\n",
              "      <td>3</td>\n",
              "      <td>6.078045</td>\n",
              "      <td>...</td>\n",
              "      <td>inf</td>\n",
              "      <td>-61.857946</td>\n",
              "      <td>-113.377754</td>\n",
              "      <td>14.857411</td>\n",
              "      <td>-0.010222</td>\n",
              "      <td>-0.018635</td>\n",
              "      <td>0.002442</td>\n",
              "      <td>-0.034431</td>\n",
              "      <td>-5.965927</td>\n",
              "      <td>0.005771</td>\n",
              "    </tr>\n",
              "    <tr>\n",
              "      <th>201916</th>\n",
              "      <td>2017-07-01</td>\n",
              "      <td>C_ID_92c9984c58</td>\n",
              "      <td>0.010479</td>\n",
              "      <td>0.011385</td>\n",
              "      <td>0.011428</td>\n",
              "      <td>-1.859375</td>\n",
              "      <td>0</td>\n",
              "      <td>215</td>\n",
              "      <td>3</td>\n",
              "      <td>2.253068</td>\n",
              "      <td>...</td>\n",
              "      <td>0.106171</td>\n",
              "      <td>-78.748869</td>\n",
              "      <td>-109.206274</td>\n",
              "      <td>70.710044</td>\n",
              "      <td>-0.014464</td>\n",
              "      <td>-0.019943</td>\n",
              "      <td>0.012913</td>\n",
              "      <td>-0.389047</td>\n",
              "      <td>-150.425984</td>\n",
              "      <td>0.002586</td>\n",
              "    </tr>\n",
              "  </tbody>\n",
              "</table>\n",
              "<p>201917 rows × 195 columns</p>\n",
              "</div>"
            ],
            "text/plain": [
              "       first_active_month          card_id  feature_1  feature_2  feature_3  \\\n",
              "0              2017-06-01  C_ID_92a2005557   0.013145   0.008752   0.011428   \n",
              "1              2017-01-01  C_ID_3d0044924f   0.010712   0.011385   0.010283   \n",
              "2              2016-08-01  C_ID_d639edf6cd   0.010610   0.008752   0.010283   \n",
              "3              2017-09-01  C_ID_186d6a6901   0.010712   0.014166   0.010283   \n",
              "4              2017-11-01  C_ID_cdbd2c0db2   0.008058   0.014166   0.010283   \n",
              "...                   ...              ...        ...        ...        ...   \n",
              "201912         2017-09-01  C_ID_963962de2c   0.010479   0.008752   0.011428   \n",
              "201913         2015-10-01  C_ID_1314773c0b   0.010479   0.011385   0.011428   \n",
              "201914         2017-08-01  C_ID_7666735b3d   0.010712   0.014166   0.010283   \n",
              "201915         2016-07-01  C_ID_73f5a0efd0   0.010479   0.008752   0.011428   \n",
              "201916         2017-07-01  C_ID_92c9984c58   0.010479   0.011385   0.011428   \n",
              "\n",
              "          target  outliers  days  quarter  days_feature_1  ...  price_max  \\\n",
              "0      -0.820312         0   245        2        3.220431  ...   0.503857   \n",
              "1       0.392822         0   396        1        4.241790  ...   0.008940   \n",
              "2       0.687988         0   549        3        5.824829  ...       -inf   \n",
              "3       0.142456         0   153        3        1.638874  ...   0.058276   \n",
              "4      -0.159790         0    92        4        0.741381  ...   0.089352   \n",
              "...          ...       ...   ...      ...             ...  ...        ...   \n",
              "201912 -2.740234         0   153        3        1.603346  ...  -1.265268   \n",
              "201913  0.312988         0   854        4        8.949397  ...  -1.318394   \n",
              "201914  0.093506         0   184        3        1.970933  ...   0.075949   \n",
              "201915 -4.675781         0   580        3        6.078045  ...        inf   \n",
              "201916 -1.859375         0   215        3        2.253068  ...   0.106171   \n",
              "\n",
              "        duration_mean  duration_min  duration_max  amount_month_ratio_mean  \\\n",
              "0          -89.998522   -107.974962     37.581592                -0.016532   \n",
              "1         -100.408192   -111.124322      8.077148                -0.017919   \n",
              "2         -101.243774   -105.144483    -61.761112                -0.018770   \n",
              "3          -97.272510   -109.170141     17.249805                -0.017807   \n",
              "4          -82.625484   -109.920656     92.568652                -0.015162   \n",
              "...               ...           ...           ...                      ...   \n",
              "201912    -103.744816   -106.246180    -93.629861                -0.018963   \n",
              "201913    -107.705475   -110.116303    -97.561139                -0.019669   \n",
              "201914     -52.785647   -103.710717     67.331409                -0.009640   \n",
              "201915     -61.857946   -113.377754     14.857411                -0.010222   \n",
              "201916     -78.748869   -109.206274     70.710044                -0.014464   \n",
              "\n",
              "        amount_month_ratio_min  amount_month_ratio_max   new_CLV     hist_CLV  \\\n",
              "0                    -0.020034                0.006809 -4.133346  -589.360250   \n",
              "1                    -0.019869                0.001185 -0.349214 -1006.710678   \n",
              "2                    -0.019458               -0.011590 -0.009592   -16.975293   \n",
              "3                    -0.020032                0.003150 -0.440318   -52.288836   \n",
              "4                    -0.020077                0.017053 -9.715684  -135.611337   \n",
              "...                        ...                     ...       ...          ...   \n",
              "201912               -0.019535               -0.017098 -0.009370   -20.298448   \n",
              "201913               -0.020109               -0.017816 -0.010056   -21.234423   \n",
              "201914               -0.018939                0.012485 -0.029482   -48.371005   \n",
              "201915               -0.018635                0.002442 -0.034431    -5.965927   \n",
              "201916               -0.019943                0.012913 -0.389047  -150.425984   \n",
              "\n",
              "        CLV_ratio  \n",
              "0        0.007013  \n",
              "1        0.000347  \n",
              "2        0.000565  \n",
              "3        0.008421  \n",
              "4        0.071644  \n",
              "...           ...  \n",
              "201912   0.000462  \n",
              "201913   0.000474  \n",
              "201914   0.000609  \n",
              "201915   0.005771  \n",
              "201916   0.002586  \n",
              "\n",
              "[201917 rows x 195 columns]"
            ]
          },
          "execution_count": 79,
          "metadata": {},
          "output_type": "execute_result"
        }
      ],
      "source": [
        "train"
      ]
    },
    {
      "cell_type": "code",
      "execution_count": 80,
      "metadata": {
        "gather": {
          "logged": 1711340378531
        },
        "jupyter": {
          "outputs_hidden": false,
          "source_hidden": false
        },
        "nteract": {
          "transient": {
            "deleting": false
          }
        }
      },
      "outputs": [
        {
          "data": {
            "text/html": [
              "<div>\n",
              "<style scoped>\n",
              "    .dataframe tbody tr th:only-of-type {\n",
              "        vertical-align: middle;\n",
              "    }\n",
              "\n",
              "    .dataframe tbody tr th {\n",
              "        vertical-align: top;\n",
              "    }\n",
              "\n",
              "    .dataframe thead th {\n",
              "        text-align: right;\n",
              "    }\n",
              "</style>\n",
              "<table border=\"1\" class=\"dataframe\">\n",
              "  <thead>\n",
              "    <tr style=\"text-align: right;\">\n",
              "      <th></th>\n",
              "      <th>first_active_month</th>\n",
              "      <th>card_id</th>\n",
              "      <th>feature_1</th>\n",
              "      <th>feature_2</th>\n",
              "      <th>feature_3</th>\n",
              "      <th>target</th>\n",
              "      <th>outliers</th>\n",
              "      <th>days</th>\n",
              "      <th>quarter</th>\n",
              "      <th>days_feature_1</th>\n",
              "      <th>...</th>\n",
              "      <th>price_max</th>\n",
              "      <th>duration_mean</th>\n",
              "      <th>duration_min</th>\n",
              "      <th>duration_max</th>\n",
              "      <th>amount_month_ratio_mean</th>\n",
              "      <th>amount_month_ratio_min</th>\n",
              "      <th>amount_month_ratio_max</th>\n",
              "      <th>new_CLV</th>\n",
              "      <th>hist_CLV</th>\n",
              "      <th>CLV_ratio</th>\n",
              "    </tr>\n",
              "  </thead>\n",
              "  <tbody>\n",
              "    <tr>\n",
              "      <th>0</th>\n",
              "      <td>2017-06-01</td>\n",
              "      <td>C_ID_92a2005557</td>\n",
              "      <td>0.013145</td>\n",
              "      <td>0.008752</td>\n",
              "      <td>0.011428</td>\n",
              "      <td>-0.820312</td>\n",
              "      <td>0</td>\n",
              "      <td>245</td>\n",
              "      <td>2</td>\n",
              "      <td>3.220431</td>\n",
              "      <td>...</td>\n",
              "      <td>0.503857</td>\n",
              "      <td>-89.998522</td>\n",
              "      <td>-107.974962</td>\n",
              "      <td>37.581592</td>\n",
              "      <td>-0.016532</td>\n",
              "      <td>-0.020034</td>\n",
              "      <td>0.006809</td>\n",
              "      <td>-4.133346</td>\n",
              "      <td>-589.360250</td>\n",
              "      <td>0.007013</td>\n",
              "    </tr>\n",
              "    <tr>\n",
              "      <th>1</th>\n",
              "      <td>2017-01-01</td>\n",
              "      <td>C_ID_3d0044924f</td>\n",
              "      <td>0.010712</td>\n",
              "      <td>0.011385</td>\n",
              "      <td>0.010283</td>\n",
              "      <td>0.392822</td>\n",
              "      <td>0</td>\n",
              "      <td>396</td>\n",
              "      <td>1</td>\n",
              "      <td>4.241790</td>\n",
              "      <td>...</td>\n",
              "      <td>0.008940</td>\n",
              "      <td>-100.408192</td>\n",
              "      <td>-111.124322</td>\n",
              "      <td>8.077148</td>\n",
              "      <td>-0.017919</td>\n",
              "      <td>-0.019869</td>\n",
              "      <td>0.001185</td>\n",
              "      <td>-0.349214</td>\n",
              "      <td>-1006.710678</td>\n",
              "      <td>0.000347</td>\n",
              "    </tr>\n",
              "    <tr>\n",
              "      <th>2</th>\n",
              "      <td>2016-08-01</td>\n",
              "      <td>C_ID_d639edf6cd</td>\n",
              "      <td>0.010610</td>\n",
              "      <td>0.008752</td>\n",
              "      <td>0.010283</td>\n",
              "      <td>0.687988</td>\n",
              "      <td>0</td>\n",
              "      <td>549</td>\n",
              "      <td>3</td>\n",
              "      <td>5.824829</td>\n",
              "      <td>...</td>\n",
              "      <td>-inf</td>\n",
              "      <td>-101.243774</td>\n",
              "      <td>-105.144483</td>\n",
              "      <td>-61.761112</td>\n",
              "      <td>-0.018770</td>\n",
              "      <td>-0.019458</td>\n",
              "      <td>-0.011590</td>\n",
              "      <td>-0.009592</td>\n",
              "      <td>-16.975293</td>\n",
              "      <td>0.000565</td>\n",
              "    </tr>\n",
              "    <tr>\n",
              "      <th>3</th>\n",
              "      <td>2017-09-01</td>\n",
              "      <td>C_ID_186d6a6901</td>\n",
              "      <td>0.010712</td>\n",
              "      <td>0.014166</td>\n",
              "      <td>0.010283</td>\n",
              "      <td>0.142456</td>\n",
              "      <td>0</td>\n",
              "      <td>153</td>\n",
              "      <td>3</td>\n",
              "      <td>1.638874</td>\n",
              "      <td>...</td>\n",
              "      <td>0.058276</td>\n",
              "      <td>-97.272510</td>\n",
              "      <td>-109.170141</td>\n",
              "      <td>17.249805</td>\n",
              "      <td>-0.017807</td>\n",
              "      <td>-0.020032</td>\n",
              "      <td>0.003150</td>\n",
              "      <td>-0.440318</td>\n",
              "      <td>-52.288836</td>\n",
              "      <td>0.008421</td>\n",
              "    </tr>\n",
              "    <tr>\n",
              "      <th>4</th>\n",
              "      <td>2017-11-01</td>\n",
              "      <td>C_ID_cdbd2c0db2</td>\n",
              "      <td>0.008058</td>\n",
              "      <td>0.014166</td>\n",
              "      <td>0.010283</td>\n",
              "      <td>-0.159790</td>\n",
              "      <td>0</td>\n",
              "      <td>92</td>\n",
              "      <td>4</td>\n",
              "      <td>0.741381</td>\n",
              "      <td>...</td>\n",
              "      <td>0.089352</td>\n",
              "      <td>-82.625484</td>\n",
              "      <td>-109.920656</td>\n",
              "      <td>92.568652</td>\n",
              "      <td>-0.015162</td>\n",
              "      <td>-0.020077</td>\n",
              "      <td>0.017053</td>\n",
              "      <td>-9.715684</td>\n",
              "      <td>-135.611337</td>\n",
              "      <td>0.071644</td>\n",
              "    </tr>\n",
              "    <tr>\n",
              "      <th>5</th>\n",
              "      <td>2016-09-01</td>\n",
              "      <td>C_ID_0894217f2f</td>\n",
              "      <td>0.010712</td>\n",
              "      <td>0.008752</td>\n",
              "      <td>0.010283</td>\n",
              "      <td>0.871582</td>\n",
              "      <td>0</td>\n",
              "      <td>518</td>\n",
              "      <td>3</td>\n",
              "      <td>5.548604</td>\n",
              "      <td>...</td>\n",
              "      <td>0.002242</td>\n",
              "      <td>-62.159290</td>\n",
              "      <td>-108.020416</td>\n",
              "      <td>2.723974</td>\n",
              "      <td>-0.009474</td>\n",
              "      <td>-0.016464</td>\n",
              "      <td>0.000415</td>\n",
              "      <td>-0.069123</td>\n",
              "      <td>-5.612538</td>\n",
              "      <td>0.012316</td>\n",
              "    </tr>\n",
              "    <tr>\n",
              "      <th>6</th>\n",
              "      <td>2016-12-01</td>\n",
              "      <td>C_ID_7e63323c00</td>\n",
              "      <td>0.010479</td>\n",
              "      <td>0.008752</td>\n",
              "      <td>0.011428</td>\n",
              "      <td>0.230103</td>\n",
              "      <td>0</td>\n",
              "      <td>427</td>\n",
              "      <td>4</td>\n",
              "      <td>4.474699</td>\n",
              "      <td>...</td>\n",
              "      <td>-inf</td>\n",
              "      <td>-106.075602</td>\n",
              "      <td>-109.870449</td>\n",
              "      <td>-91.700667</td>\n",
              "      <td>-0.019377</td>\n",
              "      <td>-0.020196</td>\n",
              "      <td>-0.016746</td>\n",
              "      <td>-0.243415</td>\n",
              "      <td>-651.684454</td>\n",
              "      <td>0.000374</td>\n",
              "    </tr>\n",
              "    <tr>\n",
              "      <th>7</th>\n",
              "      <td>2017-09-01</td>\n",
              "      <td>C_ID_dfa21fc124</td>\n",
              "      <td>0.010479</td>\n",
              "      <td>0.008752</td>\n",
              "      <td>0.011428</td>\n",
              "      <td>2.136719</td>\n",
              "      <td>0</td>\n",
              "      <td>153</td>\n",
              "      <td>3</td>\n",
              "      <td>1.603346</td>\n",
              "      <td>...</td>\n",
              "      <td>-inf</td>\n",
              "      <td>-99.830481</td>\n",
              "      <td>-109.976962</td>\n",
              "      <td>-57.168806</td>\n",
              "      <td>-0.017349</td>\n",
              "      <td>-0.019171</td>\n",
              "      <td>-0.009917</td>\n",
              "      <td>-0.082821</td>\n",
              "      <td>-3.943465</td>\n",
              "      <td>0.021002</td>\n",
              "    </tr>\n",
              "    <tr>\n",
              "      <th>8</th>\n",
              "      <td>2017-08-01</td>\n",
              "      <td>C_ID_fe0fdac8ea</td>\n",
              "      <td>0.010610</td>\n",
              "      <td>0.011385</td>\n",
              "      <td>0.010283</td>\n",
              "      <td>-0.065430</td>\n",
              "      <td>0</td>\n",
              "      <td>184</td>\n",
              "      <td>3</td>\n",
              "      <td>1.952220</td>\n",
              "      <td>...</td>\n",
              "      <td>-0.277330</td>\n",
              "      <td>-89.699107</td>\n",
              "      <td>-105.729249</td>\n",
              "      <td>-61.567260</td>\n",
              "      <td>-0.016380</td>\n",
              "      <td>-0.019308</td>\n",
              "      <td>-0.011243</td>\n",
              "      <td>-0.034140</td>\n",
              "      <td>-1.765211</td>\n",
              "      <td>0.019341</td>\n",
              "    </tr>\n",
              "    <tr>\n",
              "      <th>9</th>\n",
              "      <td>2016-08-01</td>\n",
              "      <td>C_ID_bf62c0b49d</td>\n",
              "      <td>0.010610</td>\n",
              "      <td>0.008752</td>\n",
              "      <td>0.010283</td>\n",
              "      <td>0.300049</td>\n",
              "      <td>0</td>\n",
              "      <td>549</td>\n",
              "      <td>3</td>\n",
              "      <td>5.824829</td>\n",
              "      <td>...</td>\n",
              "      <td>-1.037351</td>\n",
              "      <td>-103.125103</td>\n",
              "      <td>-109.890050</td>\n",
              "      <td>-76.392622</td>\n",
              "      <td>-0.018864</td>\n",
              "      <td>-0.020193</td>\n",
              "      <td>-0.014021</td>\n",
              "      <td>-0.086762</td>\n",
              "      <td>-117.787981</td>\n",
              "      <td>0.000737</td>\n",
              "    </tr>\n",
              "  </tbody>\n",
              "</table>\n",
              "<p>10 rows × 195 columns</p>\n",
              "</div>"
            ],
            "text/plain": [
              "  first_active_month          card_id  feature_1  feature_2  feature_3  \\\n",
              "0         2017-06-01  C_ID_92a2005557   0.013145   0.008752   0.011428   \n",
              "1         2017-01-01  C_ID_3d0044924f   0.010712   0.011385   0.010283   \n",
              "2         2016-08-01  C_ID_d639edf6cd   0.010610   0.008752   0.010283   \n",
              "3         2017-09-01  C_ID_186d6a6901   0.010712   0.014166   0.010283   \n",
              "4         2017-11-01  C_ID_cdbd2c0db2   0.008058   0.014166   0.010283   \n",
              "5         2016-09-01  C_ID_0894217f2f   0.010712   0.008752   0.010283   \n",
              "6         2016-12-01  C_ID_7e63323c00   0.010479   0.008752   0.011428   \n",
              "7         2017-09-01  C_ID_dfa21fc124   0.010479   0.008752   0.011428   \n",
              "8         2017-08-01  C_ID_fe0fdac8ea   0.010610   0.011385   0.010283   \n",
              "9         2016-08-01  C_ID_bf62c0b49d   0.010610   0.008752   0.010283   \n",
              "\n",
              "     target  outliers  days  quarter  days_feature_1  ...  price_max  \\\n",
              "0 -0.820312         0   245        2        3.220431  ...   0.503857   \n",
              "1  0.392822         0   396        1        4.241790  ...   0.008940   \n",
              "2  0.687988         0   549        3        5.824829  ...       -inf   \n",
              "3  0.142456         0   153        3        1.638874  ...   0.058276   \n",
              "4 -0.159790         0    92        4        0.741381  ...   0.089352   \n",
              "5  0.871582         0   518        3        5.548604  ...   0.002242   \n",
              "6  0.230103         0   427        4        4.474699  ...       -inf   \n",
              "7  2.136719         0   153        3        1.603346  ...       -inf   \n",
              "8 -0.065430         0   184        3        1.952220  ...  -0.277330   \n",
              "9  0.300049         0   549        3        5.824829  ...  -1.037351   \n",
              "\n",
              "   duration_mean  duration_min  duration_max  amount_month_ratio_mean  \\\n",
              "0     -89.998522   -107.974962     37.581592                -0.016532   \n",
              "1    -100.408192   -111.124322      8.077148                -0.017919   \n",
              "2    -101.243774   -105.144483    -61.761112                -0.018770   \n",
              "3     -97.272510   -109.170141     17.249805                -0.017807   \n",
              "4     -82.625484   -109.920656     92.568652                -0.015162   \n",
              "5     -62.159290   -108.020416      2.723974                -0.009474   \n",
              "6    -106.075602   -109.870449    -91.700667                -0.019377   \n",
              "7     -99.830481   -109.976962    -57.168806                -0.017349   \n",
              "8     -89.699107   -105.729249    -61.567260                -0.016380   \n",
              "9    -103.125103   -109.890050    -76.392622                -0.018864   \n",
              "\n",
              "   amount_month_ratio_min  amount_month_ratio_max   new_CLV     hist_CLV  \\\n",
              "0               -0.020034                0.006809 -4.133346  -589.360250   \n",
              "1               -0.019869                0.001185 -0.349214 -1006.710678   \n",
              "2               -0.019458               -0.011590 -0.009592   -16.975293   \n",
              "3               -0.020032                0.003150 -0.440318   -52.288836   \n",
              "4               -0.020077                0.017053 -9.715684  -135.611337   \n",
              "5               -0.016464                0.000415 -0.069123    -5.612538   \n",
              "6               -0.020196               -0.016746 -0.243415  -651.684454   \n",
              "7               -0.019171               -0.009917 -0.082821    -3.943465   \n",
              "8               -0.019308               -0.011243 -0.034140    -1.765211   \n",
              "9               -0.020193               -0.014021 -0.086762  -117.787981   \n",
              "\n",
              "   CLV_ratio  \n",
              "0   0.007013  \n",
              "1   0.000347  \n",
              "2   0.000565  \n",
              "3   0.008421  \n",
              "4   0.071644  \n",
              "5   0.012316  \n",
              "6   0.000374  \n",
              "7   0.021002  \n",
              "8   0.019341  \n",
              "9   0.000737  \n",
              "\n",
              "[10 rows x 195 columns]"
            ]
          },
          "execution_count": 80,
          "metadata": {},
          "output_type": "execute_result"
        }
      ],
      "source": [
        "train.head(10)\n"
      ]
    },
    {
      "cell_type": "code",
      "execution_count": 81,
      "metadata": {
        "gather": {
          "logged": 1711340458555
        },
        "jupyter": {
          "outputs_hidden": false,
          "source_hidden": false
        },
        "nteract": {
          "transient": {
            "deleting": false
          }
        }
      },
      "outputs": [],
      "source": [
        "train.to_csv('mod_train_newtrans.csv')"
      ]
    },
    {
      "cell_type": "code",
      "execution_count": 82,
      "metadata": {
        "gather": {
          "logged": 1711340516314
        },
        "jupyter": {
          "outputs_hidden": false,
          "source_hidden": false
        },
        "nteract": {
          "transient": {
            "deleting": false
          }
        }
      },
      "outputs": [],
      "source": [
        "test.to_csv('mod_test_newtrans.csv')"
      ]
    },
    {
      "cell_type": "code",
      "execution_count": 83,
      "metadata": {
        "gather": {
          "logged": 1711340588458
        },
        "jupyter": {
          "outputs_hidden": false,
          "source_hidden": false
        },
        "nteract": {
          "transient": {
            "deleting": false
          }
        }
      },
      "outputs": [
        {
          "data": {
            "text/html": [
              "<div>\n",
              "<style scoped>\n",
              "    .dataframe tbody tr th:only-of-type {\n",
              "        vertical-align: middle;\n",
              "    }\n",
              "\n",
              "    .dataframe tbody tr th {\n",
              "        vertical-align: top;\n",
              "    }\n",
              "\n",
              "    .dataframe thead th {\n",
              "        text-align: right;\n",
              "    }\n",
              "</style>\n",
              "<table border=\"1\" class=\"dataframe\">\n",
              "  <thead>\n",
              "    <tr style=\"text-align: right;\">\n",
              "      <th></th>\n",
              "      <th>first_active_month</th>\n",
              "      <th>card_id</th>\n",
              "      <th>feature_1</th>\n",
              "      <th>feature_2</th>\n",
              "      <th>feature_3</th>\n",
              "      <th>days</th>\n",
              "      <th>quarter</th>\n",
              "      <th>days_feature_1</th>\n",
              "      <th>days_feature_1_ratio</th>\n",
              "      <th>days_feature_2</th>\n",
              "      <th>...</th>\n",
              "      <th>price_max</th>\n",
              "      <th>duration_mean</th>\n",
              "      <th>duration_min</th>\n",
              "      <th>duration_max</th>\n",
              "      <th>amount_month_ratio_mean</th>\n",
              "      <th>amount_month_ratio_min</th>\n",
              "      <th>amount_month_ratio_max</th>\n",
              "      <th>new_CLV</th>\n",
              "      <th>hist_CLV</th>\n",
              "      <th>CLV_ratio</th>\n",
              "    </tr>\n",
              "  </thead>\n",
              "  <tbody>\n",
              "    <tr>\n",
              "      <th>0</th>\n",
              "      <td>2017-04-01</td>\n",
              "      <td>C_ID_0ab67a22ab</td>\n",
              "      <td>0.010479</td>\n",
              "      <td>0.014166</td>\n",
              "      <td>0.011428</td>\n",
              "      <td>306.0</td>\n",
              "      <td>2.0</td>\n",
              "      <td>3.206693</td>\n",
              "      <td>0.000034</td>\n",
              "      <td>4.334919</td>\n",
              "      <td>...</td>\n",
              "      <td>-0.009842</td>\n",
              "      <td>-90.240887</td>\n",
              "      <td>-110.699188</td>\n",
              "      <td>-11.219498</td>\n",
              "      <td>-0.015732</td>\n",
              "      <td>-0.019417</td>\n",
              "      <td>-0.001942</td>\n",
              "      <td>-0.070467</td>\n",
              "      <td>-36.495404</td>\n",
              "      <td>0.001931</td>\n",
              "    </tr>\n",
              "    <tr>\n",
              "      <th>1</th>\n",
              "      <td>2017-01-01</td>\n",
              "      <td>C_ID_130fd0cbdd</td>\n",
              "      <td>0.010610</td>\n",
              "      <td>0.014166</td>\n",
              "      <td>0.010283</td>\n",
              "      <td>396.0</td>\n",
              "      <td>1.0</td>\n",
              "      <td>4.201516</td>\n",
              "      <td>0.000027</td>\n",
              "      <td>5.609895</td>\n",
              "      <td>...</td>\n",
              "      <td>-0.026790</td>\n",
              "      <td>-95.492343</td>\n",
              "      <td>-108.972690</td>\n",
              "      <td>-13.877232</td>\n",
              "      <td>-0.017438</td>\n",
              "      <td>-0.019900</td>\n",
              "      <td>-0.002534</td>\n",
              "      <td>-0.722960</td>\n",
              "      <td>-51.792541</td>\n",
              "      <td>0.013959</td>\n",
              "    </tr>\n",
              "    <tr>\n",
              "      <th>2</th>\n",
              "      <td>2017-08-01</td>\n",
              "      <td>C_ID_b709037bc5</td>\n",
              "      <td>0.013145</td>\n",
              "      <td>0.011385</td>\n",
              "      <td>0.011428</td>\n",
              "      <td>184.0</td>\n",
              "      <td>3.0</td>\n",
              "      <td>2.418609</td>\n",
              "      <td>0.000071</td>\n",
              "      <td>2.094798</td>\n",
              "      <td>...</td>\n",
              "      <td>0.080000</td>\n",
              "      <td>12.580680</td>\n",
              "      <td>-93.324805</td>\n",
              "      <td>118.400000</td>\n",
              "      <td>0.002297</td>\n",
              "      <td>-0.017043</td>\n",
              "      <td>0.021622</td>\n",
              "      <td>0.002038</td>\n",
              "      <td>0.302176</td>\n",
              "      <td>0.006743</td>\n",
              "    </tr>\n",
              "    <tr>\n",
              "      <th>3</th>\n",
              "      <td>2017-12-01</td>\n",
              "      <td>C_ID_d27d835a9f</td>\n",
              "      <td>0.010610</td>\n",
              "      <td>0.011385</td>\n",
              "      <td>0.010283</td>\n",
              "      <td>62.0</td>\n",
              "      <td>4.0</td>\n",
              "      <td>0.657813</td>\n",
              "      <td>0.000171</td>\n",
              "      <td>0.705856</td>\n",
              "      <td>...</td>\n",
              "      <td>-0.020002</td>\n",
              "      <td>-81.424866</td>\n",
              "      <td>-103.877963</td>\n",
              "      <td>-26.642431</td>\n",
              "      <td>-0.014888</td>\n",
              "      <td>-0.018970</td>\n",
              "      <td>-0.004865</td>\n",
              "      <td>-0.777319</td>\n",
              "      <td>-4.810251</td>\n",
              "      <td>0.161596</td>\n",
              "    </tr>\n",
              "    <tr>\n",
              "      <th>4</th>\n",
              "      <td>2015-12-01</td>\n",
              "      <td>C_ID_2b5e3df5c2</td>\n",
              "      <td>0.013145</td>\n",
              "      <td>0.011385</td>\n",
              "      <td>0.011428</td>\n",
              "      <td>793.0</td>\n",
              "      <td>4.0</td>\n",
              "      <td>10.423680</td>\n",
              "      <td>0.000017</td>\n",
              "      <td>9.028126</td>\n",
              "      <td>...</td>\n",
              "      <td>0.266667</td>\n",
              "      <td>-48.417975</td>\n",
              "      <td>-107.363571</td>\n",
              "      <td>118.400000</td>\n",
              "      <td>-0.008857</td>\n",
              "      <td>-0.019606</td>\n",
              "      <td>0.021622</td>\n",
              "      <td>-0.114717</td>\n",
              "      <td>-68.576505</td>\n",
              "      <td>0.001673</td>\n",
              "    </tr>\n",
              "    <tr>\n",
              "      <th>...</th>\n",
              "      <td>...</td>\n",
              "      <td>...</td>\n",
              "      <td>...</td>\n",
              "      <td>...</td>\n",
              "      <td>...</td>\n",
              "      <td>...</td>\n",
              "      <td>...</td>\n",
              "      <td>...</td>\n",
              "      <td>...</td>\n",
              "      <td>...</td>\n",
              "      <td>...</td>\n",
              "      <td>...</td>\n",
              "      <td>...</td>\n",
              "      <td>...</td>\n",
              "      <td>...</td>\n",
              "      <td>...</td>\n",
              "      <td>...</td>\n",
              "      <td>...</td>\n",
              "      <td>...</td>\n",
              "      <td>...</td>\n",
              "      <td>...</td>\n",
              "    </tr>\n",
              "    <tr>\n",
              "      <th>123618</th>\n",
              "      <td>2017-10-01</td>\n",
              "      <td>C_ID_7a239d2eda</td>\n",
              "      <td>0.010610</td>\n",
              "      <td>0.008752</td>\n",
              "      <td>0.010283</td>\n",
              "      <td>123.0</td>\n",
              "      <td>4.0</td>\n",
              "      <td>1.305016</td>\n",
              "      <td>0.000086</td>\n",
              "      <td>1.076511</td>\n",
              "      <td>...</td>\n",
              "      <td>NaN</td>\n",
              "      <td>NaN</td>\n",
              "      <td>NaN</td>\n",
              "      <td>NaN</td>\n",
              "      <td>NaN</td>\n",
              "      <td>NaN</td>\n",
              "      <td>NaN</td>\n",
              "      <td>NaN</td>\n",
              "      <td>-48.872857</td>\n",
              "      <td>NaN</td>\n",
              "    </tr>\n",
              "    <tr>\n",
              "      <th>123619</th>\n",
              "      <td>2017-09-01</td>\n",
              "      <td>C_ID_75ace375ae</td>\n",
              "      <td>0.010479</td>\n",
              "      <td>0.011385</td>\n",
              "      <td>0.011428</td>\n",
              "      <td>153.0</td>\n",
              "      <td>3.0</td>\n",
              "      <td>1.603346</td>\n",
              "      <td>0.000068</td>\n",
              "      <td>1.741870</td>\n",
              "      <td>...</td>\n",
              "      <td>-inf</td>\n",
              "      <td>-101.131269</td>\n",
              "      <td>-109.307390</td>\n",
              "      <td>-82.549402</td>\n",
              "      <td>-0.018468</td>\n",
              "      <td>-0.019961</td>\n",
              "      <td>-0.015075</td>\n",
              "      <td>-0.143687</td>\n",
              "      <td>-0.464896</td>\n",
              "      <td>0.309073</td>\n",
              "    </tr>\n",
              "    <tr>\n",
              "      <th>123620</th>\n",
              "      <td>2016-09-01</td>\n",
              "      <td>C_ID_21d56d950c</td>\n",
              "      <td>0.013145</td>\n",
              "      <td>0.011385</td>\n",
              "      <td>0.011428</td>\n",
              "      <td>518.0</td>\n",
              "      <td>3.0</td>\n",
              "      <td>6.808911</td>\n",
              "      <td>0.000025</td>\n",
              "      <td>5.897313</td>\n",
              "      <td>...</td>\n",
              "      <td>NaN</td>\n",
              "      <td>NaN</td>\n",
              "      <td>NaN</td>\n",
              "      <td>NaN</td>\n",
              "      <td>NaN</td>\n",
              "      <td>NaN</td>\n",
              "      <td>NaN</td>\n",
              "      <td>NaN</td>\n",
              "      <td>-3.919737</td>\n",
              "      <td>NaN</td>\n",
              "    </tr>\n",
              "    <tr>\n",
              "      <th>123621</th>\n",
              "      <td>2017-06-01</td>\n",
              "      <td>C_ID_6c46fc5a9d</td>\n",
              "      <td>0.010610</td>\n",
              "      <td>0.011385</td>\n",
              "      <td>0.010283</td>\n",
              "      <td>245.0</td>\n",
              "      <td>2.0</td>\n",
              "      <td>2.599423</td>\n",
              "      <td>0.000043</td>\n",
              "      <td>2.789270</td>\n",
              "      <td>...</td>\n",
              "      <td>-0.076852</td>\n",
              "      <td>-98.306267</td>\n",
              "      <td>-112.780179</td>\n",
              "      <td>-47.955784</td>\n",
              "      <td>-0.016175</td>\n",
              "      <td>-0.018582</td>\n",
              "      <td>-0.007882</td>\n",
              "      <td>-0.290753</td>\n",
              "      <td>-31.130454</td>\n",
              "      <td>0.009340</td>\n",
              "    </tr>\n",
              "    <tr>\n",
              "      <th>123622</th>\n",
              "      <td>2016-10-01</td>\n",
              "      <td>C_ID_87e7979a5f</td>\n",
              "      <td>0.013145</td>\n",
              "      <td>0.011385</td>\n",
              "      <td>0.011428</td>\n",
              "      <td>488.0</td>\n",
              "      <td>4.0</td>\n",
              "      <td>6.414572</td>\n",
              "      <td>0.000027</td>\n",
              "      <td>5.555770</td>\n",
              "      <td>...</td>\n",
              "      <td>-0.002226</td>\n",
              "      <td>-81.512846</td>\n",
              "      <td>-90.552096</td>\n",
              "      <td>-2.141118</td>\n",
              "      <td>-0.014891</td>\n",
              "      <td>-0.016536</td>\n",
              "      <td>-0.000391</td>\n",
              "      <td>-0.006744</td>\n",
              "      <td>-14.372145</td>\n",
              "      <td>0.000469</td>\n",
              "    </tr>\n",
              "  </tbody>\n",
              "</table>\n",
              "<p>123623 rows × 193 columns</p>\n",
              "</div>"
            ],
            "text/plain": [
              "       first_active_month          card_id  feature_1  feature_2  feature_3  \\\n",
              "0              2017-04-01  C_ID_0ab67a22ab   0.010479   0.014166   0.011428   \n",
              "1              2017-01-01  C_ID_130fd0cbdd   0.010610   0.014166   0.010283   \n",
              "2              2017-08-01  C_ID_b709037bc5   0.013145   0.011385   0.011428   \n",
              "3              2017-12-01  C_ID_d27d835a9f   0.010610   0.011385   0.010283   \n",
              "4              2015-12-01  C_ID_2b5e3df5c2   0.013145   0.011385   0.011428   \n",
              "...                   ...              ...        ...        ...        ...   \n",
              "123618         2017-10-01  C_ID_7a239d2eda   0.010610   0.008752   0.010283   \n",
              "123619         2017-09-01  C_ID_75ace375ae   0.010479   0.011385   0.011428   \n",
              "123620         2016-09-01  C_ID_21d56d950c   0.013145   0.011385   0.011428   \n",
              "123621         2017-06-01  C_ID_6c46fc5a9d   0.010610   0.011385   0.010283   \n",
              "123622         2016-10-01  C_ID_87e7979a5f   0.013145   0.011385   0.011428   \n",
              "\n",
              "         days  quarter  days_feature_1  days_feature_1_ratio  days_feature_2  \\\n",
              "0       306.0      2.0        3.206693              0.000034        4.334919   \n",
              "1       396.0      1.0        4.201516              0.000027        5.609895   \n",
              "2       184.0      3.0        2.418609              0.000071        2.094798   \n",
              "3        62.0      4.0        0.657813              0.000171        0.705856   \n",
              "4       793.0      4.0       10.423680              0.000017        9.028126   \n",
              "...       ...      ...             ...                   ...             ...   \n",
              "123618  123.0      4.0        1.305016              0.000086        1.076511   \n",
              "123619  153.0      3.0        1.603346              0.000068        1.741870   \n",
              "123620  518.0      3.0        6.808911              0.000025        5.897313   \n",
              "123621  245.0      2.0        2.599423              0.000043        2.789270   \n",
              "123622  488.0      4.0        6.414572              0.000027        5.555770   \n",
              "\n",
              "        ...  price_max  duration_mean  duration_min  duration_max  \\\n",
              "0       ...  -0.009842     -90.240887   -110.699188    -11.219498   \n",
              "1       ...  -0.026790     -95.492343   -108.972690    -13.877232   \n",
              "2       ...   0.080000      12.580680    -93.324805    118.400000   \n",
              "3       ...  -0.020002     -81.424866   -103.877963    -26.642431   \n",
              "4       ...   0.266667     -48.417975   -107.363571    118.400000   \n",
              "...     ...        ...            ...           ...           ...   \n",
              "123618  ...        NaN            NaN           NaN           NaN   \n",
              "123619  ...       -inf    -101.131269   -109.307390    -82.549402   \n",
              "123620  ...        NaN            NaN           NaN           NaN   \n",
              "123621  ...  -0.076852     -98.306267   -112.780179    -47.955784   \n",
              "123622  ...  -0.002226     -81.512846    -90.552096     -2.141118   \n",
              "\n",
              "        amount_month_ratio_mean  amount_month_ratio_min  \\\n",
              "0                     -0.015732               -0.019417   \n",
              "1                     -0.017438               -0.019900   \n",
              "2                      0.002297               -0.017043   \n",
              "3                     -0.014888               -0.018970   \n",
              "4                     -0.008857               -0.019606   \n",
              "...                         ...                     ...   \n",
              "123618                      NaN                     NaN   \n",
              "123619                -0.018468               -0.019961   \n",
              "123620                      NaN                     NaN   \n",
              "123621                -0.016175               -0.018582   \n",
              "123622                -0.014891               -0.016536   \n",
              "\n",
              "        amount_month_ratio_max   new_CLV   hist_CLV  CLV_ratio  \n",
              "0                    -0.001942 -0.070467 -36.495404   0.001931  \n",
              "1                    -0.002534 -0.722960 -51.792541   0.013959  \n",
              "2                     0.021622  0.002038   0.302176   0.006743  \n",
              "3                    -0.004865 -0.777319  -4.810251   0.161596  \n",
              "4                     0.021622 -0.114717 -68.576505   0.001673  \n",
              "...                        ...       ...        ...        ...  \n",
              "123618                     NaN       NaN -48.872857        NaN  \n",
              "123619               -0.015075 -0.143687  -0.464896   0.309073  \n",
              "123620                     NaN       NaN  -3.919737        NaN  \n",
              "123621               -0.007882 -0.290753 -31.130454   0.009340  \n",
              "123622               -0.000391 -0.006744 -14.372145   0.000469  \n",
              "\n",
              "[123623 rows x 193 columns]"
            ]
          },
          "execution_count": 83,
          "metadata": {},
          "output_type": "execute_result"
        }
      ],
      "source": [
        "test"
      ]
    },
    {
      "cell_type": "markdown",
      "metadata": {
        "nteract": {
          "transient": {
            "deleting": false
          }
        }
      },
      "source": []
    },
    {
      "cell_type": "code",
      "execution_count": 6,
      "metadata": {
        "gather": {
          "logged": 1711459612669
        },
        "jupyter": {
          "outputs_hidden": false,
          "source_hidden": false
        },
        "nteract": {
          "transient": {
            "deleting": false
          }
        }
      },
      "outputs": [],
      "source": [
        "# Can start importing from here\n",
        "train = pd.read_csv('mod_train_newtrans.csv', index_col=[0])\n",
        "test = pd.read_csv('mod_test_newtrans.csv', index_col=[0])"
      ]
    },
    {
      "cell_type": "code",
      "execution_count": 7,
      "metadata": {
        "gather": {
          "logged": 1711459613515
        },
        "jupyter": {
          "outputs_hidden": false,
          "source_hidden": false
        },
        "nteract": {
          "transient": {
            "deleting": false
          }
        }
      },
      "outputs": [],
      "source": [
        "train = train.drop(['card_id', 'first_active_month'], axis = 1)\n",
        "test = test.drop(['card_id', 'first_active_month'], axis = 1)"
      ]
    },
    {
      "cell_type": "code",
      "execution_count": 8,
      "metadata": {
        "gather": {
          "logged": 1711459614292
        },
        "jupyter": {
          "outputs_hidden": false,
          "source_hidden": false
        },
        "nteract": {
          "transient": {
            "deleting": false
          }
        }
      },
      "outputs": [],
      "source": [
        "# Get the X and Y\n",
        "df_train_columns = [c for c in train.columns if c not in ['first_active_month', 'target', 'card_id', 'outliers',\n",
        "                  'hist_purchase_date_max', 'hist_purchase_date_min', 'hist_card_id_size',\n",
        "                  'new_purchase_date_max', 'new_purchase_date_min', 'new_card_id_size']] \n",
        "target = train['target']\n",
        "del train['target']"
      ]
    },
    {
      "cell_type": "code",
      "execution_count": 9,
      "metadata": {
        "gather": {
          "logged": 1711459615368
        },
        "jupyter": {
          "outputs_hidden": false,
          "source_hidden": false
        },
        "nteract": {
          "transient": {
            "deleting": false
          }
        }
      },
      "outputs": [
        {
          "data": {
            "text/plain": [
              "0        -0.8203\n",
              "1         0.3928\n",
              "2         0.6880\n",
              "3         0.1425\n",
              "4        -0.1598\n",
              "           ...  \n",
              "201912   -2.7400\n",
              "201913    0.3130\n",
              "201914    0.0935\n",
              "201915   -4.6760\n",
              "201916   -1.8590\n",
              "Name: target, Length: 201917, dtype: float64"
            ]
          },
          "execution_count": 9,
          "metadata": {},
          "output_type": "execute_result"
        }
      ],
      "source": [
        "target"
      ]
    },
    {
      "cell_type": "code",
      "execution_count": 10,
      "metadata": {
        "gather": {
          "logged": 1711459616624
        },
        "jupyter": {
          "outputs_hidden": false,
          "source_hidden": false
        },
        "nteract": {
          "transient": {
            "deleting": false
          }
        }
      },
      "outputs": [
        {
          "data": {
            "text/plain": [
              "(201917, 192)"
            ]
          },
          "execution_count": 10,
          "metadata": {},
          "output_type": "execute_result"
        }
      ],
      "source": [
        "train.shape"
      ]
    },
    {
      "cell_type": "code",
      "execution_count": 11,
      "metadata": {
        "gather": {
          "logged": 1711459617850
        },
        "jupyter": {
          "outputs_hidden": false,
          "source_hidden": false
        },
        "nteract": {
          "transient": {
            "deleting": false
          }
        }
      },
      "outputs": [
        {
          "data": {
            "text/html": [
              "<div>\n",
              "<style scoped>\n",
              "    .dataframe tbody tr th:only-of-type {\n",
              "        vertical-align: middle;\n",
              "    }\n",
              "\n",
              "    .dataframe tbody tr th {\n",
              "        vertical-align: top;\n",
              "    }\n",
              "\n",
              "    .dataframe thead th {\n",
              "        text-align: right;\n",
              "    }\n",
              "</style>\n",
              "<table border=\"1\" class=\"dataframe\">\n",
              "  <thead>\n",
              "    <tr style=\"text-align: right;\">\n",
              "      <th></th>\n",
              "      <th>feature_1</th>\n",
              "      <th>feature_2</th>\n",
              "      <th>feature_3</th>\n",
              "      <th>days</th>\n",
              "      <th>quarter</th>\n",
              "      <th>days_feature_1</th>\n",
              "      <th>days_feature_1_ratio</th>\n",
              "      <th>days_feature_2</th>\n",
              "      <th>days_feature_2_ratio</th>\n",
              "      <th>days_feature_3</th>\n",
              "      <th>...</th>\n",
              "      <th>price_max</th>\n",
              "      <th>duration_mean</th>\n",
              "      <th>duration_min</th>\n",
              "      <th>duration_max</th>\n",
              "      <th>amount_month_ratio_mean</th>\n",
              "      <th>amount_month_ratio_min</th>\n",
              "      <th>amount_month_ratio_max</th>\n",
              "      <th>new_CLV</th>\n",
              "      <th>hist_CLV</th>\n",
              "      <th>CLV_ratio</th>\n",
              "    </tr>\n",
              "  </thead>\n",
              "  <tbody>\n",
              "    <tr>\n",
              "      <th>0</th>\n",
              "      <td>0.013145</td>\n",
              "      <td>0.008752</td>\n",
              "      <td>0.011428</td>\n",
              "      <td>245</td>\n",
              "      <td>2</td>\n",
              "      <td>3.220431</td>\n",
              "      <td>0.000054</td>\n",
              "      <td>2.144270</td>\n",
              "      <td>0.000036</td>\n",
              "      <td>2.799743</td>\n",
              "      <td>...</td>\n",
              "      <td>0.503857</td>\n",
              "      <td>-89.998522</td>\n",
              "      <td>-107.974962</td>\n",
              "      <td>37.581592</td>\n",
              "      <td>-0.016532</td>\n",
              "      <td>-0.020034</td>\n",
              "      <td>0.006809</td>\n",
              "      <td>-4.133346</td>\n",
              "      <td>-589.360250</td>\n",
              "      <td>0.007013</td>\n",
              "    </tr>\n",
              "    <tr>\n",
              "      <th>1</th>\n",
              "      <td>0.010712</td>\n",
              "      <td>0.011385</td>\n",
              "      <td>0.010283</td>\n",
              "      <td>396</td>\n",
              "      <td>1</td>\n",
              "      <td>4.241790</td>\n",
              "      <td>0.000027</td>\n",
              "      <td>4.508370</td>\n",
              "      <td>0.000029</td>\n",
              "      <td>4.072003</td>\n",
              "      <td>...</td>\n",
              "      <td>0.008940</td>\n",
              "      <td>-100.408192</td>\n",
              "      <td>-111.124322</td>\n",
              "      <td>8.077148</td>\n",
              "      <td>-0.017919</td>\n",
              "      <td>-0.019869</td>\n",
              "      <td>0.001185</td>\n",
              "      <td>-0.349214</td>\n",
              "      <td>-1006.710678</td>\n",
              "      <td>0.000347</td>\n",
              "    </tr>\n",
              "    <tr>\n",
              "      <th>2</th>\n",
              "      <td>0.010610</td>\n",
              "      <td>0.008752</td>\n",
              "      <td>0.010283</td>\n",
              "      <td>549</td>\n",
              "      <td>3</td>\n",
              "      <td>5.824829</td>\n",
              "      <td>0.000019</td>\n",
              "      <td>4.804915</td>\n",
              "      <td>0.000016</td>\n",
              "      <td>5.645276</td>\n",
              "      <td>...</td>\n",
              "      <td>-inf</td>\n",
              "      <td>-101.243774</td>\n",
              "      <td>-105.144483</td>\n",
              "      <td>-61.761112</td>\n",
              "      <td>-0.018770</td>\n",
              "      <td>-0.019458</td>\n",
              "      <td>-0.011590</td>\n",
              "      <td>-0.009592</td>\n",
              "      <td>-16.975293</td>\n",
              "      <td>0.000565</td>\n",
              "    </tr>\n",
              "    <tr>\n",
              "      <th>3</th>\n",
              "      <td>0.010712</td>\n",
              "      <td>0.014166</td>\n",
              "      <td>0.010283</td>\n",
              "      <td>153</td>\n",
              "      <td>3</td>\n",
              "      <td>1.638874</td>\n",
              "      <td>0.000070</td>\n",
              "      <td>2.167460</td>\n",
              "      <td>0.000093</td>\n",
              "      <td>1.573274</td>\n",
              "      <td>...</td>\n",
              "      <td>0.058276</td>\n",
              "      <td>-97.272510</td>\n",
              "      <td>-109.170141</td>\n",
              "      <td>17.249805</td>\n",
              "      <td>-0.017807</td>\n",
              "      <td>-0.020032</td>\n",
              "      <td>0.003150</td>\n",
              "      <td>-0.440318</td>\n",
              "      <td>-52.288836</td>\n",
              "      <td>0.008421</td>\n",
              "    </tr>\n",
              "    <tr>\n",
              "      <th>4</th>\n",
              "      <td>0.008058</td>\n",
              "      <td>0.014166</td>\n",
              "      <td>0.010283</td>\n",
              "      <td>92</td>\n",
              "      <td>4</td>\n",
              "      <td>0.741381</td>\n",
              "      <td>0.000088</td>\n",
              "      <td>1.303309</td>\n",
              "      <td>0.000154</td>\n",
              "      <td>0.946021</td>\n",
              "      <td>...</td>\n",
              "      <td>0.089352</td>\n",
              "      <td>-82.625484</td>\n",
              "      <td>-109.920656</td>\n",
              "      <td>92.568652</td>\n",
              "      <td>-0.015162</td>\n",
              "      <td>-0.020077</td>\n",
              "      <td>0.017053</td>\n",
              "      <td>-9.715684</td>\n",
              "      <td>-135.611337</td>\n",
              "      <td>0.071644</td>\n",
              "    </tr>\n",
              "    <tr>\n",
              "      <th>...</th>\n",
              "      <td>...</td>\n",
              "      <td>...</td>\n",
              "      <td>...</td>\n",
              "      <td>...</td>\n",
              "      <td>...</td>\n",
              "      <td>...</td>\n",
              "      <td>...</td>\n",
              "      <td>...</td>\n",
              "      <td>...</td>\n",
              "      <td>...</td>\n",
              "      <td>...</td>\n",
              "      <td>...</td>\n",
              "      <td>...</td>\n",
              "      <td>...</td>\n",
              "      <td>...</td>\n",
              "      <td>...</td>\n",
              "      <td>...</td>\n",
              "      <td>...</td>\n",
              "      <td>...</td>\n",
              "      <td>...</td>\n",
              "      <td>...</td>\n",
              "    </tr>\n",
              "    <tr>\n",
              "      <th>49995</th>\n",
              "      <td>0.010479</td>\n",
              "      <td>0.008752</td>\n",
              "      <td>0.011428</td>\n",
              "      <td>427</td>\n",
              "      <td>4</td>\n",
              "      <td>4.474699</td>\n",
              "      <td>0.000025</td>\n",
              "      <td>3.737156</td>\n",
              "      <td>0.000020</td>\n",
              "      <td>4.879551</td>\n",
              "      <td>...</td>\n",
              "      <td>-1.321949</td>\n",
              "      <td>-107.008106</td>\n",
              "      <td>-109.459484</td>\n",
              "      <td>-99.146193</td>\n",
              "      <td>-0.019024</td>\n",
              "      <td>-0.019459</td>\n",
              "      <td>-0.017626</td>\n",
              "      <td>-0.084590</td>\n",
              "      <td>-32.377799</td>\n",
              "      <td>0.002613</td>\n",
              "    </tr>\n",
              "    <tr>\n",
              "      <th>49996</th>\n",
              "      <td>0.013145</td>\n",
              "      <td>0.008752</td>\n",
              "      <td>0.011428</td>\n",
              "      <td>580</td>\n",
              "      <td>3</td>\n",
              "      <td>7.623877</td>\n",
              "      <td>0.000023</td>\n",
              "      <td>5.076230</td>\n",
              "      <td>0.000015</td>\n",
              "      <td>6.627962</td>\n",
              "      <td>...</td>\n",
              "      <td>-0.996818</td>\n",
              "      <td>-102.134596</td>\n",
              "      <td>-106.971312</td>\n",
              "      <td>-73.107816</td>\n",
              "      <td>-0.018863</td>\n",
              "      <td>-0.019865</td>\n",
              "      <td>-0.013592</td>\n",
              "      <td>-0.151531</td>\n",
              "      <td>-353.487664</td>\n",
              "      <td>0.000429</td>\n",
              "    </tr>\n",
              "    <tr>\n",
              "      <th>49997</th>\n",
              "      <td>0.010712</td>\n",
              "      <td>0.011385</td>\n",
              "      <td>0.010283</td>\n",
              "      <td>92</td>\n",
              "      <td>4</td>\n",
              "      <td>0.985466</td>\n",
              "      <td>0.000116</td>\n",
              "      <td>1.047399</td>\n",
              "      <td>0.000124</td>\n",
              "      <td>0.946021</td>\n",
              "      <td>...</td>\n",
              "      <td>-0.000934</td>\n",
              "      <td>-85.674798</td>\n",
              "      <td>-104.518650</td>\n",
              "      <td>-0.483692</td>\n",
              "      <td>-0.015726</td>\n",
              "      <td>-0.019343</td>\n",
              "      <td>-0.000088</td>\n",
              "      <td>-2.552364</td>\n",
              "      <td>-33.155082</td>\n",
              "      <td>0.076983</td>\n",
              "    </tr>\n",
              "    <tr>\n",
              "      <th>49998</th>\n",
              "      <td>0.010479</td>\n",
              "      <td>0.008752</td>\n",
              "      <td>0.011428</td>\n",
              "      <td>276</td>\n",
              "      <td>2</td>\n",
              "      <td>2.892311</td>\n",
              "      <td>0.000038</td>\n",
              "      <td>2.415585</td>\n",
              "      <td>0.000032</td>\n",
              "      <td>3.153996</td>\n",
              "      <td>...</td>\n",
              "      <td>-0.244143</td>\n",
              "      <td>-100.659465</td>\n",
              "      <td>-109.389735</td>\n",
              "      <td>-18.066578</td>\n",
              "      <td>-0.018421</td>\n",
              "      <td>-0.020079</td>\n",
              "      <td>-0.003299</td>\n",
              "      <td>-0.039670</td>\n",
              "      <td>-97.377273</td>\n",
              "      <td>0.000407</td>\n",
              "    </tr>\n",
              "    <tr>\n",
              "      <th>49999</th>\n",
              "      <td>0.013145</td>\n",
              "      <td>0.008752</td>\n",
              "      <td>0.011428</td>\n",
              "      <td>488</td>\n",
              "      <td>4</td>\n",
              "      <td>6.414572</td>\n",
              "      <td>0.000027</td>\n",
              "      <td>4.271035</td>\n",
              "      <td>0.000018</td>\n",
              "      <td>5.576630</td>\n",
              "      <td>...</td>\n",
              "      <td>0.255566</td>\n",
              "      <td>-103.106044</td>\n",
              "      <td>-114.661132</td>\n",
              "      <td>19.934180</td>\n",
              "      <td>-0.016978</td>\n",
              "      <td>-0.018888</td>\n",
              "      <td>0.003276</td>\n",
              "      <td>-2.777920</td>\n",
              "      <td>-2730.669941</td>\n",
              "      <td>0.001017</td>\n",
              "    </tr>\n",
              "  </tbody>\n",
              "</table>\n",
              "<p>50000 rows × 185 columns</p>\n",
              "</div>"
            ],
            "text/plain": [
              "       feature_1  feature_2  feature_3  days  quarter  days_feature_1  \\\n",
              "0       0.013145   0.008752   0.011428   245        2        3.220431   \n",
              "1       0.010712   0.011385   0.010283   396        1        4.241790   \n",
              "2       0.010610   0.008752   0.010283   549        3        5.824829   \n",
              "3       0.010712   0.014166   0.010283   153        3        1.638874   \n",
              "4       0.008058   0.014166   0.010283    92        4        0.741381   \n",
              "...          ...        ...        ...   ...      ...             ...   \n",
              "49995   0.010479   0.008752   0.011428   427        4        4.474699   \n",
              "49996   0.013145   0.008752   0.011428   580        3        7.623877   \n",
              "49997   0.010712   0.011385   0.010283    92        4        0.985466   \n",
              "49998   0.010479   0.008752   0.011428   276        2        2.892311   \n",
              "49999   0.013145   0.008752   0.011428   488        4        6.414572   \n",
              "\n",
              "       days_feature_1_ratio  days_feature_2  days_feature_2_ratio  \\\n",
              "0                  0.000054        2.144270              0.000036   \n",
              "1                  0.000027        4.508370              0.000029   \n",
              "2                  0.000019        4.804915              0.000016   \n",
              "3                  0.000070        2.167460              0.000093   \n",
              "4                  0.000088        1.303309              0.000154   \n",
              "...                     ...             ...                   ...   \n",
              "49995              0.000025        3.737156              0.000020   \n",
              "49996              0.000023        5.076230              0.000015   \n",
              "49997              0.000116        1.047399              0.000124   \n",
              "49998              0.000038        2.415585              0.000032   \n",
              "49999              0.000027        4.271035              0.000018   \n",
              "\n",
              "       days_feature_3  ...  price_max  duration_mean  duration_min  \\\n",
              "0            2.799743  ...   0.503857     -89.998522   -107.974962   \n",
              "1            4.072003  ...   0.008940    -100.408192   -111.124322   \n",
              "2            5.645276  ...       -inf    -101.243774   -105.144483   \n",
              "3            1.573274  ...   0.058276     -97.272510   -109.170141   \n",
              "4            0.946021  ...   0.089352     -82.625484   -109.920656   \n",
              "...               ...  ...        ...            ...           ...   \n",
              "49995        4.879551  ...  -1.321949    -107.008106   -109.459484   \n",
              "49996        6.627962  ...  -0.996818    -102.134596   -106.971312   \n",
              "49997        0.946021  ...  -0.000934     -85.674798   -104.518650   \n",
              "49998        3.153996  ...  -0.244143    -100.659465   -109.389735   \n",
              "49999        5.576630  ...   0.255566    -103.106044   -114.661132   \n",
              "\n",
              "       duration_max  amount_month_ratio_mean  amount_month_ratio_min  \\\n",
              "0         37.581592                -0.016532               -0.020034   \n",
              "1          8.077148                -0.017919               -0.019869   \n",
              "2        -61.761112                -0.018770               -0.019458   \n",
              "3         17.249805                -0.017807               -0.020032   \n",
              "4         92.568652                -0.015162               -0.020077   \n",
              "...             ...                      ...                     ...   \n",
              "49995    -99.146193                -0.019024               -0.019459   \n",
              "49996    -73.107816                -0.018863               -0.019865   \n",
              "49997     -0.483692                -0.015726               -0.019343   \n",
              "49998    -18.066578                -0.018421               -0.020079   \n",
              "49999     19.934180                -0.016978               -0.018888   \n",
              "\n",
              "       amount_month_ratio_max   new_CLV     hist_CLV  CLV_ratio  \n",
              "0                    0.006809 -4.133346  -589.360250   0.007013  \n",
              "1                    0.001185 -0.349214 -1006.710678   0.000347  \n",
              "2                   -0.011590 -0.009592   -16.975293   0.000565  \n",
              "3                    0.003150 -0.440318   -52.288836   0.008421  \n",
              "4                    0.017053 -9.715684  -135.611337   0.071644  \n",
              "...                       ...       ...          ...        ...  \n",
              "49995               -0.017626 -0.084590   -32.377799   0.002613  \n",
              "49996               -0.013592 -0.151531  -353.487664   0.000429  \n",
              "49997               -0.000088 -2.552364   -33.155082   0.076983  \n",
              "49998               -0.003299 -0.039670   -97.377273   0.000407  \n",
              "49999                0.003276 -2.777920 -2730.669941   0.001017  \n",
              "\n",
              "[50000 rows x 185 columns]"
            ]
          },
          "execution_count": 11,
          "metadata": {},
          "output_type": "execute_result"
        }
      ],
      "source": [
        "train[df_train_columns][:50000]"
      ]
    },
    {
      "cell_type": "code",
      "execution_count": 13,
      "metadata": {
        "gather": {
          "logged": 1711459619366
        },
        "jupyter": {
          "outputs_hidden": false,
          "source_hidden": false
        },
        "nteract": {
          "transient": {
            "deleting": false
          }
        }
      },
      "outputs": [],
      "source": [
        "X_train, X_test, Y_train, Y_test = train_test_split(train[df_train_columns][:100000], target[:100000], test_size=0.2, random_state=42)"
      ]
    },
    {
      "cell_type": "markdown",
      "metadata": {
        "nteract": {
          "transient": {
            "deleting": false
          }
        }
      },
      "source": [
        "del X_train['target']\n",
        "del X_train['first_active_month']\n",
        "del X_train['card_id']"
      ]
    },
    {
      "cell_type": "markdown",
      "metadata": {
        "nteract": {
          "transient": {
            "deleting": false
          }
        }
      },
      "source": [
        "del X_test['target']\n",
        "del X_test['first_active_month']\n",
        "del X_test['card_id']"
      ]
    },
    {
      "cell_type": "markdown",
      "metadata": {
        "nteract": {
          "transient": {
            "deleting": false
          }
        }
      },
      "source": [
        "# Toggle\n",
        "\n",
        "# Standardize Features\n",
        "from sklearn.preprocessing import StandardScaler\n",
        "\n",
        "# Use StandardScaler to scale the training and validation data\n",
        "scaler = StandardScaler()\n",
        "\n",
        "#Fit the StandardScaler to the training data\n",
        "scaler.fit(X_train)\n",
        "\n",
        "# transform both the training and validation data\n",
        "X_train = scaler.transform(X_train)\n",
        "X_test = scaler.transform(X_test)"
      ]
    },
    {
      "cell_type": "code",
      "execution_count": 14,
      "metadata": {
        "gather": {
          "logged": 1711459620205
        },
        "jupyter": {
          "outputs_hidden": false,
          "source_hidden": false
        },
        "nteract": {
          "transient": {
            "deleting": false
          }
        }
      },
      "outputs": [
        {
          "name": "stdout",
          "output_type": "stream",
          "text": [
            "Model Performance\n",
            "MAE: 1.58\n",
            "RMSE: 3.76\n"
          ]
        }
      ],
      "source": [
        "from sklearn.metrics import mean_absolute_error, mean_squared_error\n",
        "\n",
        "# The baseline prediction is average of the training target labels\n",
        "baseline_preds = np.mean(Y_train)\n",
        "baseline_errors = [baseline_preds] * len(Y_test)\n",
        "# Calculate the baseline errors and display average baseline error\n",
        "mae = mean_absolute_error(Y_test, baseline_errors)\n",
        "rmse = mean_squared_error(Y_test, baseline_errors, squared=False)\n",
        "\n",
        "print('Model Performance')\n",
        "print('MAE:', round(mae, 2))\n",
        "print('RMSE:', round(rmse, 2))"
      ]
    },
    {
      "cell_type": "code",
      "execution_count": 15,
      "metadata": {
        "gather": {
          "logged": 1711459621224
        },
        "jupyter": {
          "outputs_hidden": false,
          "source_hidden": false
        },
        "nteract": {
          "transient": {
            "deleting": false
          }
        }
      },
      "outputs": [],
      "source": [
        "from sklearn.impute import SimpleImputer\n",
        "\n",
        "# Impute missing values with mean\n",
        "imputer = SimpleImputer(strategy='mean')\n",
        "X_train.replace([np.inf, -np.inf], np.nan, inplace=True)\n",
        "X_test.replace([np.inf, -np.inf], np.nan, inplace=True)\n",
        "X_train = imputer.fit_transform(X_train)\n",
        "X_test = imputer.fit_transform(X_test)"
      ]
    },
    {
      "cell_type": "code",
      "execution_count": 16,
      "metadata": {
        "gather": {
          "logged": 1711460277584
        },
        "jupyter": {
          "outputs_hidden": false,
          "source_hidden": false
        },
        "nteract": {
          "transient": {
            "deleting": false
          }
        }
      },
      "outputs": [
        {
          "data": {
            "text/html": [
              "<style>#sk-container-id-1 {color: black;background-color: white;}#sk-container-id-1 pre{padding: 0;}#sk-container-id-1 div.sk-toggleable {background-color: white;}#sk-container-id-1 label.sk-toggleable__label {cursor: pointer;display: block;width: 100%;margin-bottom: 0;padding: 0.3em;box-sizing: border-box;text-align: center;}#sk-container-id-1 label.sk-toggleable__label-arrow:before {content: \"▸\";float: left;margin-right: 0.25em;color: #696969;}#sk-container-id-1 label.sk-toggleable__label-arrow:hover:before {color: black;}#sk-container-id-1 div.sk-estimator:hover label.sk-toggleable__label-arrow:before {color: black;}#sk-container-id-1 div.sk-toggleable__content {max-height: 0;max-width: 0;overflow: hidden;text-align: left;background-color: #f0f8ff;}#sk-container-id-1 div.sk-toggleable__content pre {margin: 0.2em;color: black;border-radius: 0.25em;background-color: #f0f8ff;}#sk-container-id-1 input.sk-toggleable__control:checked~div.sk-toggleable__content {max-height: 200px;max-width: 100%;overflow: auto;}#sk-container-id-1 input.sk-toggleable__control:checked~label.sk-toggleable__label-arrow:before {content: \"▾\";}#sk-container-id-1 div.sk-estimator input.sk-toggleable__control:checked~label.sk-toggleable__label {background-color: #d4ebff;}#sk-container-id-1 div.sk-label input.sk-toggleable__control:checked~label.sk-toggleable__label {background-color: #d4ebff;}#sk-container-id-1 input.sk-hidden--visually {border: 0;clip: rect(1px 1px 1px 1px);clip: rect(1px, 1px, 1px, 1px);height: 1px;margin: -1px;overflow: hidden;padding: 0;position: absolute;width: 1px;}#sk-container-id-1 div.sk-estimator {font-family: monospace;background-color: #f0f8ff;border: 1px dotted black;border-radius: 0.25em;box-sizing: border-box;margin-bottom: 0.5em;}#sk-container-id-1 div.sk-estimator:hover {background-color: #d4ebff;}#sk-container-id-1 div.sk-parallel-item::after {content: \"\";width: 100%;border-bottom: 1px solid gray;flex-grow: 1;}#sk-container-id-1 div.sk-label:hover label.sk-toggleable__label {background-color: #d4ebff;}#sk-container-id-1 div.sk-serial::before {content: \"\";position: absolute;border-left: 1px solid gray;box-sizing: border-box;top: 0;bottom: 0;left: 50%;z-index: 0;}#sk-container-id-1 div.sk-serial {display: flex;flex-direction: column;align-items: center;background-color: white;padding-right: 0.2em;padding-left: 0.2em;position: relative;}#sk-container-id-1 div.sk-item {position: relative;z-index: 1;}#sk-container-id-1 div.sk-parallel {display: flex;align-items: stretch;justify-content: center;background-color: white;position: relative;}#sk-container-id-1 div.sk-item::before, #sk-container-id-1 div.sk-parallel-item::before {content: \"\";position: absolute;border-left: 1px solid gray;box-sizing: border-box;top: 0;bottom: 0;left: 50%;z-index: -1;}#sk-container-id-1 div.sk-parallel-item {display: flex;flex-direction: column;z-index: 1;position: relative;background-color: white;}#sk-container-id-1 div.sk-parallel-item:first-child::after {align-self: flex-end;width: 50%;}#sk-container-id-1 div.sk-parallel-item:last-child::after {align-self: flex-start;width: 50%;}#sk-container-id-1 div.sk-parallel-item:only-child::after {width: 0;}#sk-container-id-1 div.sk-dashed-wrapped {border: 1px dashed gray;margin: 0 0.4em 0.5em 0.4em;box-sizing: border-box;padding-bottom: 0.4em;background-color: white;}#sk-container-id-1 div.sk-label label {font-family: monospace;font-weight: bold;display: inline-block;line-height: 1.2em;}#sk-container-id-1 div.sk-label-container {text-align: center;}#sk-container-id-1 div.sk-container {/* jupyter's `normalize.less` sets `[hidden] { display: none; }` but bootstrap.min.css set `[hidden] { display: none !important; }` so we also need the `!important` here to be able to override the default hidden behavior on the sphinx rendered scikit-learn.org. See: https://github.com/scikit-learn/scikit-learn/issues/21755 */display: inline-block !important;position: relative;}#sk-container-id-1 div.sk-text-repr-fallback {display: none;}</style><div id=\"sk-container-id-1\" class=\"sk-top-container\"><div class=\"sk-text-repr-fallback\"><pre>RandomForestRegressor(n_estimators=50, random_state=42)</pre><b>In a Jupyter environment, please rerun this cell to show the HTML representation or trust the notebook. <br />On GitHub, the HTML representation is unable to render, please try loading this page with nbviewer.org.</b></div><div class=\"sk-container\" hidden><div class=\"sk-item\"><div class=\"sk-estimator sk-toggleable\"><input class=\"sk-toggleable__control sk-hidden--visually\" id=\"sk-estimator-id-1\" type=\"checkbox\" checked><label for=\"sk-estimator-id-1\" class=\"sk-toggleable__label sk-toggleable__label-arrow\">RandomForestRegressor</label><div class=\"sk-toggleable__content\"><pre>RandomForestRegressor(n_estimators=50, random_state=42)</pre></div></div></div></div></div>"
            ],
            "text/plain": [
              "RandomForestRegressor(n_estimators=50, random_state=42)"
            ]
          },
          "execution_count": 16,
          "metadata": {},
          "output_type": "execute_result"
        }
      ],
      "source": [
        "# Instantiate model with 1000 decision trees\n",
        "rf = RandomForestRegressor(n_estimators=50, random_state=42)\n",
        "\n",
        "# Train the model on training data\n",
        "rf.fit(X_train, Y_train)"
      ]
    },
    {
      "cell_type": "code",
      "execution_count": 17,
      "metadata": {
        "gather": {
          "logged": 1711460278640
        },
        "jupyter": {
          "outputs_hidden": false,
          "source_hidden": false
        },
        "nteract": {
          "transient": {
            "deleting": false
          }
        }
      },
      "outputs": [],
      "source": [
        "def evaluate_model(model, X_test, Y_test):\n",
        "    predictions = model.predict(X_test)\n",
        "    \n",
        "    mae = mean_absolute_error(Y_test, predictions)\n",
        "    rmse = mean_squared_error(Y_test, predictions, squared=False)\n",
        "    \n",
        "    print('Model Performance')\n",
        "    print('MAE:', round(mae, 2))\n",
        "    print('RMSE:', round(rmse, 2))"
      ]
    },
    {
      "cell_type": "code",
      "execution_count": 19,
      "metadata": {
        "gather": {
          "logged": 1711460292702
        },
        "jupyter": {
          "outputs_hidden": false,
          "source_hidden": false
        },
        "nteract": {
          "transient": {
            "deleting": false
          }
        }
      },
      "outputs": [
        {
          "name": "stdout",
          "output_type": "stream",
          "text": [
            "Model Performance\n",
            "MAE: 1.72\n",
            "RMSE: 3.71\n"
          ]
        }
      ],
      "source": [
        "# Assuming you have trained your random forest model (rf) and have the test data (X_test and Y_test)\n",
        "evaluate_model(rf, X_test, Y_test)"
      ]
    },
    {
      "cell_type": "code",
      "execution_count": 28,
      "metadata": {
        "gather": {
          "logged": 1711460759090
        },
        "jupyter": {
          "outputs_hidden": false,
          "source_hidden": false
        },
        "nteract": {
          "transient": {
            "deleting": false
          }
        }
      },
      "outputs": [
        {
          "data": {
            "text/plain": [
              "{'bootstrap': True,\n",
              " 'ccp_alpha': 0.0,\n",
              " 'criterion': 'squared_error',\n",
              " 'max_depth': None,\n",
              " 'max_features': 1.0,\n",
              " 'max_leaf_nodes': None,\n",
              " 'max_samples': None,\n",
              " 'min_impurity_decrease': 0.0,\n",
              " 'min_samples_leaf': 1,\n",
              " 'min_samples_split': 2,\n",
              " 'min_weight_fraction_leaf': 0.0,\n",
              " 'n_estimators': 50,\n",
              " 'n_jobs': None,\n",
              " 'oob_score': False,\n",
              " 'random_state': 42,\n",
              " 'verbose': 0,\n",
              " 'warm_start': False}"
            ]
          },
          "execution_count": 28,
          "metadata": {},
          "output_type": "execute_result"
        }
      ],
      "source": [
        "rf.get_params()"
      ]
    },
    {
      "cell_type": "code",
      "execution_count": 31,
      "metadata": {
        "gather": {
          "logged": 1711460919757
        },
        "jupyter": {
          "outputs_hidden": false,
          "source_hidden": false
        },
        "nteract": {
          "transient": {
            "deleting": false
          }
        }
      },
      "outputs": [
        {
          "name": "stdout",
          "output_type": "stream",
          "text": [
            "{'n_estimators': [30, 43, 56, 70, 83, 96, 110, 123, 136, 150], 'max_features': ['auto', 'sqrt'], 'max_depth': [10, 20, 30, 40, 50, 60, 70, 80, 90, 100, 110, None], 'min_samples_split': [2, 5, 10], 'min_samples_leaf': [1, 2, 4], 'bootstrap': [True, False]}\n"
          ]
        }
      ],
      "source": [
        "from sklearn.model_selection import RandomizedSearchCV\n",
        "\n",
        "# Number of trees in random forest\n",
        "n_estimators = [int(x) for x in np.linspace(start = 30, stop = 150, num = 10)]\n",
        "\n",
        "# Number of features to consider at every split\n",
        "max_features = ['auto', 'sqrt']\n",
        "\n",
        "# Maximum number of levels in tree\n",
        "max_depth = [int(x) for x in np.linspace(10, 110, num = 11)]\n",
        "max_depth.append(None)\n",
        "\n",
        "# Minimum number of samples required to split a node\n",
        "min_samples_split = [2, 5, 10]\n",
        "\n",
        "# Minimum number of samples required at each leaf node\n",
        "min_samples_leaf = [1, 2, 4]\n",
        "\n",
        "# Method of selecting samples for training each tree\n",
        "bootstrap = [True, False]\n",
        "\n",
        "# Create the random grid\n",
        "random_grid = {'n_estimators': n_estimators,\n",
        "               'max_features': max_features,\n",
        "               'max_depth': max_depth,\n",
        "               'min_samples_split': min_samples_split,\n",
        "               'min_samples_leaf': min_samples_leaf,\n",
        "               'bootstrap': bootstrap}\n",
        "print(random_grid)"
      ]
    },
    {
      "cell_type": "code",
      "execution_count": 32,
      "metadata": {
        "gather": {
          "logged": 1711445733165
        },
        "jupyter": {
          "outputs_hidden": false,
          "source_hidden": false
        },
        "nteract": {
          "transient": {
            "deleting": false
          }
        }
      },
      "outputs": [
        {
          "name": "stdout",
          "output_type": "stream",
          "text": [
            "Fitting 3 folds for each of 10 candidates, totalling 30 fits\n",
            "[CV] END bootstrap=True, max_depth=50, max_features=sqrt, min_samples_leaf=2, min_samples_split=10, n_estimators=30; total time=  15.7s\n",
            "[CV] END bootstrap=True, max_depth=50, max_features=sqrt, min_samples_leaf=2, min_samples_split=10, n_estimators=30; total time=  15.4s\n",
            "[CV] END bootstrap=True, max_depth=50, max_features=sqrt, min_samples_leaf=2, min_samples_split=10, n_estimators=30; total time=  15.7s\n",
            "[CV] END bootstrap=False, max_depth=90, max_features=sqrt, min_samples_leaf=4, min_samples_split=10, n_estimators=56; total time=  40.0s\n",
            "[CV] END bootstrap=False, max_depth=90, max_features=sqrt, min_samples_leaf=4, min_samples_split=10, n_estimators=56; total time=  40.8s\n",
            "[CV] END bootstrap=False, max_depth=90, max_features=sqrt, min_samples_leaf=4, min_samples_split=10, n_estimators=56; total time=  40.8s\n",
            "[CV] END bootstrap=False, max_depth=60, max_features=auto, min_samples_leaf=2, min_samples_split=2, n_estimators=56; total time=11.0min\n",
            "[CV] END bootstrap=False, max_depth=60, max_features=auto, min_samples_leaf=2, min_samples_split=2, n_estimators=56; total time=10.9min\n",
            "[CV] END bootstrap=False, max_depth=60, max_features=auto, min_samples_leaf=2, min_samples_split=2, n_estimators=56; total time=10.9min\n",
            "[CV] END bootstrap=True, max_depth=30, max_features=sqrt, min_samples_leaf=1, min_samples_split=5, n_estimators=110; total time= 1.0min\n",
            "[CV] END bootstrap=True, max_depth=30, max_features=sqrt, min_samples_leaf=1, min_samples_split=5, n_estimators=110; total time= 1.0min\n",
            "[CV] END bootstrap=True, max_depth=30, max_features=sqrt, min_samples_leaf=1, min_samples_split=5, n_estimators=110; total time= 1.0min\n",
            "[CV] END bootstrap=False, max_depth=80, max_features=auto, min_samples_leaf=1, min_samples_split=10, n_estimators=83; total time=16.5min\n",
            "[CV] END bootstrap=False, max_depth=80, max_features=auto, min_samples_leaf=1, min_samples_split=10, n_estimators=83; total time=16.7min\n",
            "[CV] END bootstrap=False, max_depth=80, max_features=auto, min_samples_leaf=1, min_samples_split=10, n_estimators=83; total time=16.5min\n",
            "[CV] END bootstrap=False, max_depth=60, max_features=sqrt, min_samples_leaf=1, min_samples_split=10, n_estimators=43; total time=  34.8s\n",
            "[CV] END bootstrap=False, max_depth=60, max_features=sqrt, min_samples_leaf=1, min_samples_split=10, n_estimators=43; total time=  35.7s\n",
            "[CV] END bootstrap=False, max_depth=60, max_features=sqrt, min_samples_leaf=1, min_samples_split=10, n_estimators=43; total time=  35.1s\n"
          ]
        },
        {
          "name": "stderr",
          "output_type": "stream",
          "text": [
            "Bad pipe message: %s [b'N\\xf1\\xd1V\\xd5\\xe5\\xed\\xf4\\xcd\\xe1\\xd0\\xc3']\n",
            "Bad pipe message: %s [b'\\x9b\\xf4\\xaa$M\\xfe\\x0f\\x05']\n",
            "Bad pipe message: %s [b\"\\x1aB\\x03N\\xef0\\x1a\\x0c\\x00\\x00\\xa6\\xc0,\\xc00\\x00\\xa3\\x00\\x9f\\xcc\\xa9\\xcc\\xa8\\xcc\\xaa\\xc0\\xaf\\xc0\\xad\\xc0\\xa3\\xc0\\x9f\\xc0]\\xc0a\\xc0W\\xc0S\\xc0+\\xc0/\\x00\\xa2\\x00\\x9e\\xc0\\xae\\xc0\\xac\\xc0\\xa2\\xc0\\x9e\\xc0\\\\\\xc0`\\xc0V\\xc0R\\xc0$\\xc0(\\x00k\\x00j\\xc0s\\xc0w\\x00\\xc4\\x00\\xc3\\xc0#\\xc0'\\x00g\\x00@\\xc0r\\xc0v\\x00\\xbe\\x00\\xbd\\xc0\\n\\xc0\\x14\\x009\\x008\\x00\\x88\\x00\\x87\\xc0\\t\\xc0\", b'3\\x002\\x00\\x9a\\x00\\x99\\x00E\\x00D\\xc0\\x07\\xc0\\x11\\xc0\\x08\\xc0']\n",
            "Bad pipe message: %s [b'\\x16\\x00\\x13\\x00\\x9d\\xc0\\xa1\\xc0\\x9d\\xc0Q\\x00\\x9c\\xc0\\xa0\\xc0\\x9c']\n",
            "Bad pipe message: %s [b'k\\x9f\\xc9qI\\xaf\\xd4\\x1f\\xaa\\x8a\\xaf\\x13\\xbcD\\xbbX\\xf3\\xc1\\x00\\x00>\\xc0\\x14\\xc0\\n\\x009\\x008\\x007\\x006\\xc0\\x0f\\xc0\\x05\\x005\\xc0\\x13\\xc0\\t\\x003\\x002\\x001\\x000\\xc0\\x0e\\xc0\\x04\\x00/\\x00\\x9a\\x00\\x99\\x00\\x98\\x00\\x97\\x00\\x96\\x00\\x07\\xc0\\x11\\xc0\\x07\\xc0\\x0c\\xc0\\x02\\x00\\x05\\x00\\x04\\x00\\xff\\x02\\x01\\x00\\x00C\\x00\\x00\\x00\\x0e\\x00\\x0c\\x00\\x00\\t127.0.0.1\\x00']\n",
            "Bad pipe message: %s [b'\\x04\\x03\\x00\\x01\\x02\\x00\\n\\x00\\x1c\\x00']\n",
            "Bad pipe message: %s [b'\\x17\\x00\\x19\\x00\\x1c\\x00\\x1b\\x00\\x18\\x00\\x1a\\x00\\x16\\x00\\x0e\\x00\\r\\x00\\x0b\\x00\\x0c\\x00\\t\\x00\\n']\n",
            "Bad pipe message: %s [b'\\xbd\\xe9V\\xf8\\xd3\\xe5\\xaf\\xca\\xbf\\x15:A\\xb2\\xb4\\x91\\x8e\\xe0\\x9e\\x00\\x00>\\xc0\\x14\\xc0\\n\\x009\\x008\\x007\\x006\\xc0\\x0f\\xc0\\x05\\x005\\xc0\\x13\\xc0\\t\\x003\\x002\\x001\\x000\\xc0\\x0e\\xc0\\x04\\x00/\\x00\\x9a\\x00\\x99\\x00\\x98\\x00\\x97\\x00\\x96\\x00\\x07\\xc0\\x11\\xc0\\x07\\xc0\\x0c\\xc0\\x02\\x00\\x05\\x00\\x04\\x00\\xff\\x02\\x01\\x00\\x00C\\x00\\x00\\x00\\x0e\\x00\\x0c']\n",
            "Bad pipe message: %s [b'gN\\xc8\\xbb\\xca\\x87\\xc6\\xf9;\\xfc@\\x82\\x1e\\xb2\\x05\\xda\\xbbX\\x00\\x00\\xa2\\xc0\\x14\\xc0\\n\\x009\\x008\\x007\\x006\\x00\\x88\\x00\\x87\\x00\\x86\\x00\\x85\\xc0\\x19\\x00:\\x00\\x89\\xc0\\x0f\\xc0\\x05\\x005\\x00\\x84\\xc0\\x13\\xc0\\t\\x003\\x002\\x001\\x000\\x00\\x9a\\x00\\x99\\x00\\x98\\x00\\x97\\x00E\\x00D\\x00C\\x00B\\xc0\\x18\\x004\\x00\\x9b\\x00F\\xc0\\x0e\\xc0\\x04\\x00/\\x00\\x96\\x00A\\x00\\x07\\xc0\\x11\\xc0\\x07\\xc0\\x16\\x00\\x18\\xc0\\x0c\\xc0\\x02\\x00\\x05\\x00\\x04\\xc0\\x12\\xc0\\x08\\x00\\x16\\x00\\x13\\x00\\x10\\x00\\r\\xc0\\x17\\x00\\x1b\\xc0\\r\\xc0\\x03\\x00\\n\\x00\\x15\\x00\\x12\\x00\\x0f\\x00\\x0c\\x00\\x1a\\x00\\t\\x00\\x14\\x00\\x11\\x00\\x19\\x00\\x08\\x00\\x06\\x00\\x17\\x00\\x03\\xc0\\x10\\xc0\\x06\\xc0\\x15\\xc0\\x0b\\xc0\\x01\\x00\\x02\\x00\\x01\\x00\\xff\\x02\\x01\\x00\\x00']\n",
            "Bad pipe message: %s [b'\\x00\\x00\\x0e\\x00\\x0c\\x00\\x00\\t127.0.0.1\\x00\\x0b\\x00\\x04\\x03\\x00\\x01\\x02\\x00\\n\\x00\\x1c\\x00\\x1a\\x00\\x17\\x00\\x19\\x00\\x1c\\x00\\x1b\\x00\\x18\\x00\\x1a\\x00\\x16\\x00\\x0e\\x00\\r\\x00\\x0b\\x00\\x0c\\x00\\t\\x00\\n\\x00#\\x00\\x00\\x00\\x0f\\x00\\x01\\x01']\n",
            "Bad pipe message: %s [b'ChG\\xe9\\xc3\\xb7NK\\xa8\\xf5\\x12L\\xbe#\\xe2\\x0cT\\x86\\x00\\x00>\\xc0\\x14\\xc0\\n\\x009\\x008']\n",
            "Bad pipe message: %s [b'OLyy_\\xe6\\xf4\\xe4\\x9e{-\\x96\\xc0^\\x9d ^\\x86\\x00\\x00\\xa2\\xc0\\x14\\xc0\\n\\x009\\x008\\x007\\x006\\x00\\x88\\x00\\x87\\x00\\x86\\x00\\x85\\xc0\\x19\\x00:\\x00\\x89\\xc0\\x0f\\xc0\\x05\\x005\\x00\\x84\\xc0\\x13\\xc0\\t\\x003\\x002\\x001\\x000\\x00\\x9a\\x00\\x99\\x00\\x98\\x00\\x97\\x00E\\x00D\\x00C\\x00B\\xc0\\x18\\x004\\x00\\x9b\\x00F\\xc0\\x0e\\xc0\\x04\\x00/\\x00\\x96\\x00A\\x00\\x07\\xc0\\x11\\xc0\\x07\\xc0\\x16\\x00\\x18\\xc0\\x0c\\xc0\\x02\\x00\\x05\\x00\\x04\\xc0\\x12\\xc0\\x08\\x00\\x16\\x00\\x13\\x00\\x10\\x00\\r\\xc0\\x17\\x00\\x1b\\xc0\\r\\xc0\\x03\\x00\\n\\x00\\x15\\x00\\x12\\x00\\x0f\\x00\\x0c\\x00\\x1a\\x00']\n",
            "Bad pipe message: %s [b'\\x14\\x00\\x11\\x00\\x19\\x00\\x08\\x00']\n",
            "Bad pipe message: %s [b'\\x17\\x00\\x03\\xc0\\x10']\n",
            "Bad pipe message: %s [b'\\xee0\\x99\\xa8\\x8eS\\x93l\\xa6;\\xdbi\\xbdK\\xa7\\xc4\\xf3\\x8f\\x00\\x00\\x86\\xc00\\xc0,\\xc0(\\xc0$\\xc0\\x14\\xc0\\n\\x00\\xa5\\x00\\xa3\\x00']\n",
            "Bad pipe message: %s [b\"\\x9f\\x00k\\x00j\\x00i\\x00h\\x009\\x008\\x007\\x006\\xc02\\xc0.\\xc0*\\xc0&\\xc0\\x0f\\xc0\\x05\\x00\\x9d\\x00=\\x005\\xc0/\\xc0+\\xc0'\\xc0#\\xc0\\x13\\xc0\\t\\x00\\xa4\\x00\\xa2\\x00\\xa0\\x00\\x9e\\x00g\\x00@\\x00?\\x00>\\x003\\x002\\x001\\x000\\xc01\\xc0-\\xc0)\\xc0%\\xc0\\x0e\\xc0\\x04\\x00\\x9c\\x00<\\x00/\\x00\\x9a\\x00\\x99\\x00\\x98\\x00\\x97\\x00\\x96\\x00\\x07\\xc0\\x11\\xc0\\x07\\xc0\\x0c\\xc0\\x02\\x00\\x05\\x00\\x04\\x00\\xff\\x02\\x01\\x00\\x00g\\x00\\x00\\x00\\x0e\\x00\\x0c\\x00\\x00\\t127.0.0.1\\x00\\x0b\\x00\\x04\\x03\\x00\\x01\\x02\\x00\\n\\x00\\x1c\\x00\\x1a\\x00\\x17\\x00\\x19\\x00\\x1c\\x00\\x1b\"]\n",
            "Bad pipe message: %s [b\"\\x94\\xdd\\x00 \\xd9\\xd8\\xa0\\xba_o/\\xf0\\xa6\\xd6voM\\x1f\\x00\\x00\\xf4\\xc00\\xc0,\\xc0(\\xc0$\\xc0\\x14\\xc0\\n\\x00\\xa5\\x00\\xa3\\x00\\xa1\\x00\\x9f\\x00k\\x00j\\x00i\\x00h\\x009\\x008\\x007\\x006\\x00\\x88\\x00\\x87\\x00\\x86\\x00\\x85\\xc0\\x19\\x00\\xa7\\x00m\\x00:\\x00\\x89\\xc02\\xc0.\\xc0*\\xc0&\\xc0\\x0f\\xc0\\x05\\x00\\x9d\\x00=\\x005\\x00\\x84\\xc0/\\xc0+\\xc0'\\xc0#\\xc0\\x13\\xc0\\t\\x00\\xa4\\x00\\xa2\\x00\\xa0\\x00\\x9e\\x00g\\x00@\\x00?\\x00>\\x003\\x002\\x001\\x000\\x00\\x9a\\x00\\x99\\x00\\x98\\x00\\x97\\x00E\\x00D\\x00C\\x00B\\xc0\\x18\\x00\\xa6\\x00l\\x004\\x00\\x9b\\x00F\\xc01\\xc0-\\xc0)\\xc0%\\xc0\\x0e\\xc0\\x04\\x00\\x9c\\x00<\\x00/\\x00\\x96\\x00A\\x00\\x07\\xc0\\x11\\xc0\\x07\\xc0\\x16\\x00\\x18\\xc0\\x0c\\xc0\\x02\\x00\\x05\\x00\\x04\\xc0\\x12\\xc0\\x08\\x00\\x16\\x00\\x13\\x00\\x10\\x00\\r\\xc0\\x17\\x00\\x1b\\xc0\\r\\xc0\\x03\\x00\\n\\x00\\x15\\x00\\x12\\x00\\x0f\\x00\\x0c\\x00\\x1a\\x00\\t\\x00\\x14\\x00\\x11\\x00\\x19\\x00\"]\n",
            "Bad pipe message: %s [b'\\x06\\x00\\x17\\x00\\x03\\xc0\\x10']\n"
          ]
        }
      ],
      "source": [
        "# Use the random grid to search for best hyperparameters\n",
        "\n",
        "# First create the base model to tune\n",
        "rf = RandomForestRegressor()\n",
        "\n",
        "# Random search of parameters, using 3 fold cross validation, \n",
        "# search across 100 different combinations, and use all available cores\n",
        "random_grid = RandomizedSearchCV(estimator = rf, param_distributions = random_grid, n_iter = 10, cv = 3, verbose=2, random_state=42)\n",
        "\n",
        "# Fit the random search model\n",
        "random_grid.fit(X_train, Y_train)"
      ]
    },
    {
      "cell_type": "code",
      "execution_count": null,
      "metadata": {
        "gather": {
          "logged": 1711460841439
        },
        "jupyter": {
          "outputs_hidden": false,
          "source_hidden": false
        },
        "nteract": {
          "transient": {
            "deleting": false
          }
        }
      },
      "outputs": [],
      "source": [
        "import pickle\n",
        " \n",
        "filename = 'model_random_grid_Mar.pkl'\n",
        "pickle.dump(rf, open(filename, 'wb'))"
      ]
    },
    {
      "cell_type": "code",
      "execution_count": null,
      "metadata": {
        "gather": {
          "logged": 1711460858280
        },
        "jupyter": {
          "outputs_hidden": false,
          "source_hidden": false
        },
        "nteract": {
          "transient": {
            "deleting": false
          }
        }
      },
      "outputs": [],
      "source": [
        "random_grid.best_params_"
      ]
    },
    {
      "cell_type": "code",
      "execution_count": null,
      "metadata": {
        "gather": {
          "logged": 1710747702205
        },
        "jupyter": {
          "outputs_hidden": false,
          "source_hidden": false
        },
        "nteract": {
          "transient": {
            "deleting": false
          }
        }
      },
      "outputs": [],
      "source": [
        "# Assuming you have trained your random forest model (rf) and have the test data (X_test and Y_test)\n",
        "evaluate_model(random_grid, X_test.iloc[:,top_10_indexes], Y_test)"
      ]
    },
    {
      "cell_type": "code",
      "execution_count": null,
      "metadata": {
        "gather": {
          "logged": 1710748162406
        },
        "jupyter": {
          "outputs_hidden": false,
          "source_hidden": false
        },
        "nteract": {
          "transient": {
            "deleting": false
          }
        }
      },
      "outputs": [],
      "source": [
        "from sklearn.model_selection import GridSearchCV\n",
        "# Create the parameter grid based on the results of random search \n",
        "param_grid = {\n",
        "    'bootstrap': [True],\n",
        "    'max_depth': [5,10,15],\n",
        "    'max_features': ['sqrt'],\n",
        "    'min_samples_leaf': [1,2,3],\n",
        "    'min_samples_split': [4,5,6],\n",
        "    'n_estimators': [175,200,225]\n",
        "}\n",
        "# Create a based model  \n",
        "rf = RandomForestRegressor()\n",
        "# Instantiate the grid search model\n",
        "grid_search = GridSearchCV(estimator = rf, param_grid = param_grid, \n",
        "                          cv = 3, n_jobs = -1, verbose = 2)"
      ]
    },
    {
      "cell_type": "code",
      "execution_count": null,
      "metadata": {
        "gather": {
          "logged": 1710750938627
        },
        "jupyter": {
          "outputs_hidden": false,
          "source_hidden": false
        },
        "nteract": {
          "transient": {
            "deleting": false
          }
        }
      },
      "outputs": [],
      "source": [
        "# Fit the random search model\n",
        "grid_search.fit(X_train.iloc[:,top_10_indexes], Y_train)"
      ]
    },
    {
      "cell_type": "code",
      "execution_count": null,
      "metadata": {
        "gather": {
          "logged": 1710750939420
        },
        "jupyter": {
          "outputs_hidden": false,
          "source_hidden": false
        },
        "nteract": {
          "transient": {
            "deleting": false
          }
        }
      },
      "outputs": [],
      "source": [
        "# Assuming you have trained your random forest model (rf) and have the test data (X_test and Y_test)\n",
        "evaluate_model(grid_search, X_test.iloc[:,top_10_indexes], Y_test)"
      ]
    },
    {
      "cell_type": "code",
      "execution_count": null,
      "metadata": {
        "gather": {
          "logged": 1710750939780
        },
        "jupyter": {
          "outputs_hidden": false,
          "source_hidden": false
        },
        "nteract": {
          "transient": {
            "deleting": false
          }
        }
      },
      "outputs": [],
      "source": [
        "grid_search.best_params_"
      ]
    },
    {
      "cell_type": "code",
      "execution_count": 47,
      "metadata": {
        "gather": {
          "logged": 1710750939962
        },
        "jupyter": {
          "outputs_hidden": false,
          "source_hidden": false
        },
        "nteract": {
          "transient": {
            "deleting": false
          }
        }
      },
      "outputs": [
        {
          "name": "stdout",
          "output_type": "stream",
          "text": [
            "[CV] END bootstrap=True, max_depth=15, max_features=sqrt, min_samples_leaf=3, min_samples_split=6, n_estimators=200; total time= 1.1min\n",
            "[CV] END bootstrap=True, max_depth=5, max_features=sqrt, min_samples_leaf=1, min_samples_split=4, n_estimators=175; total time=  20.8s\n",
            "[CV] END bootstrap=True, max_depth=5, max_features=sqrt, min_samples_leaf=1, min_samples_split=4, n_estimators=225; total time=  27.1s\n",
            "[CV] END bootstrap=True, max_depth=5, max_features=sqrt, min_samples_leaf=1, min_samples_split=5, n_estimators=175; total time=  21.5s\n",
            "[CV] END bootstrap=True, max_depth=5, max_features=sqrt, min_samples_leaf=1, min_samples_split=5, n_estimators=200; total time=  23.3s\n",
            "[CV] END bootstrap=True, max_depth=5, max_features=sqrt, min_samples_leaf=1, min_samples_split=5, n_estimators=225; total time=  27.0s\n",
            "[CV] END bootstrap=True, max_depth=5, max_features=sqrt, min_samples_leaf=1, min_samples_split=6, n_estimators=200; total time=  24.3s\n",
            "[CV] END bootstrap=True, max_depth=5, max_features=sqrt, min_samples_leaf=1, min_samples_split=6, n_estimators=225; total time=  28.2s\n",
            "[CV] END bootstrap=True, max_depth=5, max_features=sqrt, min_samples_leaf=2, min_samples_split=4, n_estimators=200; total time=  24.0s\n",
            "[CV] END bootstrap=True, max_depth=5, max_features=sqrt, min_samples_leaf=2, min_samples_split=4, n_estimators=225; total time=  26.4s\n",
            "[CV] END bootstrap=True, max_depth=5, max_features=sqrt, min_samples_leaf=2, min_samples_split=5, n_estimators=200; total time=  24.2s\n",
            "[CV] END bootstrap=True, max_depth=5, max_features=sqrt, min_samples_leaf=2, min_samples_split=5, n_estimators=225; total time=  26.7s\n",
            "[CV] END bootstrap=True, max_depth=5, max_features=sqrt, min_samples_leaf=2, min_samples_split=6, n_estimators=175; total time=  20.8s\n",
            "[CV] END bootstrap=True, max_depth=5, max_features=sqrt, min_samples_leaf=2, min_samples_split=6, n_estimators=225; total time=  26.7s\n",
            "[CV] END bootstrap=True, max_depth=5, max_features=sqrt, min_samples_leaf=3, min_samples_split=4, n_estimators=175; total time=  21.5s\n",
            "[CV] END bootstrap=True, max_depth=5, max_features=sqrt, min_samples_leaf=3, min_samples_split=4, n_estimators=200; total time=  23.8s\n",
            "[CV] END bootstrap=True, max_depth=5, max_features=sqrt, min_samples_leaf=3, min_samples_split=5, n_estimators=175; total time=  20.3s\n",
            "[CV] END bootstrap=True, max_depth=5, max_features=sqrt, min_samples_leaf=3, min_samples_split=5, n_estimators=200; total time=  23.6s\n",
            "[CV] END bootstrap=True, max_depth=5, max_features=sqrt, min_samples_leaf=3, min_samples_split=5, n_estimators=225; total time=  26.5s\n",
            "[CV] END bootstrap=True, max_depth=5, max_features=sqrt, min_samples_leaf=3, min_samples_split=6, n_estimators=200; total time=  24.3s\n",
            "[CV] END bootstrap=True, max_depth=5, max_features=sqrt, min_samples_leaf=3, min_samples_split=6, n_estimators=225; total time=  26.0s\n",
            "[CV] END bootstrap=True, max_depth=10, max_features=sqrt, min_samples_leaf=1, min_samples_split=4, n_estimators=175; total time=  40.3s\n",
            "[CV] END bootstrap=True, max_depth=10, max_features=sqrt, min_samples_leaf=1, min_samples_split=4, n_estimators=225; total time=  50.0s\n",
            "[CV] END bootstrap=True, max_depth=10, max_features=sqrt, min_samples_leaf=1, min_samples_split=5, n_estimators=175; total time=  39.4s\n",
            "[CV] END bootstrap=True, max_depth=10, max_features=sqrt, min_samples_leaf=1, min_samples_split=5, n_estimators=200; total time=  46.0s\n",
            "[CV] END bootstrap=True, max_depth=10, max_features=sqrt, min_samples_leaf=1, min_samples_split=6, n_estimators=175; total time=  39.3s\n",
            "[CV] END bootstrap=True, max_depth=10, max_features=sqrt, min_samples_leaf=1, min_samples_split=6, n_estimators=175; total time=  39.9s\n",
            "[CV] END bootstrap=True, max_depth=10, max_features=sqrt, min_samples_leaf=1, min_samples_split=6, n_estimators=225; total time=  52.0s\n",
            "[CV] END bootstrap=True, max_depth=10, max_features=sqrt, min_samples_leaf=2, min_samples_split=4, n_estimators=175; total time=  39.5s\n",
            "[CV] END bootstrap=True, max_depth=10, max_features=sqrt, min_samples_leaf=2, min_samples_split=4, n_estimators=200; total time=  46.0s\n",
            "[CV] END bootstrap=True, max_depth=10, max_features=sqrt, min_samples_leaf=2, min_samples_split=5, n_estimators=175; total time=  41.0s\n",
            "[CV] END bootstrap=True, max_depth=10, max_features=sqrt, min_samples_leaf=2, min_samples_split=5, n_estimators=200; total time=  45.0s\n",
            "[CV] END bootstrap=True, max_depth=10, max_features=sqrt, min_samples_leaf=2, min_samples_split=5, n_estimators=225; total time=  49.9s\n",
            "[CV] END bootstrap=True, max_depth=10, max_features=sqrt, min_samples_leaf=2, min_samples_split=6, n_estimators=200; total time=  45.9s\n",
            "[CV] END bootstrap=True, max_depth=10, max_features=sqrt, min_samples_leaf=2, min_samples_split=6, n_estimators=225; total time=  50.7s\n",
            "[CV] END bootstrap=True, max_depth=10, max_features=sqrt, min_samples_leaf=3, min_samples_split=4, n_estimators=200; total time=  45.9s\n",
            "[CV] END bootstrap=True, max_depth=10, max_features=sqrt, min_samples_leaf=3, min_samples_split=4, n_estimators=225; total time=  50.8s\n",
            "[CV] END bootstrap=True, max_depth=10, max_features=sqrt, min_samples_leaf=3, min_samples_split=5, n_estimators=200; total time=  45.8s\n",
            "[CV] END bootstrap=True, max_depth=10, max_features=sqrt, min_samples_leaf=3, min_samples_split=5, n_estimators=225; total time=  50.2s\n",
            "[CV] END bootstrap=True, max_depth=10, max_features=sqrt, min_samples_leaf=3, min_samples_split=6, n_estimators=175; total time=  39.5s\n",
            "[CV] END bootstrap=True, max_depth=10, max_features=sqrt, min_samples_leaf=3, min_samples_split=6, n_estimators=225; total time=  51.0s\n",
            "[CV] END bootstrap=True, max_depth=15, max_features=sqrt, min_samples_leaf=1, min_samples_split=4, n_estimators=175; total time=  57.6s\n",
            "[CV] END bootstrap=True, max_depth=15, max_features=sqrt, min_samples_leaf=1, min_samples_split=4, n_estimators=200; total time= 1.1min\n",
            "[CV] END bootstrap=True, max_depth=15, max_features=sqrt, min_samples_leaf=1, min_samples_split=5, n_estimators=175; total time=  56.3s\n",
            "[CV] END bootstrap=True, max_depth=15, max_features=sqrt, min_samples_leaf=1, min_samples_split=5, n_estimators=200; total time= 1.1min\n",
            "[CV] END bootstrap=True, max_depth=15, max_features=sqrt, min_samples_leaf=1, min_samples_split=5, n_estimators=225; total time= 1.2min\n",
            "[CV] END bootstrap=True, max_depth=15, max_features=sqrt, min_samples_leaf=1, min_samples_split=6, n_estimators=200; total time= 1.1min\n",
            "[CV] END bootstrap=True, max_depth=15, max_features=sqrt, min_samples_leaf=1, min_samples_split=6, n_estimators=225; total time= 1.2min\n",
            "[CV] END bootstrap=True, max_depth=15, max_features=sqrt, min_samples_leaf=2, min_samples_split=4, n_estimators=200; total time= 1.1min\n",
            "[CV] END bootstrap=True, max_depth=15, max_features=sqrt, min_samples_leaf=2, min_samples_split=4, n_estimators=225; total time= 1.2min\n",
            "[CV] END bootstrap=True, max_depth=15, max_features=sqrt, min_samples_leaf=2, min_samples_split=5, n_estimators=175; total time=  56.5s\n",
            "[CV] END bootstrap=True, max_depth=15, max_features=sqrt, min_samples_leaf=2, min_samples_split=5, n_estimators=225; total time= 1.2min\n",
            "[CV] END bootstrap=True, max_depth=15, max_features=sqrt, min_samples_leaf=2, min_samples_split=6, n_estimators=175; total time=  56.6s\n",
            "[CV] END bootstrap=True, max_depth=15, max_features=sqrt, min_samples_leaf=2, min_samples_split=6, n_estimators=200; total time= 1.1min\n",
            "[CV] END bootstrap=True, max_depth=15, max_features=sqrt, min_samples_leaf=3, min_samples_split=4, n_estimators=175; total time=  56.4s\n",
            "[CV] END bootstrap=True, max_depth=15, max_features=sqrt, min_samples_leaf=3, min_samples_split=4, n_estimators=200; total time= 1.1min\n",
            "[CV] END bootstrap=True, max_depth=15, max_features=sqrt, min_samples_leaf=3, min_samples_split=4, n_estimators=225; total time= 1.2min\n",
            "[CV] END bootstrap=True, max_depth=15, max_features=sqrt, min_samples_leaf=3, min_samples_split=5, n_estimators=200; total time= 1.1min\n",
            "[CV] END bootstrap=True, max_depth=15, max_features=sqrt, min_samples_leaf=3, min_samples_split=5, n_estimators=225; total time= 1.2min\n",
            "[CV] END bootstrap=True, max_depth=15, max_features=sqrt, min_samples_leaf=3, min_samples_split=6, n_estimators=175; total time=  56.5s\n",
            "[CV] END bootstrap=True, max_depth=15, max_features=sqrt, min_samples_leaf=3, min_samples_split=6, n_estimators=225; total time= 1.2min\n",
            "[CV] END bootstrap=True, max_depth=15, max_features=sqrt, min_samples_leaf=3, min_samples_split=6, n_estimators=225; total time= 1.1min\n",
            "[CV] END bootstrap=True, max_depth=15, max_features=sqrt, min_samples_leaf=3, min_samples_split=6, n_estimators=225; total time=  56.5s\n"
          ]
        }
      ],
      "source": [
        "import pickle\n",
        " \n",
        "filename = 'grid_search_model.pkl'\n",
        "pickle.dump(grid_search, open(filename, 'wb'))"
      ]
    },
    {
      "cell_type": "code",
      "execution_count": null,
      "metadata": {
        "jupyter": {
          "outputs_hidden": false,
          "source_hidden": false
        },
        "nteract": {
          "transient": {
            "deleting": false
          }
        }
      },
      "outputs": [],
      "source": []
    }
  ],
  "metadata": {
    "kernel_info": {
      "name": "python310-sdkv2"
    },
    "kernelspec": {
      "display_name": "Python 3.10 - SDK v2",
      "language": "python",
      "name": "python310-sdkv2"
    },
    "language_info": {
      "codemirror_mode": {
        "name": "ipython",
        "version": 3
      },
      "file_extension": ".py",
      "mimetype": "text/x-python",
      "name": "python",
      "nbconvert_exporter": "python",
      "pygments_lexer": "ipython3",
      "version": "3.10.11"
    },
    "microsoft": {
      "host": {
        "AzureML": {
          "notebookHasBeenCompleted": true
        }
      },
      "ms_spell_check": {
        "ms_spell_check_language": "en"
      }
    },
    "nteract": {
      "version": "nteract-front-end@1.0.0"
    }
  },
  "nbformat": 4,
  "nbformat_minor": 2
}
